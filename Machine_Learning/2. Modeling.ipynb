{
 "cells": [
  {
   "cell_type": "markdown",
   "metadata": {},
   "source": [
    "#### Import Library & Load Data"
   ]
  },
  {
   "cell_type": "code",
   "execution_count": 26,
   "metadata": {},
   "outputs": [],
   "source": [
    "import time\n",
    "from tqdm import tqdm\n",
    "import pandas as pd\n",
    "import numpy as np\n",
    "import warnings\n",
    "warnings.filterwarnings('ignore')\n",
    "import seaborn as sns\n",
    "import matplotlib.pyplot as plt\n",
    "%matplotlib inline\n",
    "\n",
    "from matplotlib import font_manager\n",
    "font_fname = 'C:/Windows/Fonts/malgun.ttf'\n",
    "font_family = font_manager.FontProperties(fname=font_fname).get_name()\n",
    "plt.rcParams[\"font.family\"] = font_family\n",
    "\n",
    "import optuna\n",
    "from imblearn.over_sampling import SMOTE\n",
    "from sklearn.model_selection import train_test_split, cross_val_score, StratifiedKFold, RandomizedSearchCV\n",
    "from sklearn.metrics import roc_auc_score, accuracy_score , mean_squared_error, r2_score\n",
    "from sklearn.ensemble import RandomForestClassifier\n",
    "from lightgbm import LGBMClassifier\n",
    "from xgboost import XGBClassifier\n",
    "from catboost import CatBoostClassifier\n",
    "from sklearn.linear_model import LogisticRegression\n",
    "from sklearn.preprocessing import PolynomialFeatures\n",
    "from vecstack import StackingTransformer"
   ]
  },
  {
   "cell_type": "code",
   "execution_count": 27,
   "metadata": {},
   "outputs": [
    {
     "data": {
      "text/plain": [
       "(1531, 12)"
      ]
     },
     "execution_count": 27,
     "metadata": {},
     "output_type": "execute_result"
    }
   ],
   "source": [
    "data = pd.read_csv('./data/Elderly.csv')\n",
    "data.shape"
   ]
  },
  {
   "cell_type": "code",
   "execution_count": 28,
   "metadata": {},
   "outputs": [
    {
     "data": {
      "text/html": [
       "<div>\n",
       "<style scoped>\n",
       "    .dataframe tbody tr th:only-of-type {\n",
       "        vertical-align: middle;\n",
       "    }\n",
       "\n",
       "    .dataframe tbody tr th {\n",
       "        vertical-align: top;\n",
       "    }\n",
       "\n",
       "    .dataframe thead th {\n",
       "        text-align: right;\n",
       "    }\n",
       "</style>\n",
       "<table border=\"1\" class=\"dataframe\">\n",
       "  <thead>\n",
       "    <tr style=\"text-align: right;\">\n",
       "      <th></th>\n",
       "      <th>Gender</th>\n",
       "      <th>Age</th>\n",
       "      <th>Religion</th>\n",
       "      <th>Job</th>\n",
       "      <th>Married</th>\n",
       "      <th>Edu</th>\n",
       "      <th>Health</th>\n",
       "      <th>Self_conf</th>\n",
       "      <th>Earn</th>\n",
       "      <th>Activity</th>\n",
       "      <th>target</th>\n",
       "      <th>Cluster</th>\n",
       "    </tr>\n",
       "  </thead>\n",
       "  <tbody>\n",
       "    <tr>\n",
       "      <th>0</th>\n",
       "      <td>0</td>\n",
       "      <td>73</td>\n",
       "      <td>3</td>\n",
       "      <td>1.0</td>\n",
       "      <td>3</td>\n",
       "      <td>0</td>\n",
       "      <td>1</td>\n",
       "      <td>1</td>\n",
       "      <td>0</td>\n",
       "      <td>0</td>\n",
       "      <td>1</td>\n",
       "      <td>1</td>\n",
       "    </tr>\n",
       "    <tr>\n",
       "      <th>1</th>\n",
       "      <td>0</td>\n",
       "      <td>79</td>\n",
       "      <td>2</td>\n",
       "      <td>2.0</td>\n",
       "      <td>1</td>\n",
       "      <td>1</td>\n",
       "      <td>2</td>\n",
       "      <td>1</td>\n",
       "      <td>0</td>\n",
       "      <td>3</td>\n",
       "      <td>5</td>\n",
       "      <td>3</td>\n",
       "    </tr>\n",
       "    <tr>\n",
       "      <th>2</th>\n",
       "      <td>1</td>\n",
       "      <td>77</td>\n",
       "      <td>3</td>\n",
       "      <td>1.0</td>\n",
       "      <td>1</td>\n",
       "      <td>0</td>\n",
       "      <td>2</td>\n",
       "      <td>1</td>\n",
       "      <td>2</td>\n",
       "      <td>0</td>\n",
       "      <td>3</td>\n",
       "      <td>0</td>\n",
       "    </tr>\n",
       "    <tr>\n",
       "      <th>3</th>\n",
       "      <td>0</td>\n",
       "      <td>72</td>\n",
       "      <td>1</td>\n",
       "      <td>2.0</td>\n",
       "      <td>3</td>\n",
       "      <td>0</td>\n",
       "      <td>2</td>\n",
       "      <td>1</td>\n",
       "      <td>0</td>\n",
       "      <td>0</td>\n",
       "      <td>1</td>\n",
       "      <td>3</td>\n",
       "    </tr>\n",
       "    <tr>\n",
       "      <th>4</th>\n",
       "      <td>0</td>\n",
       "      <td>72</td>\n",
       "      <td>2</td>\n",
       "      <td>1.0</td>\n",
       "      <td>3</td>\n",
       "      <td>1</td>\n",
       "      <td>1</td>\n",
       "      <td>1</td>\n",
       "      <td>0</td>\n",
       "      <td>0</td>\n",
       "      <td>1</td>\n",
       "      <td>0</td>\n",
       "    </tr>\n",
       "  </tbody>\n",
       "</table>\n",
       "</div>"
      ],
      "text/plain": [
       "   Gender  Age  Religion  Job  Married  Edu  Health  Self_conf  Earn  \\\n",
       "0       0   73         3  1.0        3    0       1          1     0   \n",
       "1       0   79         2  2.0        1    1       2          1     0   \n",
       "2       1   77         3  1.0        1    0       2          1     2   \n",
       "3       0   72         1  2.0        3    0       2          1     0   \n",
       "4       0   72         2  1.0        3    1       1          1     0   \n",
       "\n",
       "   Activity  target  Cluster  \n",
       "0         0       1        1  \n",
       "1         3       5        3  \n",
       "2         0       3        0  \n",
       "3         0       1        3  \n",
       "4         0       1        0  "
      ]
     },
     "execution_count": 28,
     "metadata": {},
     "output_type": "execute_result"
    }
   ],
   "source": [
    "data.head()"
   ]
  },
  {
   "cell_type": "markdown",
   "metadata": {},
   "source": [
    "#### EDA"
   ]
  },
  {
   "cell_type": "code",
   "execution_count": 29,
   "metadata": {},
   "outputs": [
    {
     "data": {
      "image/png": "[encoded data removed]",
      "text/plain": [
       "<Figure size 1440x720 with 10 Axes>"
      ]
     },
     "metadata": {
      "needs_background": "light"
     },
     "output_type": "display_data"
    }
   ],
   "source": [
    "cols = data.drop(['target','Cluster'], axis=1).columns\n",
    "temp = data[data['target']==1]\n",
    "\n",
    "fig, axes = plt.subplots(2, 5, figsize=(20, 10))\n",
    "\n",
    "for idx, col in enumerate(cols[:5]):\n",
    "    if col == 'Age':\n",
    "        sns.scatterplot(temp[col].value_counts().index, temp[col].value_counts().values, ax=axes[0,idx])\n",
    "    else:\n",
    "        sns.barplot(temp[col].value_counts().index, temp[col].value_counts().values, ax=axes[0,idx])\n",
    "    axes[0,idx].set_title(f'Distribution of {col} in Target 1')\n",
    "\n",
    "for idx, col in enumerate(cols[5:]):\n",
    "    sns.barplot(temp[col].value_counts().index, temp[col].value_counts().values, ax=axes[1,idx])\n",
    "    axes[1,idx].set_title(f'Distribution of {col} in Target 1')\n",
    "\n",
    "plt.tight_layout()\n",
    "plt.show()"
   ]
  },
  {
   "cell_type": "code",
   "execution_count": 30,
   "metadata": {},
   "outputs": [
    {
     "data": {
      "image/png": "[encoded data removed]",
      "text/plain": [
       "<Figure size 1440x720 with 10 Axes>"
      ]
     },
     "metadata": {
      "needs_background": "light"
     },
     "output_type": "display_data"
    }
   ],
   "source": [
    "temp = data[data['target']==2]\n",
    "\n",
    "fig, axes = plt.subplots(2, 5, figsize=(20, 10))\n",
    "\n",
    "for idx, col in enumerate(cols[:5]):\n",
    "    if col == 'Age':\n",
    "        sns.scatterplot(temp[col].value_counts().index, temp[col].value_counts().values, ax=axes[0,idx])\n",
    "    else:\n",
    "        sns.barplot(temp[col].value_counts().index, temp[col].value_counts().values, ax=axes[0,idx])\n",
    "    axes[0,idx].set_title(f'Distribution of {col} in Target 2')\n",
    "\n",
    "for idx, col in enumerate(cols[5:]):\n",
    "    sns.barplot(temp[col].value_counts().index, temp[col].value_counts().values, ax=axes[1,idx])\n",
    "    axes[1,idx].set_title(f'Distribution of {col} in Target 2')\n",
    "\n",
    "plt.tight_layout()\n",
    "plt.show()"
   ]
  },
  {
   "cell_type": "code",
   "execution_count": 31,
   "metadata": {},
   "outputs": [
    {
     "data": {
      "image/png": "[encoded data removed]",
      "text/plain": [
       "<Figure size 1440x720 with 10 Axes>"
      ]
     },
     "metadata": {
      "needs_background": "light"
     },
     "output_type": "display_data"
    }
   ],
   "source": [
    "temp = data[data['target']==3]\n",
    "\n",
    "fig, axes = plt.subplots(2, 5, figsize=(20, 10))\n",
    "\n",
    "for idx, col in enumerate(cols[:5]):\n",
    "    if col == 'Age':\n",
    "        sns.scatterplot(temp[col].value_counts().index, temp[col].value_counts().values, ax=axes[0,idx])\n",
    "    else:\n",
    "        sns.barplot(temp[col].value_counts().index, temp[col].value_counts().values, ax=axes[0,idx])\n",
    "    axes[0,idx].set_title(f'Distribution of {col} in Target 3')\n",
    "\n",
    "for idx, col in enumerate(cols[5:]):\n",
    "    sns.barplot(temp[col].value_counts().index, temp[col].value_counts().values, ax=axes[1,idx])\n",
    "    axes[1,idx].set_title(f'Distribution of {col} in Target 3')\n",
    "\n",
    "plt.tight_layout()\n",
    "plt.show()"
   ]
  },
  {
   "cell_type": "code",
   "execution_count": 32,
   "metadata": {},
   "outputs": [
    {
     "data": {
      "image/png": "[encoded data removed]",
      "text/plain": [
       "<Figure size 1440x720 with 10 Axes>"
      ]
     },
     "metadata": {
      "needs_background": "light"
     },
     "output_type": "display_data"
    }
   ],
   "source": [
    "temp = data[data['target']==4]\n",
    "\n",
    "fig, axes = plt.subplots(2, 5, figsize=(20, 10))\n",
    "\n",
    "for idx, col in enumerate(cols[:5]):\n",
    "    if col == 'Age':\n",
    "        sns.scatterplot(temp[col].value_counts().index, temp[col].value_counts().values, ax=axes[0,idx])\n",
    "    else:\n",
    "        sns.barplot(temp[col].value_counts().index, temp[col].value_counts().values, ax=axes[0,idx])\n",
    "    axes[0,idx].set_title(f'Distribution of {col} in Target 4')\n",
    "\n",
    "for idx, col in enumerate(cols[5:]):\n",
    "    sns.barplot(temp[col].value_counts().index, temp[col].value_counts().values, ax=axes[1,idx])\n",
    "    axes[1,idx].set_title(f'Distribution of {col} in Target 4')\n",
    "\n",
    "plt.tight_layout()\n",
    "plt.show()"
   ]
  },
  {
   "cell_type": "code",
   "execution_count": 33,
   "metadata": {},
   "outputs": [
    {
     "data": {
      "image/png": "[encoded data removed]",
      "text/plain": [
       "<Figure size 1440x720 with 10 Axes>"
      ]
     },
     "metadata": {
      "needs_background": "light"
     },
     "output_type": "display_data"
    }
   ],
   "source": [
    "temp = data[data['target']==5]\n",
    "\n",
    "fig, axes = plt.subplots(2, 5, figsize=(20, 10))\n",
    "\n",
    "for idx, col in enumerate(cols[:5]):\n",
    "    if col == 'Age':\n",
    "        sns.scatterplot(temp[col].value_counts().index, temp[col].value_counts().values, ax=axes[0,idx])\n",
    "    else:\n",
    "        sns.barplot(temp[col].value_counts().index, temp[col].value_counts().values, ax=axes[0,idx])\n",
    "    axes[0,idx].set_title(f'Distribution of {col} in Target 5')\n",
    "\n",
    "for idx, col in enumerate(cols[5:]):\n",
    "    sns.barplot(temp[col].value_counts().index, temp[col].value_counts().values, ax=axes[1,idx])\n",
    "    axes[1,idx].set_title(f'Distribution of {col} in Target 5')\n",
    "\n",
    "plt.tight_layout()\n",
    "plt.show()"
   ]
  },
  {
   "cell_type": "markdown",
   "metadata": {},
   "source": [
    "#### Oversampling"
   ]
  },
  {
   "cell_type": "code",
   "execution_count": 34,
   "metadata": {},
   "outputs": [],
   "source": [
    "X = data.drop(['target'], axis=1)\n",
    "y = data['target']\n",
    "X_train, X_test, y_train, y_test = train_test_split(X, y, stratify=y, test_size=0.2, random_state=2022)"
   ]
  },
  {
   "cell_type": "code",
   "execution_count": 35,
   "metadata": {},
   "outputs": [
    {
     "data": {
      "text/plain": [
       "1    813\n",
       "3    144\n",
       "5    112\n",
       "2     94\n",
       "4     61\n",
       "Name: target, dtype: int64"
      ]
     },
     "execution_count": 35,
     "metadata": {},
     "output_type": "execute_result"
    }
   ],
   "source": [
    "y_train.value_counts()"
   ]
  },
  {
   "cell_type": "code",
   "execution_count": 36,
   "metadata": {},
   "outputs": [
    {
     "data": {
      "text/plain": [
       "2    813\n",
       "4    813\n",
       "1    813\n",
       "3    813\n",
       "5    813\n",
       "Name: target, dtype: int64"
      ]
     },
     "execution_count": 36,
     "metadata": {},
     "output_type": "execute_result"
    }
   ],
   "source": [
    "oversampling_instance = SMOTE(random_state=2022)\n",
    "o_X_train, o_y_train = oversampling_instance.fit_sample(X_train, y_train)\n",
    "o_y_train.value_counts()"
   ]
  },
  {
   "cell_type": "code",
   "execution_count": 37,
   "metadata": {},
   "outputs": [
    {
     "name": "stdout",
     "output_type": "stream",
     "text": [
      "Polynomial LogisticRegression:  0.6644951140065146\n"
     ]
    },
    {
     "ename": "MemoryError",
     "evalue": "Unable to allocate 1.76 GiB for an array with shape (669, 352715) and data type float64",
     "output_type": "error",
     "traceback": [
      "\u001b[1;31m---------------------------------------------------------------------------\u001b[0m",
      "\u001b[1;31mMemoryError\u001b[0m                               Traceback (most recent call last)",
      "\u001b[1;32m<ipython-input-37-4f7d8a686fbf>\u001b[0m in \u001b[0;36m<module>\u001b[1;34m\u001b[0m\n\u001b[0;32m      7\u001b[0m \u001b[0mprint\u001b[0m\u001b[1;33m(\u001b[0m\u001b[1;34m'Polynomial LogisticRegression: '\u001b[0m\u001b[1;33m,\u001b[0m\u001b[0maccuracy_score\u001b[0m\u001b[1;33m(\u001b[0m\u001b[0mpred\u001b[0m\u001b[1;33m,\u001b[0m \u001b[0my_test_2\u001b[0m\u001b[1;33m)\u001b[0m\u001b[1;33m)\u001b[0m\u001b[1;33m\u001b[0m\u001b[1;33m\u001b[0m\u001b[0m\n\u001b[0;32m      8\u001b[0m \u001b[1;33m\u001b[0m\u001b[0m\n\u001b[1;32m----> 9\u001b[1;33m \u001b[0mo_X_train_2\u001b[0m\u001b[1;33m,\u001b[0m \u001b[0mo_y_train_2\u001b[0m \u001b[1;33m=\u001b[0m \u001b[0moversampling_instance\u001b[0m\u001b[1;33m.\u001b[0m\u001b[0mfit_sample\u001b[0m\u001b[1;33m(\u001b[0m\u001b[0mX_train_2\u001b[0m\u001b[1;33m,\u001b[0m \u001b[0my_train_2\u001b[0m\u001b[1;33m)\u001b[0m\u001b[1;33m\u001b[0m\u001b[1;33m\u001b[0m\u001b[0m\n\u001b[0m\u001b[0;32m     10\u001b[0m \u001b[0mlr\u001b[0m \u001b[1;33m=\u001b[0m \u001b[0mLogisticRegression\u001b[0m\u001b[1;33m(\u001b[0m\u001b[0mrandom_state\u001b[0m\u001b[1;33m=\u001b[0m\u001b[1;36m2022\u001b[0m\u001b[1;33m,\u001b[0m \u001b[0mmulti_class\u001b[0m\u001b[1;33m=\u001b[0m\u001b[1;34m'multinomial'\u001b[0m\u001b[1;33m)\u001b[0m\u001b[1;33m\u001b[0m\u001b[1;33m\u001b[0m\u001b[0m\n\u001b[0;32m     11\u001b[0m \u001b[0mlr\u001b[0m\u001b[1;33m.\u001b[0m\u001b[0mfit\u001b[0m\u001b[1;33m(\u001b[0m\u001b[0mo_X_train_2\u001b[0m\u001b[1;33m,\u001b[0m \u001b[0mo_y_train_2\u001b[0m\u001b[1;33m)\u001b[0m\u001b[1;33m\u001b[0m\u001b[1;33m\u001b[0m\u001b[0m\n",
      "\u001b[1;32mc:\\Users\\lucky\\anaconda3\\lib\\site-packages\\imblearn\\base.py\u001b[0m in \u001b[0;36mfit_resample\u001b[1;34m(self, X, y)\u001b[0m\n\u001b[0;32m     81\u001b[0m         )\n\u001b[0;32m     82\u001b[0m \u001b[1;33m\u001b[0m\u001b[0m\n\u001b[1;32m---> 83\u001b[1;33m         \u001b[0moutput\u001b[0m \u001b[1;33m=\u001b[0m \u001b[0mself\u001b[0m\u001b[1;33m.\u001b[0m\u001b[0m_fit_resample\u001b[0m\u001b[1;33m(\u001b[0m\u001b[0mX\u001b[0m\u001b[1;33m,\u001b[0m \u001b[0my\u001b[0m\u001b[1;33m)\u001b[0m\u001b[1;33m\u001b[0m\u001b[1;33m\u001b[0m\u001b[0m\n\u001b[0m\u001b[0;32m     84\u001b[0m \u001b[1;33m\u001b[0m\u001b[0m\n\u001b[0;32m     85\u001b[0m         y_ = (label_binarize(output[1], np.unique(y))\n",
      "\u001b[1;32mc:\\Users\\lucky\\anaconda3\\lib\\site-packages\\imblearn\\over_sampling\\_smote.py\u001b[0m in \u001b[0;36m_fit_resample\u001b[1;34m(self, X, y)\u001b[0m\n\u001b[0;32m    731\u001b[0m             \u001b[0mself\u001b[0m\u001b[1;33m.\u001b[0m\u001b[0mnn_k_\u001b[0m\u001b[1;33m.\u001b[0m\u001b[0mfit\u001b[0m\u001b[1;33m(\u001b[0m\u001b[0mX_class\u001b[0m\u001b[1;33m)\u001b[0m\u001b[1;33m\u001b[0m\u001b[1;33m\u001b[0m\u001b[0m\n\u001b[0;32m    732\u001b[0m             \u001b[0mnns\u001b[0m \u001b[1;33m=\u001b[0m \u001b[0mself\u001b[0m\u001b[1;33m.\u001b[0m\u001b[0mnn_k_\u001b[0m\u001b[1;33m.\u001b[0m\u001b[0mkneighbors\u001b[0m\u001b[1;33m(\u001b[0m\u001b[0mX_class\u001b[0m\u001b[1;33m,\u001b[0m \u001b[0mreturn_distance\u001b[0m\u001b[1;33m=\u001b[0m\u001b[1;32mFalse\u001b[0m\u001b[1;33m)\u001b[0m\u001b[1;33m[\u001b[0m\u001b[1;33m:\u001b[0m\u001b[1;33m,\u001b[0m \u001b[1;36m1\u001b[0m\u001b[1;33m:\u001b[0m\u001b[1;33m]\u001b[0m\u001b[1;33m\u001b[0m\u001b[1;33m\u001b[0m\u001b[0m\n\u001b[1;32m--> 733\u001b[1;33m             X_new, y_new = self._make_samples(\n\u001b[0m\u001b[0;32m    734\u001b[0m                 \u001b[0mX_class\u001b[0m\u001b[1;33m,\u001b[0m \u001b[0my\u001b[0m\u001b[1;33m.\u001b[0m\u001b[0mdtype\u001b[0m\u001b[1;33m,\u001b[0m \u001b[0mclass_sample\u001b[0m\u001b[1;33m,\u001b[0m \u001b[0mX_class\u001b[0m\u001b[1;33m,\u001b[0m \u001b[0mnns\u001b[0m\u001b[1;33m,\u001b[0m \u001b[0mn_samples\u001b[0m\u001b[1;33m,\u001b[0m \u001b[1;36m1.0\u001b[0m\u001b[1;33m\u001b[0m\u001b[1;33m\u001b[0m\u001b[0m\n\u001b[0;32m    735\u001b[0m             )\n",
      "\u001b[1;32mc:\\Users\\lucky\\anaconda3\\lib\\site-packages\\imblearn\\over_sampling\\_smote.py\u001b[0m in \u001b[0;36m_make_samples\u001b[1;34m(self, X, y_dtype, y_type, nn_data, nn_num, n_samples, step_size)\u001b[0m\n\u001b[0;32m    106\u001b[0m         \u001b[0mcols\u001b[0m \u001b[1;33m=\u001b[0m \u001b[0mnp\u001b[0m\u001b[1;33m.\u001b[0m\u001b[0mmod\u001b[0m\u001b[1;33m(\u001b[0m\u001b[0msamples_indices\u001b[0m\u001b[1;33m,\u001b[0m \u001b[0mnn_num\u001b[0m\u001b[1;33m.\u001b[0m\u001b[0mshape\u001b[0m\u001b[1;33m[\u001b[0m\u001b[1;36m1\u001b[0m\u001b[1;33m]\u001b[0m\u001b[1;33m)\u001b[0m\u001b[1;33m\u001b[0m\u001b[1;33m\u001b[0m\u001b[0m\n\u001b[0;32m    107\u001b[0m \u001b[1;33m\u001b[0m\u001b[0m\n\u001b[1;32m--> 108\u001b[1;33m         \u001b[0mX_new\u001b[0m \u001b[1;33m=\u001b[0m \u001b[0mself\u001b[0m\u001b[1;33m.\u001b[0m\u001b[0m_generate_samples\u001b[0m\u001b[1;33m(\u001b[0m\u001b[0mX\u001b[0m\u001b[1;33m,\u001b[0m \u001b[0mnn_data\u001b[0m\u001b[1;33m,\u001b[0m \u001b[0mnn_num\u001b[0m\u001b[1;33m,\u001b[0m \u001b[0mrows\u001b[0m\u001b[1;33m,\u001b[0m \u001b[0mcols\u001b[0m\u001b[1;33m,\u001b[0m \u001b[0msteps\u001b[0m\u001b[1;33m)\u001b[0m\u001b[1;33m\u001b[0m\u001b[1;33m\u001b[0m\u001b[0m\n\u001b[0m\u001b[0;32m    109\u001b[0m         \u001b[0my_new\u001b[0m \u001b[1;33m=\u001b[0m \u001b[0mnp\u001b[0m\u001b[1;33m.\u001b[0m\u001b[0mfull\u001b[0m\u001b[1;33m(\u001b[0m\u001b[0mn_samples\u001b[0m\u001b[1;33m,\u001b[0m \u001b[0mfill_value\u001b[0m\u001b[1;33m=\u001b[0m\u001b[0my_type\u001b[0m\u001b[1;33m,\u001b[0m \u001b[0mdtype\u001b[0m\u001b[1;33m=\u001b[0m\u001b[0my_dtype\u001b[0m\u001b[1;33m)\u001b[0m\u001b[1;33m\u001b[0m\u001b[1;33m\u001b[0m\u001b[0m\n\u001b[0;32m    110\u001b[0m         \u001b[1;32mreturn\u001b[0m \u001b[0mX_new\u001b[0m\u001b[1;33m,\u001b[0m \u001b[0my_new\u001b[0m\u001b[1;33m\u001b[0m\u001b[1;33m\u001b[0m\u001b[0m\n",
      "\u001b[1;32mc:\\Users\\lucky\\anaconda3\\lib\\site-packages\\imblearn\\over_sampling\\_smote.py\u001b[0m in \u001b[0;36m_generate_samples\u001b[1;34m(self, X, nn_data, nn_num, rows, cols, steps)\u001b[0m\n\u001b[0;32m    157\u001b[0m             \u001b[0mX_new\u001b[0m \u001b[1;33m=\u001b[0m \u001b[0mX\u001b[0m\u001b[1;33m[\u001b[0m\u001b[0mrows\u001b[0m\u001b[1;33m]\u001b[0m \u001b[1;33m+\u001b[0m \u001b[0msteps\u001b[0m\u001b[1;33m.\u001b[0m\u001b[0mmultiply\u001b[0m\u001b[1;33m(\u001b[0m\u001b[0mdiffs\u001b[0m\u001b[1;33m)\u001b[0m\u001b[1;33m\u001b[0m\u001b[1;33m\u001b[0m\u001b[0m\n\u001b[0;32m    158\u001b[0m         \u001b[1;32melse\u001b[0m\u001b[1;33m:\u001b[0m\u001b[1;33m\u001b[0m\u001b[1;33m\u001b[0m\u001b[0m\n\u001b[1;32m--> 159\u001b[1;33m             \u001b[0mX_new\u001b[0m \u001b[1;33m=\u001b[0m \u001b[0mX\u001b[0m\u001b[1;33m[\u001b[0m\u001b[0mrows\u001b[0m\u001b[1;33m]\u001b[0m \u001b[1;33m+\u001b[0m \u001b[0msteps\u001b[0m \u001b[1;33m*\u001b[0m \u001b[0mdiffs\u001b[0m\u001b[1;33m\u001b[0m\u001b[1;33m\u001b[0m\u001b[0m\n\u001b[0m\u001b[0;32m    160\u001b[0m \u001b[1;33m\u001b[0m\u001b[0m\n\u001b[0;32m    161\u001b[0m         \u001b[1;32mreturn\u001b[0m \u001b[0mX_new\u001b[0m\u001b[1;33m.\u001b[0m\u001b[0mastype\u001b[0m\u001b[1;33m(\u001b[0m\u001b[0mX\u001b[0m\u001b[1;33m.\u001b[0m\u001b[0mdtype\u001b[0m\u001b[1;33m)\u001b[0m\u001b[1;33m\u001b[0m\u001b[1;33m\u001b[0m\u001b[0m\n",
      "\u001b[1;31mMemoryError\u001b[0m: Unable to allocate 1.76 GiB for an array with shape (669, 352715) and data type float64"
     ]
    }
   ],
   "source": [
    "poly_features = PolynomialFeatures(degree=10, include_bias=False)\n",
    "X_poly = poly_features.fit_transform(X)\n",
    "X_train_2, X_test_2, y_train_2, y_test_2 = train_test_split(X_poly, y, stratify=y, test_size=0.2, random_state=2022)\n",
    "lr = LogisticRegression(random_state=2022, multi_class='multinomial')\n",
    "lr.fit(X_train_2, y_train_2)\n",
    "pred = lr.predict(X_test_2)\n",
    "print('Polynomial LogisticRegression: ',accuracy_score(pred, y_test_2))\n",
    "\n",
    "o_X_train_2, o_y_train_2 = oversampling_instance.fit_sample(X_train_2, y_train_2)\n",
    "lr = LogisticRegression(random_state=2022, multi_class='multinomial')\n",
    "lr.fit(o_X_train_2, o_y_train_2)\n",
    "pred = lr.predict(X_test_2)\n",
    "print('Polynomial + SMOTE LogisticRegression: ',accuracy_score(pred, y_test_2))"
   ]
  },
  {
   "cell_type": "code",
   "execution_count": null,
   "metadata": {},
   "outputs": [
    {
     "data": {
      "text/plain": [
       "0.30787589498806683"
      ]
     },
     "execution_count": 11,
     "metadata": {},
     "output_type": "execute_result"
    }
   ],
   "source": [
    "lr = LogisticRegression(random_state=2022, multi_class='multinomial')\n",
    "lr.fit(o_X_train, o_y_train)\n",
    "pred = lr.predict(X_test)\n",
    "accuracy_score(pred, y_test)"
   ]
  },
  {
   "cell_type": "markdown",
   "metadata": {},
   "source": [
    "#### Modeling"
   ]
  },
  {
   "cell_type": "code",
   "execution_count": null,
   "metadata": {},
   "outputs": [
    {
     "name": "stderr",
     "output_type": "stream",
     "text": [
      " 20%|██        | 1/5 [06:36<26:26, 396.67s/it]"
     ]
    },
    {
     "name": "stdout",
     "output_type": "stream",
     "text": [
      "모델: RandomForestClassifier         성능: 0.7572533849129593\n"
     ]
    },
    {
     "name": "stderr",
     "output_type": "stream",
     "text": [
      " 40%|████      | 2/5 [08:36<11:41, 233.84s/it]"
     ]
    },
    {
     "name": "stdout",
     "output_type": "stream",
     "text": [
      "모델: LGBMClassifier                 성능: 0.8143133462282398\n"
     ]
    },
    {
     "name": "stderr",
     "output_type": "stream",
     "text": [
      " 60%|██████    | 3/5 [22:54<17:17, 518.85s/it]"
     ]
    },
    {
     "name": "stdout",
     "output_type": "stream",
     "text": [
      "모델: XGBClassifier                  성능: 0.8191489361702128\n"
     ]
    },
    {
     "name": "stderr",
     "output_type": "stream",
     "text": [
      " 80%|████████  | 4/5 [29:02<07:39, 459.14s/it]"
     ]
    },
    {
     "name": "stdout",
     "output_type": "stream",
     "text": [
      "모델: CatBoostClassifier             성능: 0.8268858800773694\n"
     ]
    },
    {
     "name": "stderr",
     "output_type": "stream",
     "text": [
      "100%|██████████| 5/5 [29:12<00:00, 350.51s/it]"
     ]
    },
    {
     "name": "stdout",
     "output_type": "stream",
     "text": [
      "모델: LogisticRegression             성능: 0.33268858800773693\n"
     ]
    },
    {
     "name": "stderr",
     "output_type": "stream",
     "text": [
      "\n"
     ]
    }
   ],
   "source": [
    "# RandomSearch Tuning\n",
    "tuned_models = []\n",
    "\n",
    "clfs = [\n",
    "(RandomForestClassifier(random_state=2022, n_jobs=-1),\n",
    "    {'criterion': ['gini', 'entropy'],\n",
    "    'n_estimators': [50, 70, 90, 110],\n",
    "    'max_depth': [3, 5, 7,10],\n",
    "    'max_features': [0.8,0.85,0.9]}\n",
    "),\n",
    "(LGBMClassifier(random_state=2022, objective='multiclass', n_jobs=-1),\n",
    "    {'learning_rate': np.arange(0.1, 0.6, 0.1),\n",
    "        'n_estimators': [100,125,150,175,200],\n",
    "        'max_depth': [3,5,7,9],\n",
    "        'min_child_weight': [3,8,13],\n",
    "        'subsample': [0.75,0.85,0.95]}\n",
    "),\n",
    "(XGBClassifier(random_state=2022),\n",
    "    {'learning_rate': [0.05,0.35,0.65,1.0],\n",
    "        'n_estimators': [100,125,150,175,200],\n",
    "        'max_depth': [3,5,7,9],\n",
    "        'min_child_weight': [3,8,13],\n",
    "        'subsample': [0.75, 0.85, 0.95],\n",
    "        'gamma': [0,2,4]}\n",
    "),\n",
    "(CatBoostClassifier(random_seed=2022),\n",
    "    {'learning_rate': [0.05, 0.35, 0.65, 1.0],\n",
    "    'n_estimators': [100,125,150,175,200],\n",
    "    'max_depth':[3,5,7,9]}\n",
    "),\n",
    "(LogisticRegression(random_state=2022, multi_class='multinomial'),\n",
    "    {'C': [100, 10, 1, 0.1, 0.01],\n",
    "    'penalty':['none', 'l1', 'l2', 'elasticnet']}\n",
    ")\n",
    "]\n",
    "\n",
    "for clf, param_grid in tqdm(clfs):\n",
    "    rs = RandomizedSearchCV(clf, param_distributions = param_grid, scoring='accuracy', n_iter=30, random_state=2022, n_jobs=-1)\n",
    "    scores = cross_val_score(rs, o_X_train, o_y_train, scoring='accuracy', cv = 5, n_jobs=-1)\n",
    "    clf_name = type(clf).__name__\n",
    "    clf_score = max(scores)\n",
    "\n",
    "    print(f'모델: {clf_name:30} 성능: {clf_score}')\n",
    "    \n",
    "    tuned_models.append((clf_name, rs, clf_score))"
   ]
  },
  {
   "cell_type": "code",
   "execution_count": 24,
   "metadata": {},
   "outputs": [],
   "source": [
    "bayesian_tuned = []"
   ]
  },
  {
   "cell_type": "code",
   "execution_count": 25,
   "metadata": {},
   "outputs": [
    {
     "name": "stderr",
     "output_type": "stream",
     "text": [
      "\u001b[32m[I 2022-05-17 16:43:13,275]\u001b[0m A new study created in memory with name: no-name-2f2f26be-e72b-4015-92c2-5e44eff2b821\u001b[0m\n",
      "\u001b[32m[I 2022-05-17 16:43:20,208]\u001b[0m Trial 0 finished with value: 0.4698259142465143 and parameters: {'n_estimators': 100, 'max_depth': 5, 'max_features': 0.9284772772384489, 'criterion': 'entropy'}. Best is trial 0 with value: 0.4698259142465143.\u001b[0m\n",
      "\u001b[32m[I 2022-05-17 16:43:24,873]\u001b[0m Trial 1 finished with value: 0.46247491853011813 and parameters: {'n_estimators': 79, 'max_depth': 5, 'max_features': 0.937035427174234, 'criterion': 'gini'}. Best is trial 0 with value: 0.4698259142465143.\u001b[0m\n",
      "\u001b[32m[I 2022-05-17 16:43:26,787]\u001b[0m Trial 2 finished with value: 0.35919014388024106 and parameters: {'n_estimators': 95, 'max_depth': 3, 'max_features': 0.6013765524887179, 'criterion': 'entropy'}. Best is trial 0 with value: 0.4698259142465143.\u001b[0m\n",
      "\u001b[32m[I 2022-05-17 16:43:32,899]\u001b[0m Trial 3 finished with value: 0.6783361347958403 and parameters: {'n_estimators': 150, 'max_depth': 9, 'max_features': 0.916971520050089, 'criterion': 'entropy'}. Best is trial 3 with value: 0.6783361347958403.\u001b[0m\n",
      "\u001b[32m[I 2022-05-17 16:43:37,216]\u001b[0m Trial 4 finished with value: 0.7148923771486858 and parameters: {'n_estimators': 124, 'max_depth': 10, 'max_features': 0.7887739231067759, 'criterion': 'entropy'}. Best is trial 4 with value: 0.7148923771486858.\u001b[0m\n",
      "\u001b[32m[I 2022-05-17 16:43:41,347]\u001b[0m Trial 5 finished with value: 0.46305451598150554 and parameters: {'n_estimators': 134, 'max_depth': 5, 'max_features': 0.8325933999354129, 'criterion': 'gini'}. Best is trial 4 with value: 0.7148923771486858.\u001b[0m\n",
      "\u001b[32m[I 2022-05-17 16:43:44,024]\u001b[0m Trial 6 finished with value: 0.41121773229990494 and parameters: {'n_estimators': 91, 'max_depth': 4, 'max_features': 0.8853336291545639, 'criterion': 'entropy'}. Best is trial 4 with value: 0.7148923771486858.\u001b[0m\n",
      "\u001b[32m[I 2022-05-17 16:43:46,912]\u001b[0m Trial 7 finished with value: 0.35261329162266936 and parameters: {'n_estimators': 99, 'max_depth': 3, 'max_features': 0.9103937069075004, 'criterion': 'entropy'}. Best is trial 4 with value: 0.7148923771486858.\u001b[0m\n",
      "\u001b[32m[I 2022-05-17 16:43:50,791]\u001b[0m Trial 8 finished with value: 0.5802725260332487 and parameters: {'n_estimators': 100, 'max_depth': 7, 'max_features': 0.9118146890632568, 'criterion': 'entropy'}. Best is trial 4 with value: 0.7148923771486858.\u001b[0m\n",
      "\u001b[32m[I 2022-05-17 16:43:53,873]\u001b[0m Trial 9 finished with value: 0.6307576639154868 and parameters: {'n_estimators': 92, 'max_depth': 8, 'max_features': 0.7060512411292084, 'criterion': 'entropy'}. Best is trial 4 with value: 0.7148923771486858.\u001b[0m\n",
      "\u001b[32m[I 2022-05-17 16:43:54,859]\u001b[0m Trial 10 finished with value: 0.31412056824195056 and parameters: {'n_estimators': 50, 'max_depth': 2, 'max_features': 0.75237489143948, 'criterion': 'gini'}. Best is trial 4 with value: 0.7148923771486858.\u001b[0m\n",
      "\u001b[32m[I 2022-05-17 16:44:00,676]\u001b[0m Trial 11 finished with value: 0.712571143978412 and parameters: {'n_estimators': 150, 'max_depth': 10, 'max_features': 0.8207632941896985, 'criterion': 'entropy'}. Best is trial 4 with value: 0.7148923771486858.\u001b[0m\n",
      "\u001b[32m[I 2022-05-17 16:44:05,544]\u001b[0m Trial 12 finished with value: 0.7096704630075257 and parameters: {'n_estimators': 131, 'max_depth': 10, 'max_features': 0.8091351014195155, 'criterion': 'entropy'}. Best is trial 4 with value: 0.7148923771486858.\u001b[0m\n",
      "\u001b[32m[I 2022-05-17 16:44:09,227]\u001b[0m Trial 13 finished with value: 0.583751607249323 and parameters: {'n_estimators': 121, 'max_depth': 7, 'max_features': 0.7331707742075224, 'criterion': 'entropy'}. Best is trial 4 with value: 0.7148923771486858.\u001b[0m\n",
      "\u001b[32m[I 2022-05-17 16:44:14,641]\u001b[0m Trial 14 finished with value: 0.7083167220973137 and parameters: {'n_estimators': 150, 'max_depth': 10, 'max_features': 0.8162006443835023, 'criterion': 'gini'}. Best is trial 4 with value: 0.7148923771486858.\u001b[0m\n",
      "\u001b[32m[I 2022-05-17 16:44:17,655]\u001b[0m Trial 15 finished with value: 0.5297873881510109 and parameters: {'n_estimators': 119, 'max_depth': 6, 'max_features': 0.6803939065090511, 'criterion': 'entropy'}. Best is trial 4 with value: 0.7148923771486858.\u001b[0m\n",
      "\u001b[32m[I 2022-05-17 16:44:20,395]\u001b[0m Trial 16 finished with value: 0.3156681069057248 and parameters: {'n_estimators': 136, 'max_depth': 2, 'max_features': 0.859329597340168, 'criterion': 'entropy'}. Best is trial 4 with value: 0.7148923771486858.\u001b[0m\n",
      "\u001b[32m[I 2022-05-17 16:44:24,098]\u001b[0m Trial 17 finished with value: 0.6324973541742989 and parameters: {'n_estimators': 113, 'max_depth': 8, 'max_features': 0.777365132711209, 'criterion': 'entropy'}. Best is trial 4 with value: 0.7148923771486858.\u001b[0m\n",
      "\u001b[32m[I 2022-05-17 16:44:27,224]\u001b[0m Trial 18 finished with value: 0.36460495787031383 and parameters: {'n_estimators': 142, 'max_depth': 3, 'max_features': 0.7879136557520539, 'criterion': 'gini'}. Best is trial 4 with value: 0.7148923771486858.\u001b[0m\n",
      "\u001b[32m[I 2022-05-17 16:44:30,543]\u001b[0m Trial 19 finished with value: 0.5293994933423363 and parameters: {'n_estimators': 125, 'max_depth': 6, 'max_features': 0.6659421752441068, 'criterion': 'entropy'}. Best is trial 4 with value: 0.7148923771486858.\u001b[0m\n",
      "\u001b[32m[I 2022-05-17 16:44:34,676]\u001b[0m Trial 20 finished with value: 0.7106378056168126 and parameters: {'n_estimators': 110, 'max_depth': 10, 'max_features': 0.8649764938499986, 'criterion': 'entropy'}. Best is trial 4 with value: 0.7148923771486858.\u001b[0m\n",
      "\u001b[32m[I 2022-05-17 16:44:38,725]\u001b[0m Trial 21 finished with value: 0.7106378056168126 and parameters: {'n_estimators': 110, 'max_depth': 10, 'max_features': 0.8611398448103207, 'criterion': 'entropy'}. Best is trial 4 with value: 0.7148923771486858.\u001b[0m\n",
      "\u001b[32m[I 2022-05-17 16:44:41,466]\u001b[0m Trial 22 finished with value: 0.6292071322362136 and parameters: {'n_estimators': 77, 'max_depth': 8, 'max_features': 0.8314372119907664, 'criterion': 'entropy'}. Best is trial 4 with value: 0.7148923771486858.\u001b[0m\n",
      "\u001b[32m[I 2022-05-17 16:44:45,259]\u001b[0m Trial 23 finished with value: 0.5825925619973231 and parameters: {'n_estimators': 112, 'max_depth': 7, 'max_features': 0.8639639393164246, 'criterion': 'entropy'}. Best is trial 4 with value: 0.7148923771486858.\u001b[0m\n",
      "\u001b[32m[I 2022-05-17 16:44:49,912]\u001b[0m Trial 24 finished with value: 0.6771767902422906 and parameters: {'n_estimators': 142, 'max_depth': 9, 'max_features': 0.7570018662883446, 'criterion': 'entropy'}. Best is trial 4 with value: 0.7148923771486858.\u001b[0m\n",
      "\u001b[32m[I 2022-05-17 16:44:53,962]\u001b[0m Trial 25 finished with value: 0.532688368423447 and parameters: {'n_estimators': 126, 'max_depth': 6, 'max_features': 0.803435118528096, 'criterion': 'entropy'}. Best is trial 4 with value: 0.7148923771486858.\u001b[0m\n",
      "\u001b[32m[I 2022-05-17 16:44:57,726]\u001b[0m Trial 26 finished with value: 0.6677003045692571 and parameters: {'n_estimators': 107, 'max_depth': 9, 'max_features': 0.8352775143960653, 'criterion': 'gini'}. Best is trial 4 with value: 0.7148923771486858.\u001b[0m\n",
      "\u001b[32m[I 2022-05-17 16:45:00,075]\u001b[0m Trial 27 finished with value: 0.41102483245099236 and parameters: {'n_estimators': 84, 'max_depth': 4, 'max_features': 0.8861854390556296, 'criterion': 'entropy'}. Best is trial 4 with value: 0.7148923771486858.\u001b[0m\n",
      "\u001b[32m[I 2022-05-17 16:45:02,227]\u001b[0m Trial 28 finished with value: 0.6292104245532626 and parameters: {'n_estimators': 67, 'max_depth': 8, 'max_features': 0.7500158271325251, 'criterion': 'entropy'}. Best is trial 4 with value: 0.7148923771486858.\u001b[0m\n",
      "\u001b[32m[I 2022-05-17 16:45:06,878]\u001b[0m Trial 29 finished with value: 0.7164405144155599 and parameters: {'n_estimators': 141, 'max_depth': 10, 'max_features': 0.7886207217029408, 'criterion': 'entropy'}. Best is trial 29 with value: 0.7164405144155599.\u001b[0m\n",
      "\u001b[32m[I 2022-05-17 16:45:10,996]\u001b[0m Trial 30 finished with value: 0.5315285749175723 and parameters: {'n_estimators': 141, 'max_depth': 6, 'max_features': 0.71675401377376, 'criterion': 'entropy'}. Best is trial 29 with value: 0.7164405144155599.\u001b[0m\n",
      "\u001b[32m[I 2022-05-17 16:45:15,465]\u001b[0m Trial 31 finished with value: 0.7152795237034856 and parameters: {'n_estimators': 129, 'max_depth': 10, 'max_features': 0.788767760355519, 'criterion': 'entropy'}. Best is trial 29 with value: 0.7164405144155599.\u001b[0m\n",
      "\u001b[32m[I 2022-05-17 16:45:20,413]\u001b[0m Trial 32 finished with value: 0.6773707376466278 and parameters: {'n_estimators': 144, 'max_depth': 9, 'max_features': 0.7903819974406878, 'criterion': 'entropy'}. Best is trial 29 with value: 0.7164405144155599.\u001b[0m\n",
      "\u001b[32m[I 2022-05-17 16:45:24,463]\u001b[0m Trial 33 finished with value: 0.5839455546536603 and parameters: {'n_estimators': 129, 'max_depth': 7, 'max_features': 0.7771457790599112, 'criterion': 'entropy'}. Best is trial 29 with value: 0.7164405144155599.\u001b[0m\n",
      "\u001b[32m[I 2022-05-17 16:45:30,007]\u001b[0m Trial 34 finished with value: 0.6777559387413532 and parameters: {'n_estimators': 137, 'max_depth': 9, 'max_features': 0.9485991612479706, 'criterion': 'entropy'}. Best is trial 29 with value: 0.7164405144155599.\u001b[0m\n",
      "\u001b[32m[I 2022-05-17 16:45:35,157]\u001b[0m Trial 35 finished with value: 0.6187642018585429 and parameters: {'n_estimators': 147, 'max_depth': 8, 'max_features': 0.8215045231323628, 'criterion': 'gini'}. Best is trial 29 with value: 0.7164405144155599.\u001b[0m\n",
      "\u001b[32m[I 2022-05-17 16:45:38,456]\u001b[0m Trial 36 finished with value: 0.4781436539690977 and parameters: {'n_estimators': 119, 'max_depth': 5, 'max_features': 0.7983772180015535, 'criterion': 'entropy'}. Best is trial 29 with value: 0.7164405144155599.\u001b[0m\n",
      "\u001b[32m[I 2022-05-17 16:45:42,953]\u001b[0m Trial 37 finished with value: 0.7154721242508483 and parameters: {'n_estimators': 136, 'max_depth': 10, 'max_features': 0.768230355973738, 'criterion': 'entropy'}. Best is trial 29 with value: 0.7164405144155599.\u001b[0m\n",
      "\u001b[32m[I 2022-05-17 16:45:46,688]\u001b[0m Trial 38 finished with value: 0.6822053555822134 and parameters: {'n_estimators': 133, 'max_depth': 9, 'max_features': 0.6161217665647994, 'criterion': 'entropy'}. Best is trial 29 with value: 0.7164405144155599.\u001b[0m\n",
      "\u001b[32m[I 2022-05-17 16:45:50,730]\u001b[0m Trial 39 finished with value: 0.5781441927118876 and parameters: {'n_estimators': 136, 'max_depth': 7, 'max_features': 0.7628980060308821, 'criterion': 'gini'}. Best is trial 29 with value: 0.7164405144155599.\u001b[0m\n",
      "\u001b[32m[I 2022-05-17 16:45:54,241]\u001b[0m Trial 40 finished with value: 0.48007759093379687 and parameters: {'n_estimators': 126, 'max_depth': 5, 'max_features': 0.7318206980275042, 'criterion': 'entropy'}. Best is trial 29 with value: 0.7164405144155599.\u001b[0m\n",
      "\u001b[32m[I 2022-05-17 16:45:59,378]\u001b[0m Trial 41 finished with value: 0.7098647097134129 and parameters: {'n_estimators': 139, 'max_depth': 10, 'max_features': 0.8450365541044016, 'criterion': 'entropy'}. Best is trial 29 with value: 0.7164405144155599.\u001b[0m\n",
      "\u001b[32m[I 2022-05-17 16:46:04,221]\u001b[0m Trial 42 finished with value: 0.6773698397419782 and parameters: {'n_estimators': 148, 'max_depth': 9, 'max_features': 0.7729813003271393, 'criterion': 'entropy'}. Best is trial 29 with value: 0.7164405144155599.\u001b[0m\n",
      "\u001b[32m[I 2022-05-17 16:46:08,852]\u001b[0m Trial 43 finished with value: 0.629981425345813 and parameters: {'n_estimators': 131, 'max_depth': 8, 'max_features': 0.81194347052658, 'criterion': 'entropy'}. Best is trial 29 with value: 0.7164405144155599.\u001b[0m\n",
      "\u001b[32m[I 2022-05-17 16:46:13,662]\u001b[0m Trial 44 finished with value: 0.71644021511401 and parameters: {'n_estimators': 144, 'max_depth': 10, 'max_features': 0.742173537711162, 'criterion': 'entropy'}. Best is trial 29 with value: 0.7164405144155599.\u001b[0m\n",
      "\u001b[32m[I 2022-05-17 16:46:17,465]\u001b[0m Trial 45 finished with value: 0.7183751996341339 and parameters: {'n_estimators': 121, 'max_depth': 10, 'max_features': 0.6877667037636105, 'criterion': 'entropy'}. Best is trial 45 with value: 0.7183751996341339.\u001b[0m\n",
      "\u001b[32m[I 2022-05-17 16:46:21,902]\u001b[0m Trial 46 finished with value: 0.6816253091785011 and parameters: {'n_estimators': 144, 'max_depth': 9, 'max_features': 0.6861464545538242, 'criterion': 'entropy'}. Best is trial 45 with value: 0.7183751996341339.\u001b[0m\n",
      "\u001b[32m[I 2022-05-17 16:46:26,031]\u001b[0m Trial 47 finished with value: 0.7197286412427958 and parameters: {'n_estimators': 129, 'max_depth': 10, 'max_features': 0.6406896972920892, 'criterion': 'entropy'}. Best is trial 47 with value: 0.7197286412427958.\u001b[0m\n",
      "\u001b[32m[I 2022-05-17 16:46:29,650]\u001b[0m Trial 48 finished with value: 0.6396535045817081 and parameters: {'n_estimators': 121, 'max_depth': 8, 'max_features': 0.6454529625403332, 'criterion': 'entropy'}. Best is trial 47 with value: 0.7197286412427958.\u001b[0m\n",
      "\u001b[32m[I 2022-05-17 16:46:33,355]\u001b[0m Trial 49 finished with value: 0.7187617475858337 and parameters: {'n_estimators': 117, 'max_depth': 10, 'max_features': 0.634318910689787, 'criterion': 'entropy'}. Best is trial 47 with value: 0.7197286412427958.\u001b[0m\n",
      "\u001b[32m[I 2022-05-17 16:46:36,779]\u001b[0m Trial 50 finished with value: 0.6731134724008055 and parameters: {'n_estimators': 115, 'max_depth': 9, 'max_features': 0.6302236359919325, 'criterion': 'gini'}. Best is trial 47 with value: 0.7197286412427958.\u001b[0m\n",
      "\u001b[32m[I 2022-05-17 16:46:40,119]\u001b[0m Trial 51 finished with value: 0.7174092038818214 and parameters: {'n_estimators': 103, 'max_depth': 10, 'max_features': 0.6530973826662398, 'criterion': 'entropy'}. Best is trial 47 with value: 0.7197286412427958.\u001b[0m\n",
      "\u001b[32m[I 2022-05-17 16:46:43,225]\u001b[0m Trial 52 finished with value: 0.6804644681172016 and parameters: {'n_estimators': 103, 'max_depth': 9, 'max_features': 0.6527317158218039, 'criterion': 'entropy'}. Best is trial 47 with value: 0.7197286412427958.\u001b[0m\n",
      "\u001b[32m[I 2022-05-17 16:46:46,941]\u001b[0m Trial 53 finished with value: 0.7181818508328964 and parameters: {'n_estimators': 116, 'max_depth': 10, 'max_features': 0.6889974611820098, 'criterion': 'entropy'}. Best is trial 47 with value: 0.7197286412427958.\u001b[0m\n",
      "\u001b[32m[I 2022-05-17 16:46:50,448]\u001b[0m Trial 54 finished with value: 0.7187617475858337 and parameters: {'n_estimators': 117, 'max_depth': 10, 'max_features': 0.6976962783525802, 'criterion': 'entropy'}. Best is trial 47 with value: 0.7197286412427958.\u001b[0m\n",
      "\u001b[32m[I 2022-05-17 16:46:53,342]\u001b[0m Trial 55 finished with value: 0.6396533549309331 and parameters: {'n_estimators': 103, 'max_depth': 8, 'max_features': 0.6012344388728695, 'criterion': 'entropy'}. Best is trial 47 with value: 0.7197286412427958.\u001b[0m\n",
      "\u001b[32m[I 2022-05-17 16:46:56,597]\u001b[0m Trial 56 finished with value: 0.6388798100752084 and parameters: {'n_estimators': 115, 'max_depth': 8, 'max_features': 0.6931453836122536, 'criterion': 'entropy'}. Best is trial 47 with value: 0.7197286412427958.\u001b[0m\n",
      "\u001b[32m[I 2022-05-17 16:46:59,147]\u001b[0m Trial 57 finished with value: 0.5887816690969953 and parameters: {'n_estimators': 95, 'max_depth': 7, 'max_features': 0.6717811745633627, 'criterion': 'entropy'}. Best is trial 47 with value: 0.7197286412427958.\u001b[0m\n",
      "\u001b[32m[I 2022-05-17 16:47:02,504]\u001b[0m Trial 58 finished with value: 0.7187617475858337 and parameters: {'n_estimators': 117, 'max_depth': 10, 'max_features': 0.6526403919182898, 'criterion': 'entropy'}. Best is trial 47 with value: 0.7197286412427958.\u001b[0m\n",
      "\u001b[32m[I 2022-05-17 16:47:06,019]\u001b[0m Trial 59 finished with value: 0.6827861502398005 and parameters: {'n_estimators': 122, 'max_depth': 9, 'max_features': 0.6291587455383875, 'criterion': 'entropy'}. Best is trial 47 with value: 0.7197286412427958.\u001b[0m\n",
      "\u001b[32m[I 2022-05-17 16:47:09,522]\u001b[0m Trial 60 finished with value: 0.5789180368691621 and parameters: {'n_estimators': 118, 'max_depth': 7, 'max_features': 0.7019880393592768, 'criterion': 'gini'}. Best is trial 47 with value: 0.7197286412427958.\u001b[0m\n",
      "\u001b[32m[I 2022-05-17 16:47:11,595]\u001b[0m Trial 61 finished with value: 0.3589967950790036 and parameters: {'n_estimators': 108, 'max_depth': 3, 'max_features': 0.6528721344969984, 'criterion': 'entropy'}. Best is trial 47 with value: 0.7197286412427958.\u001b[0m\n",
      "\u001b[32m[I 2022-05-17 16:47:15,060]\u001b[0m Trial 62 finished with value: 0.7181818508328964 and parameters: {'n_estimators': 116, 'max_depth': 10, 'max_features': 0.6661887838972204, 'criterion': 'entropy'}. Best is trial 47 with value: 0.7197286412427958.\u001b[0m\n",
      "\u001b[32m[I 2022-05-17 16:47:18,456]\u001b[0m Trial 63 finished with value: 0.717020860120822 and parameters: {'n_estimators': 114, 'max_depth': 10, 'max_features': 0.6699979176220008, 'criterion': 'entropy'}. Best is trial 47 with value: 0.7197286412427958.\u001b[0m\n",
      "\u001b[32m[I 2022-05-17 16:47:21,880]\u001b[0m Trial 64 finished with value: 0.6808511657196765 and parameters: {'n_estimators': 117, 'max_depth': 9, 'max_features': 0.6347819756001811, 'criterion': 'entropy'}. Best is trial 47 with value: 0.7197286412427958.\u001b[0m\n",
      "\u001b[32m[I 2022-05-17 16:47:26,117]\u001b[0m Trial 65 finished with value: 0.7150857259499233 and parameters: {'n_estimators': 126, 'max_depth': 10, 'max_features': 0.7125333594888363, 'criterion': 'entropy'}. Best is trial 47 with value: 0.7197286412427958.\u001b[0m\n",
      "\u001b[32m[I 2022-05-17 16:47:29,724]\u001b[0m Trial 66 finished with value: 0.7187618972366085 and parameters: {'n_estimators': 123, 'max_depth': 10, 'max_features': 0.6176322953241888, 'criterion': 'entropy'}. Best is trial 47 with value: 0.7197286412427958.\u001b[0m\n",
      "\u001b[32m[I 2022-05-17 16:47:33,199]\u001b[0m Trial 67 finished with value: 0.6400399028826331 and parameters: {'n_estimators': 124, 'max_depth': 8, 'max_features': 0.6164707649601766, 'criterion': 'entropy'}. Best is trial 47 with value: 0.7197286412427958.\u001b[0m\n",
      "\u001b[32m[I 2022-05-17 16:47:36,387]\u001b[0m Trial 68 finished with value: 0.6812378633221514 and parameters: {'n_estimators': 111, 'max_depth': 9, 'max_features': 0.6111001174236521, 'criterion': 'entropy'}. Best is trial 47 with value: 0.7197286412427958.\u001b[0m\n",
      "\u001b[32m[I 2022-05-17 16:47:39,906]\u001b[0m Trial 69 finished with value: 0.717988502031659 and parameters: {'n_estimators': 122, 'max_depth': 10, 'max_features': 0.6396041830629826, 'criterion': 'entropy'}. Best is trial 47 with value: 0.7197286412427958.\u001b[0m\n",
      "\u001b[32m[I 2022-05-17 16:47:42,976]\u001b[0m Trial 70 finished with value: 0.6831725485407254 and parameters: {'n_estimators': 107, 'max_depth': 9, 'max_features': 0.662623546806962, 'criterion': 'entropy'}. Best is trial 47 with value: 0.7197286412427958.\u001b[0m\n",
      "\u001b[32m[I 2022-05-17 16:47:46,706]\u001b[0m Trial 71 finished with value: 0.7183749003325839 and parameters: {'n_estimators': 128, 'max_depth': 10, 'max_features': 0.6818716679548313, 'criterion': 'entropy'}. Best is trial 47 with value: 0.7197286412427958.\u001b[0m\n",
      "\u001b[32m[I 2022-05-17 16:47:50,464]\u001b[0m Trial 72 finished with value: 0.7183749003325839 and parameters: {'n_estimators': 128, 'max_depth': 10, 'max_features': 0.6793069264611589, 'criterion': 'entropy'}. Best is trial 47 with value: 0.7197286412427958.\u001b[0m\n",
      "\u001b[32m[I 2022-05-17 16:47:54,281]\u001b[0m Trial 73 finished with value: 0.7197286412427958 and parameters: {'n_estimators': 129, 'max_depth': 10, 'max_features': 0.6191459095226749, 'criterion': 'entropy'}. Best is trial 47 with value: 0.7197286412427958.\u001b[0m\n",
      "\u001b[32m[I 2022-05-17 16:47:56,964]\u001b[0m Trial 74 finished with value: 0.3560961141081173 and parameters: {'n_estimators': 133, 'max_depth': 3, 'max_features': 0.6242895705704434, 'criterion': 'entropy'}. Best is trial 47 with value: 0.7197286412427958.\u001b[0m\n",
      "\u001b[32m[I 2022-05-17 16:47:59,884]\u001b[0m Trial 75 finished with value: 0.4197292697760506 and parameters: {'n_estimators': 131, 'max_depth': 4, 'max_features': 0.6427536857343175, 'criterion': 'entropy'}. Best is trial 47 with value: 0.7197286412427958.\u001b[0m\n",
      "\u001b[32m[I 2022-05-17 16:48:03,424]\u001b[0m Trial 76 finished with value: 0.6835590964924252 and parameters: {'n_estimators': 120, 'max_depth': 9, 'max_features': 0.6132159561912214, 'criterion': 'entropy'}. Best is trial 47 with value: 0.7197286412427958.\u001b[0m\n",
      "\u001b[32m[I 2022-05-17 16:48:06,841]\u001b[0m Trial 77 finished with value: 0.6270783499625274 and parameters: {'n_estimators': 124, 'max_depth': 8, 'max_features': 0.6999592394714483, 'criterion': 'gini'}. Best is trial 47 with value: 0.7197286412427958.\u001b[0m\n",
      "\u001b[32m[I 2022-05-17 16:48:09,182]\u001b[0m Trial 78 finished with value: 0.31895593443141085 and parameters: {'n_estimators': 127, 'max_depth': 2, 'max_features': 0.7200124435571642, 'criterion': 'entropy'}. Best is trial 47 with value: 0.7197286412427958.\u001b[0m\n",
      "\u001b[32m[I 2022-05-17 16:48:10,785]\u001b[0m Trial 79 finished with value: 0.7137331822459109 and parameters: {'n_estimators': 52, 'max_depth': 10, 'max_features': 0.6545566035763501, 'criterion': 'entropy'}. Best is trial 47 with value: 0.7197286412427958.\u001b[0m\n",
      "\u001b[32m[I 2022-05-17 16:48:14,486]\u001b[0m Trial 80 finished with value: 0.6829786011363882 and parameters: {'n_estimators': 132, 'max_depth': 9, 'max_features': 0.6768184690399263, 'criterion': 'entropy'}. Best is trial 47 with value: 0.7197286412427958.\u001b[0m\n",
      "\u001b[32m[I 2022-05-17 16:48:18,226]\u001b[0m Trial 81 finished with value: 0.7197286412427958 and parameters: {'n_estimators': 129, 'max_depth': 10, 'max_features': 0.6805896621814046, 'criterion': 'entropy'}. Best is trial 47 with value: 0.7197286412427958.\u001b[0m\n",
      "\u001b[32m[I 2022-05-17 16:48:22,042]\u001b[0m Trial 82 finished with value: 0.7197286412427958 and parameters: {'n_estimators': 129, 'max_depth': 10, 'max_features': 0.6198403121294715, 'criterion': 'entropy'}. Best is trial 47 with value: 0.7197286412427958.\u001b[0m\n",
      "\u001b[32m[I 2022-05-17 16:48:25,507]\u001b[0m Trial 83 finished with value: 0.6837530438967625 and parameters: {'n_estimators': 123, 'max_depth': 9, 'max_features': 0.6065998446140867, 'criterion': 'entropy'}. Best is trial 47 with value: 0.7197286412427958.\u001b[0m\n",
      "\u001b[32m[I 2022-05-17 16:48:29,392]\u001b[0m Trial 84 finished with value: 0.7187612986335089 and parameters: {'n_estimators': 130, 'max_depth': 10, 'max_features': 0.6240078803973408, 'criterion': 'entropy'}. Best is trial 47 with value: 0.7197286412427958.\u001b[0m\n",
      "\u001b[32m[I 2022-05-17 16:48:33,211]\u001b[0m Trial 85 finished with value: 0.6369442269519848 and parameters: {'n_estimators': 137, 'max_depth': 8, 'max_features': 0.6207564279869268, 'criterion': 'entropy'}. Best is trial 47 with value: 0.7197286412427958.\u001b[0m\n",
      "\u001b[32m[I 2022-05-17 16:48:37,009]\u001b[0m Trial 86 finished with value: 0.6816251595277262 and parameters: {'n_estimators': 134, 'max_depth': 9, 'max_features': 0.6342502473467226, 'criterion': 'entropy'}. Best is trial 47 with value: 0.7197286412427958.\u001b[0m\n",
      "\u001b[32m[I 2022-05-17 16:48:40,741]\u001b[0m Trial 87 finished with value: 0.7197286412427958 and parameters: {'n_estimators': 129, 'max_depth': 10, 'max_features': 0.6000218169487268, 'criterion': 'entropy'}. Best is trial 47 with value: 0.7197286412427958.\u001b[0m\n",
      "\u001b[32m[I 2022-05-17 16:48:44,327]\u001b[0m Trial 88 finished with value: 0.7191485948390836 and parameters: {'n_estimators': 125, 'max_depth': 10, 'max_features': 0.6449243833904151, 'criterion': 'entropy'}. Best is trial 47 with value: 0.7197286412427958.\u001b[0m\n",
      "\u001b[32m[I 2022-05-17 16:48:48,164]\u001b[0m Trial 89 finished with value: 0.6744685601679921 and parameters: {'n_estimators': 135, 'max_depth': 9, 'max_features': 0.6027376154748937, 'criterion': 'gini'}. Best is trial 47 with value: 0.7197286412427958.\u001b[0m\n",
      "\u001b[32m[I 2022-05-17 16:48:52,096]\u001b[0m Trial 90 finished with value: 0.6394595571773709 and parameters: {'n_estimators': 138, 'max_depth': 8, 'max_features': 0.6439285822388436, 'criterion': 'entropy'}. Best is trial 47 with value: 0.7197286412427958.\u001b[0m\n",
      "\u001b[32m[I 2022-05-17 16:48:55,837]\u001b[0m Trial 91 finished with value: 0.7185683987845962 and parameters: {'n_estimators': 126, 'max_depth': 10, 'max_features': 0.6626303414149297, 'criterion': 'entropy'}. Best is trial 47 with value: 0.7197286412427958.\u001b[0m\n",
      "\u001b[32m[I 2022-05-17 16:48:59,421]\u001b[0m Trial 92 finished with value: 0.7174074080725219 and parameters: {'n_estimators': 119, 'max_depth': 10, 'max_features': 0.6247217915565161, 'criterion': 'entropy'}. Best is trial 47 with value: 0.7197286412427958.\u001b[0m\n",
      "\u001b[32m[I 2022-05-17 16:49:03,331]\u001b[0m Trial 93 finished with value: 0.7197286412427958 and parameters: {'n_estimators': 129, 'max_depth': 10, 'max_features': 0.6107356946348368, 'criterion': 'entropy'}. Best is trial 47 with value: 0.7197286412427958.\u001b[0m\n"
     ]
    },
    {
     "ename": "KeyboardInterrupt",
     "evalue": "",
     "output_type": "error",
     "traceback": [
      "\u001b[1;31m---------------------------------------------------------------------------\u001b[0m",
      "\u001b[1;31mKeyboardInterrupt\u001b[0m                         Traceback (most recent call last)",
      "\u001b[1;32m<ipython-input-25-ac81c8b45202>\u001b[0m in \u001b[0;36m<module>\u001b[1;34m\u001b[0m\n\u001b[0;32m     23\u001b[0m \u001b[1;33m\u001b[0m\u001b[0m\n\u001b[0;32m     24\u001b[0m \u001b[0mstudy\u001b[0m \u001b[1;33m=\u001b[0m \u001b[0moptuna\u001b[0m\u001b[1;33m.\u001b[0m\u001b[0mcreate_study\u001b[0m\u001b[1;33m(\u001b[0m\u001b[0mdirection\u001b[0m\u001b[1;33m=\u001b[0m\u001b[1;34m\"maximize\"\u001b[0m\u001b[1;33m)\u001b[0m\u001b[1;33m\u001b[0m\u001b[1;33m\u001b[0m\u001b[0m\n\u001b[1;32m---> 25\u001b[1;33m \u001b[0mstudy\u001b[0m\u001b[1;33m.\u001b[0m\u001b[0moptimize\u001b[0m\u001b[1;33m(\u001b[0m\u001b[0mobjective\u001b[0m\u001b[1;33m,\u001b[0m \u001b[0mn_trials\u001b[0m\u001b[1;33m=\u001b[0m\u001b[1;36m100\u001b[0m\u001b[1;33m)\u001b[0m\u001b[1;33m\u001b[0m\u001b[1;33m\u001b[0m\u001b[0m\n\u001b[0m\u001b[0;32m     26\u001b[0m \u001b[0mprint\u001b[0m\u001b[1;33m(\u001b[0m\u001b[0mstudy\u001b[0m\u001b[1;33m.\u001b[0m\u001b[0mbest_trial\u001b[0m\u001b[1;33m)\u001b[0m\u001b[1;33m\u001b[0m\u001b[1;33m\u001b[0m\u001b[0m\n\u001b[0;32m     27\u001b[0m \u001b[1;33m\u001b[0m\u001b[0m\n",
      "\u001b[1;32mc:\\Users\\lucky\\anaconda3\\lib\\site-packages\\optuna\\study\\study.py\u001b[0m in \u001b[0;36moptimize\u001b[1;34m(self, func, n_trials, timeout, n_jobs, catch, callbacks, gc_after_trial, show_progress_bar)\u001b[0m\n\u001b[0;32m    398\u001b[0m             )\n\u001b[0;32m    399\u001b[0m \u001b[1;33m\u001b[0m\u001b[0m\n\u001b[1;32m--> 400\u001b[1;33m         _optimize(\n\u001b[0m\u001b[0;32m    401\u001b[0m             \u001b[0mstudy\u001b[0m\u001b[1;33m=\u001b[0m\u001b[0mself\u001b[0m\u001b[1;33m,\u001b[0m\u001b[1;33m\u001b[0m\u001b[1;33m\u001b[0m\u001b[0m\n\u001b[0;32m    402\u001b[0m             \u001b[0mfunc\u001b[0m\u001b[1;33m=\u001b[0m\u001b[0mfunc\u001b[0m\u001b[1;33m,\u001b[0m\u001b[1;33m\u001b[0m\u001b[1;33m\u001b[0m\u001b[0m\n",
      "\u001b[1;32mc:\\Users\\lucky\\anaconda3\\lib\\site-packages\\optuna\\study\\_optimize.py\u001b[0m in \u001b[0;36m_optimize\u001b[1;34m(study, func, n_trials, timeout, n_jobs, catch, callbacks, gc_after_trial, show_progress_bar)\u001b[0m\n\u001b[0;32m     64\u001b[0m     \u001b[1;32mtry\u001b[0m\u001b[1;33m:\u001b[0m\u001b[1;33m\u001b[0m\u001b[1;33m\u001b[0m\u001b[0m\n\u001b[0;32m     65\u001b[0m         \u001b[1;32mif\u001b[0m \u001b[0mn_jobs\u001b[0m \u001b[1;33m==\u001b[0m \u001b[1;36m1\u001b[0m\u001b[1;33m:\u001b[0m\u001b[1;33m\u001b[0m\u001b[1;33m\u001b[0m\u001b[0m\n\u001b[1;32m---> 66\u001b[1;33m             _optimize_sequential(\n\u001b[0m\u001b[0;32m     67\u001b[0m                 \u001b[0mstudy\u001b[0m\u001b[1;33m,\u001b[0m\u001b[1;33m\u001b[0m\u001b[1;33m\u001b[0m\u001b[0m\n\u001b[0;32m     68\u001b[0m                 \u001b[0mfunc\u001b[0m\u001b[1;33m,\u001b[0m\u001b[1;33m\u001b[0m\u001b[1;33m\u001b[0m\u001b[0m\n",
      "\u001b[1;32mc:\\Users\\lucky\\anaconda3\\lib\\site-packages\\optuna\\study\\_optimize.py\u001b[0m in \u001b[0;36m_optimize_sequential\u001b[1;34m(study, func, n_trials, timeout, catch, callbacks, gc_after_trial, reseed_sampler_rng, time_start, progress_bar)\u001b[0m\n\u001b[0;32m    161\u001b[0m \u001b[1;33m\u001b[0m\u001b[0m\n\u001b[0;32m    162\u001b[0m         \u001b[1;32mtry\u001b[0m\u001b[1;33m:\u001b[0m\u001b[1;33m\u001b[0m\u001b[1;33m\u001b[0m\u001b[0m\n\u001b[1;32m--> 163\u001b[1;33m             \u001b[0mtrial\u001b[0m \u001b[1;33m=\u001b[0m \u001b[0m_run_trial\u001b[0m\u001b[1;33m(\u001b[0m\u001b[0mstudy\u001b[0m\u001b[1;33m,\u001b[0m \u001b[0mfunc\u001b[0m\u001b[1;33m,\u001b[0m \u001b[0mcatch\u001b[0m\u001b[1;33m)\u001b[0m\u001b[1;33m\u001b[0m\u001b[1;33m\u001b[0m\u001b[0m\n\u001b[0m\u001b[0;32m    164\u001b[0m         \u001b[1;32mexcept\u001b[0m \u001b[0mException\u001b[0m\u001b[1;33m:\u001b[0m\u001b[1;33m\u001b[0m\u001b[1;33m\u001b[0m\u001b[0m\n\u001b[0;32m    165\u001b[0m             \u001b[1;32mraise\u001b[0m\u001b[1;33m\u001b[0m\u001b[1;33m\u001b[0m\u001b[0m\n",
      "\u001b[1;32mc:\\Users\\lucky\\anaconda3\\lib\\site-packages\\optuna\\study\\_optimize.py\u001b[0m in \u001b[0;36m_run_trial\u001b[1;34m(study, func, catch)\u001b[0m\n\u001b[0;32m    211\u001b[0m \u001b[1;33m\u001b[0m\u001b[0m\n\u001b[0;32m    212\u001b[0m     \u001b[1;32mtry\u001b[0m\u001b[1;33m:\u001b[0m\u001b[1;33m\u001b[0m\u001b[1;33m\u001b[0m\u001b[0m\n\u001b[1;32m--> 213\u001b[1;33m         \u001b[0mvalue_or_values\u001b[0m \u001b[1;33m=\u001b[0m \u001b[0mfunc\u001b[0m\u001b[1;33m(\u001b[0m\u001b[0mtrial\u001b[0m\u001b[1;33m)\u001b[0m\u001b[1;33m\u001b[0m\u001b[1;33m\u001b[0m\u001b[0m\n\u001b[0m\u001b[0;32m    214\u001b[0m     \u001b[1;32mexcept\u001b[0m \u001b[0mexceptions\u001b[0m\u001b[1;33m.\u001b[0m\u001b[0mTrialPruned\u001b[0m \u001b[1;32mas\u001b[0m \u001b[0me\u001b[0m\u001b[1;33m:\u001b[0m\u001b[1;33m\u001b[0m\u001b[1;33m\u001b[0m\u001b[0m\n\u001b[0;32m    215\u001b[0m         \u001b[1;31m# TODO(mamu): Handle multi-objective cases.\u001b[0m\u001b[1;33m\u001b[0m\u001b[1;33m\u001b[0m\u001b[1;33m\u001b[0m\u001b[0m\n",
      "\u001b[1;32m<ipython-input-25-ac81c8b45202>\u001b[0m in \u001b[0;36mobjective\u001b[1;34m(trial)\u001b[0m\n\u001b[0;32m     17\u001b[0m \u001b[1;33m\u001b[0m\u001b[0m\n\u001b[0;32m     18\u001b[0m     \u001b[0mskf\u001b[0m \u001b[1;33m=\u001b[0m \u001b[0mStratifiedKFold\u001b[0m\u001b[1;33m(\u001b[0m\u001b[0mn_splits\u001b[0m\u001b[1;33m=\u001b[0m\u001b[1;36m4\u001b[0m\u001b[1;33m,\u001b[0m \u001b[0mshuffle\u001b[0m\u001b[1;33m=\u001b[0m\u001b[1;32mTrue\u001b[0m\u001b[1;33m,\u001b[0m \u001b[0mrandom_state\u001b[0m\u001b[1;33m=\u001b[0m\u001b[1;36m2022\u001b[0m\u001b[1;33m)\u001b[0m\u001b[1;33m\u001b[0m\u001b[1;33m\u001b[0m\u001b[0m\n\u001b[1;32m---> 19\u001b[1;33m     \u001b[0mscore\u001b[0m \u001b[1;33m=\u001b[0m \u001b[0mcross_val_score\u001b[0m\u001b[1;33m(\u001b[0m\u001b[0mclassifier_obj\u001b[0m\u001b[1;33m,\u001b[0m \u001b[0mo_X_train\u001b[0m\u001b[1;33m,\u001b[0m \u001b[0mo_y_train\u001b[0m\u001b[1;33m,\u001b[0m \u001b[0mscoring\u001b[0m\u001b[1;33m=\u001b[0m\u001b[1;34m'accuracy'\u001b[0m\u001b[1;33m,\u001b[0m \u001b[0mcv\u001b[0m\u001b[1;33m=\u001b[0m\u001b[0mskf\u001b[0m\u001b[1;33m,\u001b[0m \u001b[0mn_jobs\u001b[0m\u001b[1;33m=\u001b[0m\u001b[1;33m-\u001b[0m\u001b[1;36m1\u001b[0m\u001b[1;33m)\u001b[0m\u001b[1;33m\u001b[0m\u001b[1;33m\u001b[0m\u001b[0m\n\u001b[0m\u001b[0;32m     20\u001b[0m     \u001b[0macc\u001b[0m \u001b[1;33m=\u001b[0m \u001b[0mscore\u001b[0m\u001b[1;33m.\u001b[0m\u001b[0mmean\u001b[0m\u001b[1;33m(\u001b[0m\u001b[1;33m)\u001b[0m\u001b[1;33m\u001b[0m\u001b[1;33m\u001b[0m\u001b[0m\n\u001b[0;32m     21\u001b[0m     \u001b[1;32mreturn\u001b[0m \u001b[0macc\u001b[0m\u001b[1;33m\u001b[0m\u001b[1;33m\u001b[0m\u001b[0m\n",
      "\u001b[1;32mc:\\Users\\lucky\\anaconda3\\lib\\site-packages\\sklearn\\model_selection\\_validation.py\u001b[0m in \u001b[0;36mcross_val_score\u001b[1;34m(estimator, X, y, groups, scoring, cv, n_jobs, verbose, fit_params, pre_dispatch, error_score)\u001b[0m\n\u001b[0;32m    513\u001b[0m     \u001b[0mscorer\u001b[0m \u001b[1;33m=\u001b[0m \u001b[0mcheck_scoring\u001b[0m\u001b[1;33m(\u001b[0m\u001b[0mestimator\u001b[0m\u001b[1;33m,\u001b[0m \u001b[0mscoring\u001b[0m\u001b[1;33m=\u001b[0m\u001b[0mscoring\u001b[0m\u001b[1;33m)\u001b[0m\u001b[1;33m\u001b[0m\u001b[1;33m\u001b[0m\u001b[0m\n\u001b[0;32m    514\u001b[0m \u001b[1;33m\u001b[0m\u001b[0m\n\u001b[1;32m--> 515\u001b[1;33m     cv_results = cross_validate(\n\u001b[0m\u001b[0;32m    516\u001b[0m         \u001b[0mestimator\u001b[0m\u001b[1;33m=\u001b[0m\u001b[0mestimator\u001b[0m\u001b[1;33m,\u001b[0m\u001b[1;33m\u001b[0m\u001b[1;33m\u001b[0m\u001b[0m\n\u001b[0;32m    517\u001b[0m         \u001b[0mX\u001b[0m\u001b[1;33m=\u001b[0m\u001b[0mX\u001b[0m\u001b[1;33m,\u001b[0m\u001b[1;33m\u001b[0m\u001b[1;33m\u001b[0m\u001b[0m\n",
      "\u001b[1;32mc:\\Users\\lucky\\anaconda3\\lib\\site-packages\\sklearn\\model_selection\\_validation.py\u001b[0m in \u001b[0;36mcross_validate\u001b[1;34m(estimator, X, y, groups, scoring, cv, n_jobs, verbose, fit_params, pre_dispatch, return_train_score, return_estimator, error_score)\u001b[0m\n\u001b[0;32m    264\u001b[0m     \u001b[1;31m# independent, and that it is pickle-able.\u001b[0m\u001b[1;33m\u001b[0m\u001b[1;33m\u001b[0m\u001b[1;33m\u001b[0m\u001b[0m\n\u001b[0;32m    265\u001b[0m     \u001b[0mparallel\u001b[0m \u001b[1;33m=\u001b[0m \u001b[0mParallel\u001b[0m\u001b[1;33m(\u001b[0m\u001b[0mn_jobs\u001b[0m\u001b[1;33m=\u001b[0m\u001b[0mn_jobs\u001b[0m\u001b[1;33m,\u001b[0m \u001b[0mverbose\u001b[0m\u001b[1;33m=\u001b[0m\u001b[0mverbose\u001b[0m\u001b[1;33m,\u001b[0m \u001b[0mpre_dispatch\u001b[0m\u001b[1;33m=\u001b[0m\u001b[0mpre_dispatch\u001b[0m\u001b[1;33m)\u001b[0m\u001b[1;33m\u001b[0m\u001b[1;33m\u001b[0m\u001b[0m\n\u001b[1;32m--> 266\u001b[1;33m     results = parallel(\n\u001b[0m\u001b[0;32m    267\u001b[0m         delayed(_fit_and_score)(\n\u001b[0;32m    268\u001b[0m             \u001b[0mclone\u001b[0m\u001b[1;33m(\u001b[0m\u001b[0mestimator\u001b[0m\u001b[1;33m)\u001b[0m\u001b[1;33m,\u001b[0m\u001b[1;33m\u001b[0m\u001b[1;33m\u001b[0m\u001b[0m\n",
      "\u001b[1;32mc:\\Users\\lucky\\anaconda3\\lib\\site-packages\\joblib\\parallel.py\u001b[0m in \u001b[0;36m__call__\u001b[1;34m(self, iterable)\u001b[0m\n\u001b[0;32m   1052\u001b[0m \u001b[1;33m\u001b[0m\u001b[0m\n\u001b[0;32m   1053\u001b[0m             \u001b[1;32mwith\u001b[0m \u001b[0mself\u001b[0m\u001b[1;33m.\u001b[0m\u001b[0m_backend\u001b[0m\u001b[1;33m.\u001b[0m\u001b[0mretrieval_context\u001b[0m\u001b[1;33m(\u001b[0m\u001b[1;33m)\u001b[0m\u001b[1;33m:\u001b[0m\u001b[1;33m\u001b[0m\u001b[1;33m\u001b[0m\u001b[0m\n\u001b[1;32m-> 1054\u001b[1;33m                 \u001b[0mself\u001b[0m\u001b[1;33m.\u001b[0m\u001b[0mretrieve\u001b[0m\u001b[1;33m(\u001b[0m\u001b[1;33m)\u001b[0m\u001b[1;33m\u001b[0m\u001b[1;33m\u001b[0m\u001b[0m\n\u001b[0m\u001b[0;32m   1055\u001b[0m             \u001b[1;31m# Make sure that we get a last message telling us we are done\u001b[0m\u001b[1;33m\u001b[0m\u001b[1;33m\u001b[0m\u001b[1;33m\u001b[0m\u001b[0m\n\u001b[0;32m   1056\u001b[0m             \u001b[0melapsed_time\u001b[0m \u001b[1;33m=\u001b[0m \u001b[0mtime\u001b[0m\u001b[1;33m.\u001b[0m\u001b[0mtime\u001b[0m\u001b[1;33m(\u001b[0m\u001b[1;33m)\u001b[0m \u001b[1;33m-\u001b[0m \u001b[0mself\u001b[0m\u001b[1;33m.\u001b[0m\u001b[0m_start_time\u001b[0m\u001b[1;33m\u001b[0m\u001b[1;33m\u001b[0m\u001b[0m\n",
      "\u001b[1;32mc:\\Users\\lucky\\anaconda3\\lib\\site-packages\\joblib\\parallel.py\u001b[0m in \u001b[0;36mretrieve\u001b[1;34m(self)\u001b[0m\n\u001b[0;32m    931\u001b[0m             \u001b[1;32mtry\u001b[0m\u001b[1;33m:\u001b[0m\u001b[1;33m\u001b[0m\u001b[1;33m\u001b[0m\u001b[0m\n\u001b[0;32m    932\u001b[0m                 \u001b[1;32mif\u001b[0m \u001b[0mgetattr\u001b[0m\u001b[1;33m(\u001b[0m\u001b[0mself\u001b[0m\u001b[1;33m.\u001b[0m\u001b[0m_backend\u001b[0m\u001b[1;33m,\u001b[0m \u001b[1;34m'supports_timeout'\u001b[0m\u001b[1;33m,\u001b[0m \u001b[1;32mFalse\u001b[0m\u001b[1;33m)\u001b[0m\u001b[1;33m:\u001b[0m\u001b[1;33m\u001b[0m\u001b[1;33m\u001b[0m\u001b[0m\n\u001b[1;32m--> 933\u001b[1;33m                     \u001b[0mself\u001b[0m\u001b[1;33m.\u001b[0m\u001b[0m_output\u001b[0m\u001b[1;33m.\u001b[0m\u001b[0mextend\u001b[0m\u001b[1;33m(\u001b[0m\u001b[0mjob\u001b[0m\u001b[1;33m.\u001b[0m\u001b[0mget\u001b[0m\u001b[1;33m(\u001b[0m\u001b[0mtimeout\u001b[0m\u001b[1;33m=\u001b[0m\u001b[0mself\u001b[0m\u001b[1;33m.\u001b[0m\u001b[0mtimeout\u001b[0m\u001b[1;33m)\u001b[0m\u001b[1;33m)\u001b[0m\u001b[1;33m\u001b[0m\u001b[1;33m\u001b[0m\u001b[0m\n\u001b[0m\u001b[0;32m    934\u001b[0m                 \u001b[1;32melse\u001b[0m\u001b[1;33m:\u001b[0m\u001b[1;33m\u001b[0m\u001b[1;33m\u001b[0m\u001b[0m\n\u001b[0;32m    935\u001b[0m                     \u001b[0mself\u001b[0m\u001b[1;33m.\u001b[0m\u001b[0m_output\u001b[0m\u001b[1;33m.\u001b[0m\u001b[0mextend\u001b[0m\u001b[1;33m(\u001b[0m\u001b[0mjob\u001b[0m\u001b[1;33m.\u001b[0m\u001b[0mget\u001b[0m\u001b[1;33m(\u001b[0m\u001b[1;33m)\u001b[0m\u001b[1;33m)\u001b[0m\u001b[1;33m\u001b[0m\u001b[1;33m\u001b[0m\u001b[0m\n",
      "\u001b[1;32mc:\\Users\\lucky\\anaconda3\\lib\\site-packages\\joblib\\_parallel_backends.py\u001b[0m in \u001b[0;36mwrap_future_result\u001b[1;34m(future, timeout)\u001b[0m\n\u001b[0;32m    540\u001b[0m         AsyncResults.get from multiprocessing.\"\"\"\n\u001b[0;32m    541\u001b[0m         \u001b[1;32mtry\u001b[0m\u001b[1;33m:\u001b[0m\u001b[1;33m\u001b[0m\u001b[1;33m\u001b[0m\u001b[0m\n\u001b[1;32m--> 542\u001b[1;33m             \u001b[1;32mreturn\u001b[0m \u001b[0mfuture\u001b[0m\u001b[1;33m.\u001b[0m\u001b[0mresult\u001b[0m\u001b[1;33m(\u001b[0m\u001b[0mtimeout\u001b[0m\u001b[1;33m=\u001b[0m\u001b[0mtimeout\u001b[0m\u001b[1;33m)\u001b[0m\u001b[1;33m\u001b[0m\u001b[1;33m\u001b[0m\u001b[0m\n\u001b[0m\u001b[0;32m    543\u001b[0m         \u001b[1;32mexcept\u001b[0m \u001b[0mCfTimeoutError\u001b[0m \u001b[1;32mas\u001b[0m \u001b[0me\u001b[0m\u001b[1;33m:\u001b[0m\u001b[1;33m\u001b[0m\u001b[1;33m\u001b[0m\u001b[0m\n\u001b[0;32m    544\u001b[0m             \u001b[1;32mraise\u001b[0m \u001b[0mTimeoutError\u001b[0m \u001b[1;32mfrom\u001b[0m \u001b[0me\u001b[0m\u001b[1;33m\u001b[0m\u001b[1;33m\u001b[0m\u001b[0m\n",
      "\u001b[1;32mc:\\Users\\lucky\\anaconda3\\lib\\concurrent\\futures\\_base.py\u001b[0m in \u001b[0;36mresult\u001b[1;34m(self, timeout)\u001b[0m\n\u001b[0;32m    432\u001b[0m                 \u001b[1;32mreturn\u001b[0m \u001b[0mself\u001b[0m\u001b[1;33m.\u001b[0m\u001b[0m__get_result\u001b[0m\u001b[1;33m(\u001b[0m\u001b[1;33m)\u001b[0m\u001b[1;33m\u001b[0m\u001b[1;33m\u001b[0m\u001b[0m\n\u001b[0;32m    433\u001b[0m \u001b[1;33m\u001b[0m\u001b[0m\n\u001b[1;32m--> 434\u001b[1;33m             \u001b[0mself\u001b[0m\u001b[1;33m.\u001b[0m\u001b[0m_condition\u001b[0m\u001b[1;33m.\u001b[0m\u001b[0mwait\u001b[0m\u001b[1;33m(\u001b[0m\u001b[0mtimeout\u001b[0m\u001b[1;33m)\u001b[0m\u001b[1;33m\u001b[0m\u001b[1;33m\u001b[0m\u001b[0m\n\u001b[0m\u001b[0;32m    435\u001b[0m \u001b[1;33m\u001b[0m\u001b[0m\n\u001b[0;32m    436\u001b[0m             \u001b[1;32mif\u001b[0m \u001b[0mself\u001b[0m\u001b[1;33m.\u001b[0m\u001b[0m_state\u001b[0m \u001b[1;32min\u001b[0m \u001b[1;33m[\u001b[0m\u001b[0mCANCELLED\u001b[0m\u001b[1;33m,\u001b[0m \u001b[0mCANCELLED_AND_NOTIFIED\u001b[0m\u001b[1;33m]\u001b[0m\u001b[1;33m:\u001b[0m\u001b[1;33m\u001b[0m\u001b[1;33m\u001b[0m\u001b[0m\n",
      "\u001b[1;32mc:\\Users\\lucky\\anaconda3\\lib\\threading.py\u001b[0m in \u001b[0;36mwait\u001b[1;34m(self, timeout)\u001b[0m\n\u001b[0;32m    300\u001b[0m         \u001b[1;32mtry\u001b[0m\u001b[1;33m:\u001b[0m    \u001b[1;31m# restore state no matter what (e.g., KeyboardInterrupt)\u001b[0m\u001b[1;33m\u001b[0m\u001b[1;33m\u001b[0m\u001b[0m\n\u001b[0;32m    301\u001b[0m             \u001b[1;32mif\u001b[0m \u001b[0mtimeout\u001b[0m \u001b[1;32mis\u001b[0m \u001b[1;32mNone\u001b[0m\u001b[1;33m:\u001b[0m\u001b[1;33m\u001b[0m\u001b[1;33m\u001b[0m\u001b[0m\n\u001b[1;32m--> 302\u001b[1;33m                 \u001b[0mwaiter\u001b[0m\u001b[1;33m.\u001b[0m\u001b[0macquire\u001b[0m\u001b[1;33m(\u001b[0m\u001b[1;33m)\u001b[0m\u001b[1;33m\u001b[0m\u001b[1;33m\u001b[0m\u001b[0m\n\u001b[0m\u001b[0;32m    303\u001b[0m                 \u001b[0mgotit\u001b[0m \u001b[1;33m=\u001b[0m \u001b[1;32mTrue\u001b[0m\u001b[1;33m\u001b[0m\u001b[1;33m\u001b[0m\u001b[0m\n\u001b[0;32m    304\u001b[0m             \u001b[1;32melse\u001b[0m\u001b[1;33m:\u001b[0m\u001b[1;33m\u001b[0m\u001b[1;33m\u001b[0m\u001b[0m\n",
      "\u001b[1;31mKeyboardInterrupt\u001b[0m: "
     ]
    }
   ],
   "source": [
    "# Bayesian Tuning of RandomForest\n",
    "\n",
    "def objective(trial):\n",
    "      \n",
    "    rf_n_estimators = trial.suggest_int(\"n_estimators\", 50, 150)\n",
    "    rf_max_depth = trial.suggest_int(\"max_depth\", 2, 10, log=True)\n",
    "    rf_max_features = trial.suggest_float(\"max_features\", 0.6, 0.95)\n",
    "    rf_criterion = trial.suggest_categorical(\"criterion\", [\"gini\", \"entropy\"])\n",
    "    \n",
    "\n",
    "    classifier_obj = RandomForestClassifier(n_estimators=rf_n_estimators, \n",
    "                                            max_depth=rf_max_depth,\n",
    "                                            max_features=rf_max_features,\n",
    "                                            criterion=rf_criterion,\n",
    "                                            n_jobs=-1, \n",
    "                                            random_state=2022)\n",
    "\n",
    "    skf = StratifiedKFold(n_splits=4, shuffle=True, random_state=2022)\n",
    "    score = cross_val_score(classifier_obj, o_X_train, o_y_train, scoring='accuracy', cv=skf, n_jobs=-1)\n",
    "    acc = score.mean()\n",
    "    return acc\n",
    "\n",
    "\n",
    "study = optuna.create_study(direction=\"maximize\")\n",
    "study.optimize(objective, n_trials=100)\n",
    "print(study.best_trial)\n",
    "\n",
    "model = RandomForestClassifier(**study.best_params, n_jobs=-1, random_state=2020)\n",
    "scores = cross_val_score(model, o_X_train, o_y_train, scoring='accuracy', cv=5, n_jobs=-1)\n",
    "\n",
    "print(scores)\n",
    "print('최대 성능:', {max(scores)}, '평균 성능:', {np.mean(scores)})\n",
    "\n",
    "bayesian_tuned.append((model.__class__.__name__, model, max(scores)))"
   ]
  },
  {
   "cell_type": "code",
   "execution_count": null,
   "metadata": {},
   "outputs": [
    {
     "data": {
      "application/vnd.plotly.v1+json": {
       "config": {
        "plotlyServerURL": "https://plot.ly"
       },
       "data": [
        {
         "mode": "markers",
         "name": "Objective Value",
         "type": "scatter",
         "x": [
          0,
          1,
          2,
          3,
          4,
          5,
          6,
          7,
          8,
          9,
          10,
          11,
          12,
          13,
          14,
          15,
          16,
          17,
          18,
          19,
          20,
          21,
          22,
          23,
          24,
          25,
          26,
          27,
          28,
          29,
          30,
          31,
          32,
          33,
          34,
          35,
          36,
          37,
          38,
          39,
          40,
          41,
          42,
          43,
          44,
          45,
          46,
          47,
          48,
          49,
          50,
          51,
          52,
          53,
          54,
          55,
          56,
          57,
          58,
          59,
          60,
          61,
          62,
          63,
          64,
          65,
          66,
          67,
          68,
          69,
          70,
          71
         ],
         "y": [
          0.6394600061296958,
          0.32166476310880926,
          0.359771237839378,
          0.31663485091191196,
          0.3576435031211166,
          0.31392692013916323,
          0.4783368531195602,
          0.31141308642152676,
          0.519341764059391,
          0.41257057530546715,
          0.7166328156613727,
          0.7133449881356866,
          0.7127649417319744,
          0.7137325836428112,
          0.5839442077966857,
          0.6315301612157869,
          0.481239030598196,
          0.6767926367029898,
          0.5338483115800967,
          0.5874274792344585,
          0.3572556083124421,
          0.7133449881356866,
          0.7177941056749968,
          0.6350116368442602,
          0.5845250024542727,
          0.6810467592825383,
          0.5235957369881644,
          0.6731146696070052,
          0.4673117812273279,
          0.6328840517767738,
          0.4224355543902748,
          0.7166328156613727,
          0.6793055725159767,
          0.7179898488886335,
          0.6367511774522974,
          0.5874286764406581,
          0.6649889318286846,
          0.6367511774522974,
          0.7168284092242343,
          0.6748536116119424,
          0.5321071248135352,
          0.7174087549294965,
          0.7170219076762467,
          0.6406209968417701,
          0.6794981730633394,
          0.7100579088638752,
          0.5899423605075197,
          0.7170220573270216,
          0.6787243289060647,
          0.3593834926814785,
          0.6251468074102275,
          0.7174087549294965,
          0.7162483628205221,
          0.6808519139735513,
          0.7187615979350588,
          0.7154734711078228,
          0.6361717296516849,
          0.6789166301518775,
          0.582592412346548,
          0.717796200785846,
          0.6800792670224765,
          0.7158598694087478,
          0.7170226559301215,
          0.639073009225671,
          0.716245369805023,
          0.47543632179944884,
          0.6802726158237138,
          0.421467912479438,
          0.3183767859323483,
          0.7106375063152627,
          0.6793072186745012,
          0.7168288581765592
         ]
        },
        {
         "name": "Best Value",
         "type": "scatter",
         "x": [
          0,
          1,
          2,
          3,
          4,
          5,
          6,
          7,
          8,
          9,
          10,
          11,
          12,
          13,
          14,
          15,
          16,
          17,
          18,
          19,
          20,
          21,
          22,
          23,
          24,
          25,
          26,
          27,
          28,
          29,
          30,
          31,
          32,
          33,
          34,
          35,
          36,
          37,
          38,
          39,
          40,
          41,
          42,
          43,
          44,
          45,
          46,
          47,
          48,
          49,
          50,
          51,
          52,
          53,
          54,
          55,
          56,
          57,
          58,
          59,
          60,
          61,
          62,
          63,
          64,
          65,
          66,
          67,
          68,
          69,
          70,
          71
         ],
         "y": [
          0.6394600061296958,
          0.6394600061296958,
          0.6394600061296958,
          0.6394600061296958,
          0.6394600061296958,
          0.6394600061296958,
          0.6394600061296958,
          0.6394600061296958,
          0.6394600061296958,
          0.6394600061296958,
          0.7166328156613727,
          0.7166328156613727,
          0.7166328156613727,
          0.7166328156613727,
          0.7166328156613727,
          0.7166328156613727,
          0.7166328156613727,
          0.7166328156613727,
          0.7166328156613727,
          0.7166328156613727,
          0.7166328156613727,
          0.7166328156613727,
          0.7177941056749968,
          0.7177941056749968,
          0.7177941056749968,
          0.7177941056749968,
          0.7177941056749968,
          0.7177941056749968,
          0.7177941056749968,
          0.7177941056749968,
          0.7177941056749968,
          0.7177941056749968,
          0.7177941056749968,
          0.7179898488886335,
          0.7179898488886335,
          0.7179898488886335,
          0.7179898488886335,
          0.7179898488886335,
          0.7179898488886335,
          0.7179898488886335,
          0.7179898488886335,
          0.7179898488886335,
          0.7179898488886335,
          0.7179898488886335,
          0.7179898488886335,
          0.7179898488886335,
          0.7179898488886335,
          0.7179898488886335,
          0.7179898488886335,
          0.7179898488886335,
          0.7179898488886335,
          0.7179898488886335,
          0.7179898488886335,
          0.7179898488886335,
          0.7187615979350588,
          0.7187615979350588,
          0.7187615979350588,
          0.7187615979350588,
          0.7187615979350588,
          0.7187615979350588,
          0.7187615979350588,
          0.7187615979350588,
          0.7187615979350588,
          0.7187615979350588,
          0.7187615979350588,
          0.7187615979350588,
          0.7187615979350588,
          0.7187615979350588,
          0.7187615979350588,
          0.7187615979350588,
          0.7187615979350588,
          0.7187615979350588
         ]
        }
       ],
       "layout": {
        "template": {
         "data": {
          "bar": [
           {
            "error_x": {
             "color": "#2a3f5f"
            },
            "error_y": {
             "color": "#2a3f5f"
            },
            "marker": {
             "line": {
              "color": "#E5ECF6",
              "width": 0.5
             },
             "pattern": {
              "fillmode": "overlay",
              "size": 10,
              "solidity": 0.2
             }
            },
            "type": "bar"
           }
          ],
          "barpolar": [
           {
            "marker": {
             "line": {
              "color": "#E5ECF6",
              "width": 0.5
             },
             "pattern": {
              "fillmode": "overlay",
              "size": 10,
              "solidity": 0.2
             }
            },
            "type": "barpolar"
           }
          ],
          "carpet": [
           {
            "aaxis": {
             "endlinecolor": "#2a3f5f",
             "gridcolor": "white",
             "linecolor": "white",
             "minorgridcolor": "white",
             "startlinecolor": "#2a3f5f"
            },
            "baxis": {
             "endlinecolor": "#2a3f5f",
             "gridcolor": "white",
             "linecolor": "white",
             "minorgridcolor": "white",
             "startlinecolor": "#2a3f5f"
            },
            "type": "carpet"
           }
          ],
          "choropleth": [
           {
            "colorbar": {
             "outlinewidth": 0,
             "ticks": ""
            },
            "type": "choropleth"
           }
          ],
          "contour": [
           {
            "colorbar": {
             "outlinewidth": 0,
             "ticks": ""
            },
            "colorscale": [
             [
              0,
              "#0d0887"
             ],
             [
              0.1111111111111111,
              "#46039f"
             ],
             [
              0.2222222222222222,
              "#7201a8"
             ],
             [
              0.3333333333333333,
              "#9c179e"
             ],
             [
              0.4444444444444444,
              "#bd3786"
             ],
             [
              0.5555555555555556,
              "#d8576b"
             ],
             [
              0.6666666666666666,
              "#ed7953"
             ],
             [
              0.7777777777777778,
              "#fb9f3a"
             ],
             [
              0.8888888888888888,
              "#fdca26"
             ],
             [
              1,
              "#f0f921"
             ]
            ],
            "type": "contour"
           }
          ],
          "contourcarpet": [
           {
            "colorbar": {
             "outlinewidth": 0,
             "ticks": ""
            },
            "type": "contourcarpet"
           }
          ],
          "heatmap": [
           {
            "colorbar": {
             "outlinewidth": 0,
             "ticks": ""
            },
            "colorscale": [
             [
              0,
              "#0d0887"
             ],
             [
              0.1111111111111111,
              "#46039f"
             ],
             [
              0.2222222222222222,
              "#7201a8"
             ],
             [
              0.3333333333333333,
              "#9c179e"
             ],
             [
              0.4444444444444444,
              "#bd3786"
             ],
             [
              0.5555555555555556,
              "#d8576b"
             ],
             [
              0.6666666666666666,
              "#ed7953"
             ],
             [
              0.7777777777777778,
              "#fb9f3a"
             ],
             [
              0.8888888888888888,
              "#fdca26"
             ],
             [
              1,
              "#f0f921"
             ]
            ],
            "type": "heatmap"
           }
          ],
          "heatmapgl": [
           {
            "colorbar": {
             "outlinewidth": 0,
             "ticks": ""
            },
            "colorscale": [
             [
              0,
              "#0d0887"
             ],
             [
              0.1111111111111111,
              "#46039f"
             ],
             [
              0.2222222222222222,
              "#7201a8"
             ],
             [
              0.3333333333333333,
              "#9c179e"
             ],
             [
              0.4444444444444444,
              "#bd3786"
             ],
             [
              0.5555555555555556,
              "#d8576b"
             ],
             [
              0.6666666666666666,
              "#ed7953"
             ],
             [
              0.7777777777777778,
              "#fb9f3a"
             ],
             [
              0.8888888888888888,
              "#fdca26"
             ],
             [
              1,
              "#f0f921"
             ]
            ],
            "type": "heatmapgl"
           }
          ],
          "histogram": [
           {
            "marker": {
             "pattern": {
              "fillmode": "overlay",
              "size": 10,
              "solidity": 0.2
             }
            },
            "type": "histogram"
           }
          ],
          "histogram2d": [
           {
            "colorbar": {
             "outlinewidth": 0,
             "ticks": ""
            },
            "colorscale": [
             [
              0,
              "#0d0887"
             ],
             [
              0.1111111111111111,
              "#46039f"
             ],
             [
              0.2222222222222222,
              "#7201a8"
             ],
             [
              0.3333333333333333,
              "#9c179e"
             ],
             [
              0.4444444444444444,
              "#bd3786"
             ],
             [
              0.5555555555555556,
              "#d8576b"
             ],
             [
              0.6666666666666666,
              "#ed7953"
             ],
             [
              0.7777777777777778,
              "#fb9f3a"
             ],
             [
              0.8888888888888888,
              "#fdca26"
             ],
             [
              1,
              "#f0f921"
             ]
            ],
            "type": "histogram2d"
           }
          ],
          "histogram2dcontour": [
           {
            "colorbar": {
             "outlinewidth": 0,
             "ticks": ""
            },
            "colorscale": [
             [
              0,
              "#0d0887"
             ],
             [
              0.1111111111111111,
              "#46039f"
             ],
             [
              0.2222222222222222,
              "#7201a8"
             ],
             [
              0.3333333333333333,
              "#9c179e"
             ],
             [
              0.4444444444444444,
              "#bd3786"
             ],
             [
              0.5555555555555556,
              "#d8576b"
             ],
             [
              0.6666666666666666,
              "#ed7953"
             ],
             [
              0.7777777777777778,
              "#fb9f3a"
             ],
             [
              0.8888888888888888,
              "#fdca26"
             ],
             [
              1,
              "#f0f921"
             ]
            ],
            "type": "histogram2dcontour"
           }
          ],
          "mesh3d": [
           {
            "colorbar": {
             "outlinewidth": 0,
             "ticks": ""
            },
            "type": "mesh3d"
           }
          ],
          "parcoords": [
           {
            "line": {
             "colorbar": {
              "outlinewidth": 0,
              "ticks": ""
             }
            },
            "type": "parcoords"
           }
          ],
          "pie": [
           {
            "automargin": true,
            "type": "pie"
           }
          ],
          "scatter": [
           {
            "fillpattern": {
             "fillmode": "overlay",
             "size": 10,
             "solidity": 0.2
            },
            "type": "scatter"
           }
          ],
          "scatter3d": [
           {
            "line": {
             "colorbar": {
              "outlinewidth": 0,
              "ticks": ""
             }
            },
            "marker": {
             "colorbar": {
              "outlinewidth": 0,
              "ticks": ""
             }
            },
            "type": "scatter3d"
           }
          ],
          "scattercarpet": [
           {
            "marker": {
             "colorbar": {
              "outlinewidth": 0,
              "ticks": ""
             }
            },
            "type": "scattercarpet"
           }
          ],
          "scattergeo": [
           {
            "marker": {
             "colorbar": {
              "outlinewidth": 0,
              "ticks": ""
             }
            },
            "type": "scattergeo"
           }
          ],
          "scattergl": [
           {
            "marker": {
             "colorbar": {
              "outlinewidth": 0,
              "ticks": ""
             }
            },
            "type": "scattergl"
           }
          ],
          "scattermapbox": [
           {
            "marker": {
             "colorbar": {
              "outlinewidth": 0,
              "ticks": ""
             }
            },
            "type": "scattermapbox"
           }
          ],
          "scatterpolar": [
           {
            "marker": {
             "colorbar": {
              "outlinewidth": 0,
              "ticks": ""
             }
            },
            "type": "scatterpolar"
           }
          ],
          "scatterpolargl": [
           {
            "marker": {
             "colorbar": {
              "outlinewidth": 0,
              "ticks": ""
             }
            },
            "type": "scatterpolargl"
           }
          ],
          "scatterternary": [
           {
            "marker": {
             "colorbar": {
              "outlinewidth": 0,
              "ticks": ""
             }
            },
            "type": "scatterternary"
           }
          ],
          "surface": [
           {
            "colorbar": {
             "outlinewidth": 0,
             "ticks": ""
            },
            "colorscale": [
             [
              0,
              "#0d0887"
             ],
             [
              0.1111111111111111,
              "#46039f"
             ],
             [
              0.2222222222222222,
              "#7201a8"
             ],
             [
              0.3333333333333333,
              "#9c179e"
             ],
             [
              0.4444444444444444,
              "#bd3786"
             ],
             [
              0.5555555555555556,
              "#d8576b"
             ],
             [
              0.6666666666666666,
              "#ed7953"
             ],
             [
              0.7777777777777778,
              "#fb9f3a"
             ],
             [
              0.8888888888888888,
              "#fdca26"
             ],
             [
              1,
              "#f0f921"
             ]
            ],
            "type": "surface"
           }
          ],
          "table": [
           {
            "cells": {
             "fill": {
              "color": "#EBF0F8"
             },
             "line": {
              "color": "white"
             }
            },
            "header": {
             "fill": {
              "color": "#C8D4E3"
             },
             "line": {
              "color": "white"
             }
            },
            "type": "table"
           }
          ]
         },
         "layout": {
          "annotationdefaults": {
           "arrowcolor": "#2a3f5f",
           "arrowhead": 0,
           "arrowwidth": 1
          },
          "autotypenumbers": "strict",
          "coloraxis": {
           "colorbar": {
            "outlinewidth": 0,
            "ticks": ""
           }
          },
          "colorscale": {
           "diverging": [
            [
             0,
             "#8e0152"
            ],
            [
             0.1,
             "#c51b7d"
            ],
            [
             0.2,
             "#de77ae"
            ],
            [
             0.3,
             "#f1b6da"
            ],
            [
             0.4,
             "#fde0ef"
            ],
            [
             0.5,
             "#f7f7f7"
            ],
            [
             0.6,
             "#e6f5d0"
            ],
            [
             0.7,
             "#b8e186"
            ],
            [
             0.8,
             "#7fbc41"
            ],
            [
             0.9,
             "#4d9221"
            ],
            [
             1,
             "#276419"
            ]
           ],
           "sequential": [
            [
             0,
             "#0d0887"
            ],
            [
             0.1111111111111111,
             "#46039f"
            ],
            [
             0.2222222222222222,
             "#7201a8"
            ],
            [
             0.3333333333333333,
             "#9c179e"
            ],
            [
             0.4444444444444444,
             "#bd3786"
            ],
            [
             0.5555555555555556,
             "#d8576b"
            ],
            [
             0.6666666666666666,
             "#ed7953"
            ],
            [
             0.7777777777777778,
             "#fb9f3a"
            ],
            [
             0.8888888888888888,
             "#fdca26"
            ],
            [
             1,
             "#f0f921"
            ]
           ],
           "sequentialminus": [
            [
             0,
             "#0d0887"
            ],
            [
             0.1111111111111111,
             "#46039f"
            ],
            [
             0.2222222222222222,
             "#7201a8"
            ],
            [
             0.3333333333333333,
             "#9c179e"
            ],
            [
             0.4444444444444444,
             "#bd3786"
            ],
            [
             0.5555555555555556,
             "#d8576b"
            ],
            [
             0.6666666666666666,
             "#ed7953"
            ],
            [
             0.7777777777777778,
             "#fb9f3a"
            ],
            [
             0.8888888888888888,
             "#fdca26"
            ],
            [
             1,
             "#f0f921"
            ]
           ]
          },
          "colorway": [
           "#636efa",
           "#EF553B",
           "#00cc96",
           "#ab63fa",
           "#FFA15A",
           "#19d3f3",
           "#FF6692",
           "#B6E880",
           "#FF97FF",
           "#FECB52"
          ],
          "font": {
           "color": "#2a3f5f"
          },
          "geo": {
           "bgcolor": "white",
           "lakecolor": "white",
           "landcolor": "#E5ECF6",
           "showlakes": true,
           "showland": true,
           "subunitcolor": "white"
          },
          "hoverlabel": {
           "align": "left"
          },
          "hovermode": "closest",
          "mapbox": {
           "style": "light"
          },
          "paper_bgcolor": "white",
          "plot_bgcolor": "#E5ECF6",
          "polar": {
           "angularaxis": {
            "gridcolor": "white",
            "linecolor": "white",
            "ticks": ""
           },
           "bgcolor": "#E5ECF6",
           "radialaxis": {
            "gridcolor": "white",
            "linecolor": "white",
            "ticks": ""
           }
          },
          "scene": {
           "xaxis": {
            "backgroundcolor": "#E5ECF6",
            "gridcolor": "white",
            "gridwidth": 2,
            "linecolor": "white",
            "showbackground": true,
            "ticks": "",
            "zerolinecolor": "white"
           },
           "yaxis": {
            "backgroundcolor": "#E5ECF6",
            "gridcolor": "white",
            "gridwidth": 2,
            "linecolor": "white",
            "showbackground": true,
            "ticks": "",
            "zerolinecolor": "white"
           },
           "zaxis": {
            "backgroundcolor": "#E5ECF6",
            "gridcolor": "white",
            "gridwidth": 2,
            "linecolor": "white",
            "showbackground": true,
            "ticks": "",
            "zerolinecolor": "white"
           }
          },
          "shapedefaults": {
           "line": {
            "color": "#2a3f5f"
           }
          },
          "ternary": {
           "aaxis": {
            "gridcolor": "white",
            "linecolor": "white",
            "ticks": ""
           },
           "baxis": {
            "gridcolor": "white",
            "linecolor": "white",
            "ticks": ""
           },
           "bgcolor": "#E5ECF6",
           "caxis": {
            "gridcolor": "white",
            "linecolor": "white",
            "ticks": ""
           }
          },
          "title": {
           "x": 0.05
          },
          "xaxis": {
           "automargin": true,
           "gridcolor": "white",
           "linecolor": "white",
           "ticks": "",
           "title": {
            "standoff": 15
           },
           "zerolinecolor": "white",
           "zerolinewidth": 2
          },
          "yaxis": {
           "automargin": true,
           "gridcolor": "white",
           "linecolor": "white",
           "ticks": "",
           "title": {
            "standoff": 15
           },
           "zerolinecolor": "white",
           "zerolinewidth": 2
          }
         }
        },
        "title": {
         "text": "Optimization History Plot"
        },
        "xaxis": {
         "title": {
          "text": "#Trials"
         }
        },
        "yaxis": {
         "title": {
          "text": "Objective Value"
         }
        }
       }
      }
     },
     "metadata": {},
     "output_type": "display_data"
    }
   ],
   "source": [
    "optuna.visualization.plot_optimization_history(study)"
   ]
  },
  {
   "cell_type": "code",
   "execution_count": null,
   "metadata": {},
   "outputs": [
    {
     "data": {
      "application/vnd.plotly.v1+json": {
       "config": {
        "plotlyServerURL": "https://plot.ly"
       },
       "data": [
        {
         "dimensions": [
          {
           "label": "Objective Value",
           "range": [
            0.31141308642152676,
            0.7187615979350588
           ],
           "values": [
            0.6394600061296958,
            0.32166476310880926,
            0.359771237839378,
            0.31663485091191196,
            0.3576435031211166,
            0.31392692013916323,
            0.4783368531195602,
            0.31141308642152676,
            0.519341764059391,
            0.41257057530546715,
            0.7166328156613727,
            0.7133449881356866,
            0.7127649417319744,
            0.7137325836428112,
            0.5839442077966857,
            0.6315301612157869,
            0.481239030598196,
            0.6767926367029898,
            0.5338483115800967,
            0.5874274792344585,
            0.3572556083124421,
            0.7133449881356866,
            0.7177941056749968,
            0.6350116368442602,
            0.5845250024542727,
            0.6810467592825383,
            0.5235957369881644,
            0.6731146696070052,
            0.4673117812273279,
            0.6328840517767738,
            0.4224355543902748,
            0.7166328156613727,
            0.6793055725159767,
            0.7179898488886335,
            0.6367511774522974,
            0.5874286764406581,
            0.6649889318286846,
            0.6367511774522974,
            0.7168284092242343,
            0.6748536116119424,
            0.5321071248135352,
            0.7174087549294965,
            0.7170219076762467,
            0.6406209968417701,
            0.6794981730633394,
            0.7100579088638752,
            0.5899423605075197,
            0.7170220573270216,
            0.6787243289060647,
            0.3593834926814785,
            0.6251468074102275,
            0.7174087549294965,
            0.7162483628205221,
            0.6808519139735513,
            0.7187615979350588,
            0.7154734711078228,
            0.6361717296516849,
            0.6789166301518775,
            0.582592412346548,
            0.717796200785846,
            0.6800792670224765,
            0.7158598694087478,
            0.7170226559301215,
            0.639073009225671,
            0.716245369805023,
            0.47543632179944884,
            0.6802726158237138,
            0.421467912479438,
            0.3183767859323483,
            0.7106375063152627,
            0.6793072186745012,
            0.7168288581765592
           ]
          },
          {
           "label": "criterion",
           "range": [
            0,
            1
           ],
           "ticktext": [
            "entropy",
            "gini"
           ],
           "tickvals": [
            0,
            1
           ],
           "values": [
            0,
            1,
            0,
            0,
            0,
            1,
            0,
            1,
            1,
            1,
            0,
            0,
            0,
            0,
            0,
            0,
            0,
            0,
            0,
            0,
            0,
            0,
            0,
            0,
            0,
            0,
            1,
            0,
            0,
            0,
            0,
            0,
            0,
            0,
            0,
            0,
            1,
            0,
            0,
            1,
            0,
            0,
            0,
            0,
            0,
            1,
            0,
            0,
            0,
            0,
            1,
            0,
            0,
            0,
            0,
            0,
            0,
            0,
            0,
            0,
            0,
            0,
            0,
            0,
            0,
            0,
            0,
            0,
            1,
            0,
            0,
            0
           ]
          },
          {
           "label": "max_depth",
           "range": [
            2,
            10
           ],
           "values": [
            8,
            2,
            3,
            2,
            3,
            2,
            5,
            2,
            6,
            4,
            10,
            10,
            10,
            10,
            7,
            8,
            5,
            9,
            6,
            7,
            3,
            10,
            10,
            8,
            7,
            9,
            6,
            9,
            5,
            8,
            4,
            10,
            9,
            10,
            8,
            7,
            9,
            8,
            10,
            9,
            6,
            10,
            10,
            8,
            9,
            10,
            7,
            10,
            9,
            3,
            8,
            10,
            10,
            9,
            10,
            10,
            8,
            9,
            7,
            10,
            9,
            10,
            10,
            8,
            10,
            5,
            9,
            4,
            2,
            10,
            9,
            10
           ]
          },
          {
           "label": "max_features",
           "range": [
            0.6023249419331893,
            0.939176732789921
           ],
           "values": [
            0.6266343648803883,
            0.6616435412177148,
            0.6170475170044072,
            0.933850699386778,
            0.6479005159447929,
            0.8233018868502961,
            0.7819173247680546,
            0.918288518770965,
            0.6303578497059235,
            0.8501864687953842,
            0.7135315933740105,
            0.7218124108746538,
            0.7143113299805015,
            0.7208281661640134,
            0.7125008698218387,
            0.7535887917105736,
            0.7740815905271885,
            0.7025952321266206,
            0.8190322249692601,
            0.6648550784174162,
            0.68422311100336,
            0.7305842283406643,
            0.7476687170699019,
            0.7616074549897354,
            0.7993724659879347,
            0.7424612284097173,
            0.6848604771215716,
            0.8647713392805513,
            0.6931105918735987,
            0.7374307732856092,
            0.7961211969007705,
            0.7302933126655078,
            0.7581793529120489,
            0.6581046686767509,
            0.6023249419331893,
            0.6613481463247225,
            0.6467770467487548,
            0.6734823589069101,
            0.6354150283070243,
            0.6342184317365489,
            0.6109826225764083,
            0.6480931966677965,
            0.646725209588402,
            0.6457247338412554,
            0.6236105378790474,
            0.635955006516617,
            0.6580263760822194,
            0.6216740898523843,
            0.6196843766780641,
            0.607495778038258,
            0.8872432668024298,
            0.6739577351999074,
            0.6759836010332562,
            0.6506198687862401,
            0.699834055601895,
            0.702646937192885,
            0.692719996926458,
            0.665302386067627,
            0.6771706017997924,
            0.6940622306654638,
            0.7019658278500026,
            0.7155938137254306,
            0.6709663884046998,
            0.6904278446500551,
            0.7021225124309852,
            0.6728593569033644,
            0.7709447682342696,
            0.7423583497244437,
            0.7274383258386039,
            0.939176732789921,
            0.7083893179359659,
            0.6655998203817289
           ]
          },
          {
           "label": "n_estimators",
           "range": [
            51,
            149
           ],
           "values": [
            102,
            137,
            76,
            131,
            128,
            130,
            122,
            55,
            107,
            132,
            86,
            90,
            81,
            83,
            63,
            76,
            91,
            66,
            112,
            92,
            113,
            90,
            147,
            149,
            148,
            80,
            99,
            67,
            53,
            100,
            118,
            86,
            84,
            72,
            72,
            141,
            59,
            72,
            97,
            97,
            107,
            87,
            96,
            104,
            95,
            126,
            104,
            73,
            78,
            72,
            62,
            88,
            75,
            87,
            68,
            57,
            67,
            69,
            51,
            78,
            81,
            63,
            77,
            76,
            88,
            83,
            78,
            80,
            135,
            93,
            70,
            76
           ]
          }
         ],
         "labelangle": 30,
         "labelside": "bottom",
         "line": {
          "color": [
           0.6394600061296958,
           0.32166476310880926,
           0.359771237839378,
           0.31663485091191196,
           0.3576435031211166,
           0.31392692013916323,
           0.4783368531195602,
           0.31141308642152676,
           0.519341764059391,
           0.41257057530546715,
           0.7166328156613727,
           0.7133449881356866,
           0.7127649417319744,
           0.7137325836428112,
           0.5839442077966857,
           0.6315301612157869,
           0.481239030598196,
           0.6767926367029898,
           0.5338483115800967,
           0.5874274792344585,
           0.3572556083124421,
           0.7133449881356866,
           0.7177941056749968,
           0.6350116368442602,
           0.5845250024542727,
           0.6810467592825383,
           0.5235957369881644,
           0.6731146696070052,
           0.4673117812273279,
           0.6328840517767738,
           0.4224355543902748,
           0.7166328156613727,
           0.6793055725159767,
           0.7179898488886335,
           0.6367511774522974,
           0.5874286764406581,
           0.6649889318286846,
           0.6367511774522974,
           0.7168284092242343,
           0.6748536116119424,
           0.5321071248135352,
           0.7174087549294965,
           0.7170219076762467,
           0.6406209968417701,
           0.6794981730633394,
           0.7100579088638752,
           0.5899423605075197,
           0.7170220573270216,
           0.6787243289060647,
           0.3593834926814785,
           0.6251468074102275,
           0.7174087549294965,
           0.7162483628205221,
           0.6808519139735513,
           0.7187615979350588,
           0.7154734711078228,
           0.6361717296516849,
           0.6789166301518775,
           0.582592412346548,
           0.717796200785846,
           0.6800792670224765,
           0.7158598694087478,
           0.7170226559301215,
           0.639073009225671,
           0.716245369805023,
           0.47543632179944884,
           0.6802726158237138,
           0.421467912479438,
           0.3183767859323483,
           0.7106375063152627,
           0.6793072186745012,
           0.7168288581765592
          ],
          "colorbar": {
           "title": {
            "text": "Objective Value"
           }
          },
          "colorscale": [
           [
            0,
            "rgb(247,251,255)"
           ],
           [
            0.125,
            "rgb(222,235,247)"
           ],
           [
            0.25,
            "rgb(198,219,239)"
           ],
           [
            0.375,
            "rgb(158,202,225)"
           ],
           [
            0.5,
            "rgb(107,174,214)"
           ],
           [
            0.625,
            "rgb(66,146,198)"
           ],
           [
            0.75,
            "rgb(33,113,181)"
           ],
           [
            0.875,
            "rgb(8,81,156)"
           ],
           [
            1,
            "rgb(8,48,107)"
           ]
          ],
          "reversescale": false,
          "showscale": true
         },
         "type": "parcoords"
        }
       ],
       "layout": {
        "template": {
         "data": {
          "bar": [
           {
            "error_x": {
             "color": "#2a3f5f"
            },
            "error_y": {
             "color": "#2a3f5f"
            },
            "marker": {
             "line": {
              "color": "#E5ECF6",
              "width": 0.5
             },
             "pattern": {
              "fillmode": "overlay",
              "size": 10,
              "solidity": 0.2
             }
            },
            "type": "bar"
           }
          ],
          "barpolar": [
           {
            "marker": {
             "line": {
              "color": "#E5ECF6",
              "width": 0.5
             },
             "pattern": {
              "fillmode": "overlay",
              "size": 10,
              "solidity": 0.2
             }
            },
            "type": "barpolar"
           }
          ],
          "carpet": [
           {
            "aaxis": {
             "endlinecolor": "#2a3f5f",
             "gridcolor": "white",
             "linecolor": "white",
             "minorgridcolor": "white",
             "startlinecolor": "#2a3f5f"
            },
            "baxis": {
             "endlinecolor": "#2a3f5f",
             "gridcolor": "white",
             "linecolor": "white",
             "minorgridcolor": "white",
             "startlinecolor": "#2a3f5f"
            },
            "type": "carpet"
           }
          ],
          "choropleth": [
           {
            "colorbar": {
             "outlinewidth": 0,
             "ticks": ""
            },
            "type": "choropleth"
           }
          ],
          "contour": [
           {
            "colorbar": {
             "outlinewidth": 0,
             "ticks": ""
            },
            "colorscale": [
             [
              0,
              "#0d0887"
             ],
             [
              0.1111111111111111,
              "#46039f"
             ],
             [
              0.2222222222222222,
              "#7201a8"
             ],
             [
              0.3333333333333333,
              "#9c179e"
             ],
             [
              0.4444444444444444,
              "#bd3786"
             ],
             [
              0.5555555555555556,
              "#d8576b"
             ],
             [
              0.6666666666666666,
              "#ed7953"
             ],
             [
              0.7777777777777778,
              "#fb9f3a"
             ],
             [
              0.8888888888888888,
              "#fdca26"
             ],
             [
              1,
              "#f0f921"
             ]
            ],
            "type": "contour"
           }
          ],
          "contourcarpet": [
           {
            "colorbar": {
             "outlinewidth": 0,
             "ticks": ""
            },
            "type": "contourcarpet"
           }
          ],
          "heatmap": [
           {
            "colorbar": {
             "outlinewidth": 0,
             "ticks": ""
            },
            "colorscale": [
             [
              0,
              "#0d0887"
             ],
             [
              0.1111111111111111,
              "#46039f"
             ],
             [
              0.2222222222222222,
              "#7201a8"
             ],
             [
              0.3333333333333333,
              "#9c179e"
             ],
             [
              0.4444444444444444,
              "#bd3786"
             ],
             [
              0.5555555555555556,
              "#d8576b"
             ],
             [
              0.6666666666666666,
              "#ed7953"
             ],
             [
              0.7777777777777778,
              "#fb9f3a"
             ],
             [
              0.8888888888888888,
              "#fdca26"
             ],
             [
              1,
              "#f0f921"
             ]
            ],
            "type": "heatmap"
           }
          ],
          "heatmapgl": [
           {
            "colorbar": {
             "outlinewidth": 0,
             "ticks": ""
            },
            "colorscale": [
             [
              0,
              "#0d0887"
             ],
             [
              0.1111111111111111,
              "#46039f"
             ],
             [
              0.2222222222222222,
              "#7201a8"
             ],
             [
              0.3333333333333333,
              "#9c179e"
             ],
             [
              0.4444444444444444,
              "#bd3786"
             ],
             [
              0.5555555555555556,
              "#d8576b"
             ],
             [
              0.6666666666666666,
              "#ed7953"
             ],
             [
              0.7777777777777778,
              "#fb9f3a"
             ],
             [
              0.8888888888888888,
              "#fdca26"
             ],
             [
              1,
              "#f0f921"
             ]
            ],
            "type": "heatmapgl"
           }
          ],
          "histogram": [
           {
            "marker": {
             "pattern": {
              "fillmode": "overlay",
              "size": 10,
              "solidity": 0.2
             }
            },
            "type": "histogram"
           }
          ],
          "histogram2d": [
           {
            "colorbar": {
             "outlinewidth": 0,
             "ticks": ""
            },
            "colorscale": [
             [
              0,
              "#0d0887"
             ],
             [
              0.1111111111111111,
              "#46039f"
             ],
             [
              0.2222222222222222,
              "#7201a8"
             ],
             [
              0.3333333333333333,
              "#9c179e"
             ],
             [
              0.4444444444444444,
              "#bd3786"
             ],
             [
              0.5555555555555556,
              "#d8576b"
             ],
             [
              0.6666666666666666,
              "#ed7953"
             ],
             [
              0.7777777777777778,
              "#fb9f3a"
             ],
             [
              0.8888888888888888,
              "#fdca26"
             ],
             [
              1,
              "#f0f921"
             ]
            ],
            "type": "histogram2d"
           }
          ],
          "histogram2dcontour": [
           {
            "colorbar": {
             "outlinewidth": 0,
             "ticks": ""
            },
            "colorscale": [
             [
              0,
              "#0d0887"
             ],
             [
              0.1111111111111111,
              "#46039f"
             ],
             [
              0.2222222222222222,
              "#7201a8"
             ],
             [
              0.3333333333333333,
              "#9c179e"
             ],
             [
              0.4444444444444444,
              "#bd3786"
             ],
             [
              0.5555555555555556,
              "#d8576b"
             ],
             [
              0.6666666666666666,
              "#ed7953"
             ],
             [
              0.7777777777777778,
              "#fb9f3a"
             ],
             [
              0.8888888888888888,
              "#fdca26"
             ],
             [
              1,
              "#f0f921"
             ]
            ],
            "type": "histogram2dcontour"
           }
          ],
          "mesh3d": [
           {
            "colorbar": {
             "outlinewidth": 0,
             "ticks": ""
            },
            "type": "mesh3d"
           }
          ],
          "parcoords": [
           {
            "line": {
             "colorbar": {
              "outlinewidth": 0,
              "ticks": ""
             }
            },
            "type": "parcoords"
           }
          ],
          "pie": [
           {
            "automargin": true,
            "type": "pie"
           }
          ],
          "scatter": [
           {
            "fillpattern": {
             "fillmode": "overlay",
             "size": 10,
             "solidity": 0.2
            },
            "type": "scatter"
           }
          ],
          "scatter3d": [
           {
            "line": {
             "colorbar": {
              "outlinewidth": 0,
              "ticks": ""
             }
            },
            "marker": {
             "colorbar": {
              "outlinewidth": 0,
              "ticks": ""
             }
            },
            "type": "scatter3d"
           }
          ],
          "scattercarpet": [
           {
            "marker": {
             "colorbar": {
              "outlinewidth": 0,
              "ticks": ""
             }
            },
            "type": "scattercarpet"
           }
          ],
          "scattergeo": [
           {
            "marker": {
             "colorbar": {
              "outlinewidth": 0,
              "ticks": ""
             }
            },
            "type": "scattergeo"
           }
          ],
          "scattergl": [
           {
            "marker": {
             "colorbar": {
              "outlinewidth": 0,
              "ticks": ""
             }
            },
            "type": "scattergl"
           }
          ],
          "scattermapbox": [
           {
            "marker": {
             "colorbar": {
              "outlinewidth": 0,
              "ticks": ""
             }
            },
            "type": "scattermapbox"
           }
          ],
          "scatterpolar": [
           {
            "marker": {
             "colorbar": {
              "outlinewidth": 0,
              "ticks": ""
             }
            },
            "type": "scatterpolar"
           }
          ],
          "scatterpolargl": [
           {
            "marker": {
             "colorbar": {
              "outlinewidth": 0,
              "ticks": ""
             }
            },
            "type": "scatterpolargl"
           }
          ],
          "scatterternary": [
           {
            "marker": {
             "colorbar": {
              "outlinewidth": 0,
              "ticks": ""
             }
            },
            "type": "scatterternary"
           }
          ],
          "surface": [
           {
            "colorbar": {
             "outlinewidth": 0,
             "ticks": ""
            },
            "colorscale": [
             [
              0,
              "#0d0887"
             ],
             [
              0.1111111111111111,
              "#46039f"
             ],
             [
              0.2222222222222222,
              "#7201a8"
             ],
             [
              0.3333333333333333,
              "#9c179e"
             ],
             [
              0.4444444444444444,
              "#bd3786"
             ],
             [
              0.5555555555555556,
              "#d8576b"
             ],
             [
              0.6666666666666666,
              "#ed7953"
             ],
             [
              0.7777777777777778,
              "#fb9f3a"
             ],
             [
              0.8888888888888888,
              "#fdca26"
             ],
             [
              1,
              "#f0f921"
             ]
            ],
            "type": "surface"
           }
          ],
          "table": [
           {
            "cells": {
             "fill": {
              "color": "#EBF0F8"
             },
             "line": {
              "color": "white"
             }
            },
            "header": {
             "fill": {
              "color": "#C8D4E3"
             },
             "line": {
              "color": "white"
             }
            },
            "type": "table"
           }
          ]
         },
         "layout": {
          "annotationdefaults": {
           "arrowcolor": "#2a3f5f",
           "arrowhead": 0,
           "arrowwidth": 1
          },
          "autotypenumbers": "strict",
          "coloraxis": {
           "colorbar": {
            "outlinewidth": 0,
            "ticks": ""
           }
          },
          "colorscale": {
           "diverging": [
            [
             0,
             "#8e0152"
            ],
            [
             0.1,
             "#c51b7d"
            ],
            [
             0.2,
             "#de77ae"
            ],
            [
             0.3,
             "#f1b6da"
            ],
            [
             0.4,
             "#fde0ef"
            ],
            [
             0.5,
             "#f7f7f7"
            ],
            [
             0.6,
             "#e6f5d0"
            ],
            [
             0.7,
             "#b8e186"
            ],
            [
             0.8,
             "#7fbc41"
            ],
            [
             0.9,
             "#4d9221"
            ],
            [
             1,
             "#276419"
            ]
           ],
           "sequential": [
            [
             0,
             "#0d0887"
            ],
            [
             0.1111111111111111,
             "#46039f"
            ],
            [
             0.2222222222222222,
             "#7201a8"
            ],
            [
             0.3333333333333333,
             "#9c179e"
            ],
            [
             0.4444444444444444,
             "#bd3786"
            ],
            [
             0.5555555555555556,
             "#d8576b"
            ],
            [
             0.6666666666666666,
             "#ed7953"
            ],
            [
             0.7777777777777778,
             "#fb9f3a"
            ],
            [
             0.8888888888888888,
             "#fdca26"
            ],
            [
             1,
             "#f0f921"
            ]
           ],
           "sequentialminus": [
            [
             0,
             "#0d0887"
            ],
            [
             0.1111111111111111,
             "#46039f"
            ],
            [
             0.2222222222222222,
             "#7201a8"
            ],
            [
             0.3333333333333333,
             "#9c179e"
            ],
            [
             0.4444444444444444,
             "#bd3786"
            ],
            [
             0.5555555555555556,
             "#d8576b"
            ],
            [
             0.6666666666666666,
             "#ed7953"
            ],
            [
             0.7777777777777778,
             "#fb9f3a"
            ],
            [
             0.8888888888888888,
             "#fdca26"
            ],
            [
             1,
             "#f0f921"
            ]
           ]
          },
          "colorway": [
           "#636efa",
           "#EF553B",
           "#00cc96",
           "#ab63fa",
           "#FFA15A",
           "#19d3f3",
           "#FF6692",
           "#B6E880",
           "#FF97FF",
           "#FECB52"
          ],
          "font": {
           "color": "#2a3f5f"
          },
          "geo": {
           "bgcolor": "white",
           "lakecolor": "white",
           "landcolor": "#E5ECF6",
           "showlakes": true,
           "showland": true,
           "subunitcolor": "white"
          },
          "hoverlabel": {
           "align": "left"
          },
          "hovermode": "closest",
          "mapbox": {
           "style": "light"
          },
          "paper_bgcolor": "white",
          "plot_bgcolor": "#E5ECF6",
          "polar": {
           "angularaxis": {
            "gridcolor": "white",
            "linecolor": "white",
            "ticks": ""
           },
           "bgcolor": "#E5ECF6",
           "radialaxis": {
            "gridcolor": "white",
            "linecolor": "white",
            "ticks": ""
           }
          },
          "scene": {
           "xaxis": {
            "backgroundcolor": "#E5ECF6",
            "gridcolor": "white",
            "gridwidth": 2,
            "linecolor": "white",
            "showbackground": true,
            "ticks": "",
            "zerolinecolor": "white"
           },
           "yaxis": {
            "backgroundcolor": "#E5ECF6",
            "gridcolor": "white",
            "gridwidth": 2,
            "linecolor": "white",
            "showbackground": true,
            "ticks": "",
            "zerolinecolor": "white"
           },
           "zaxis": {
            "backgroundcolor": "#E5ECF6",
            "gridcolor": "white",
            "gridwidth": 2,
            "linecolor": "white",
            "showbackground": true,
            "ticks": "",
            "zerolinecolor": "white"
           }
          },
          "shapedefaults": {
           "line": {
            "color": "#2a3f5f"
           }
          },
          "ternary": {
           "aaxis": {
            "gridcolor": "white",
            "linecolor": "white",
            "ticks": ""
           },
           "baxis": {
            "gridcolor": "white",
            "linecolor": "white",
            "ticks": ""
           },
           "bgcolor": "#E5ECF6",
           "caxis": {
            "gridcolor": "white",
            "linecolor": "white",
            "ticks": ""
           }
          },
          "title": {
           "x": 0.05
          },
          "xaxis": {
           "automargin": true,
           "gridcolor": "white",
           "linecolor": "white",
           "ticks": "",
           "title": {
            "standoff": 15
           },
           "zerolinecolor": "white",
           "zerolinewidth": 2
          },
          "yaxis": {
           "automargin": true,
           "gridcolor": "white",
           "linecolor": "white",
           "ticks": "",
           "title": {
            "standoff": 15
           },
           "zerolinecolor": "white",
           "zerolinewidth": 2
          }
         }
        },
        "title": {
         "text": "Parallel Coordinate Plot"
        }
       }
      }
     },
     "metadata": {},
     "output_type": "display_data"
    }
   ],
   "source": [
    "optuna.visualization.plot_parallel_coordinate(study)"
   ]
  },
  {
   "cell_type": "code",
   "execution_count": null,
   "metadata": {},
   "outputs": [],
   "source": [
    "# Bayesian Tuning of LGBM\n",
    "\n",
    "def objective(trial):\n",
    "    \n",
    "    lgb_n_estimators = trial.suggest_int(\"n_estimators\", 100, 200)\n",
    "    lgb_max_depth = trial.suggest_int(\"max_depth\", 2, 10)\n",
    "    lgb_min_child_weight = trial.suggest_int(\"min_child_weight\", 2, 15)\n",
    "    lgb_learning_rate = trial.suggest_float('learning_rate', 0.05, 0.8)\n",
    "    lgb_subsample = trial.suggest_float(\"subsample\", 0.7, 0.95)\n",
    "    \n",
    "\n",
    "    classifier_obj = LGBMClassifier(n_estimators=lgb_n_estimators, \n",
    "                                    max_depth=lgb_max_depth,\n",
    "                                    min_child_weight=lgb_min_child_weight,\n",
    "                                    learning_rate=lgb_learning_rate,\n",
    "                                    subsample = lgb_subsample,\n",
    "                                    objective = 'multiclass'\n",
    "                                    n_jobs=-1, \n",
    "                                    random_state=2022)\n",
    "\n",
    "    skf = StratifedKFold(n_splits=4, shuffle=True, random_state=2022)\n",
    "    score = cross_val_score(classifier_obj, o_X_train, o_y_train, scoring='accuracy', cv=skf, n_jobs=-1)\n",
    "    acc = score.mean()\n",
    "    return acc\n",
    "\n",
    "\n",
    "study = optuna.create_study(direction=\"maximize\")\n",
    "study.optimize(objective, n_trials=100)\n",
    "print(study.best_trial)\n",
    "\n",
    "model = RandomForestClassifier(**study.best_params, n_jobs=-1, random_state=2020)\n",
    "scores = cross_val_score(model, o_X_train, o_y_train, scoring='accuracy', cv=5, n_jobs=-1)\n",
    "\n",
    "print(scores)\n",
    "print('최대 성능:', {max(scores)}, '평균 성능:', {np.mean(scores)})\n",
    "\n",
    "bayesian_tuned.append((model.__class__.__name__, model, max(scores)))"
   ]
  },
  {
   "cell_type": "code",
   "execution_count": null,
   "metadata": {},
   "outputs": [],
   "source": [
    "optuna.visualization.plot_optimization_history(study)"
   ]
  },
  {
   "cell_type": "code",
   "execution_count": null,
   "metadata": {},
   "outputs": [],
   "source": [
    "optuna.visualization.plot_parallel_coordinate(study)"
   ]
  },
  {
   "cell_type": "code",
   "execution_count": null,
   "metadata": {},
   "outputs": [],
   "source": [
    "# Bayesian Tuning of XGB\n",
    "\n",
    "def objective(trial):\n",
    "    \n",
    "    xgb_n_estimators = trial.suggest_int(\"n_estimators\", 100, 200)\n",
    "    xgb_max_depth = trial.suggest_int(\"max_depth\", 2, 10)\n",
    "    xgb_min_child_weight = trial.suggest_int(\"min_child_weight\", 2, 15)\n",
    "    xgb_learning_rate = trial.suggest_float('learning_rate', 0.05, 0.8)\n",
    "    xgb_subsample = trial.suggest_float(\"subsample\", 0.7, 0.95)\n",
    "    xgb_gamma = trial.suggest_int('gamma', 0, 5)\n",
    "    \n",
    "\n",
    "    classifier_obj = XGBClassifier(n_estimators=xgb_n_estimators, \n",
    "                                    max_depth=xgb_max_depth,\n",
    "                                    min_child_weight=xgb_min_child_weight,\n",
    "                                    learning_rate=xgb_learning_rate,\n",
    "                                    subsample = xgb_subsample,\n",
    "                                    gamma = xgb_gamma\n",
    "                                    random_state=2022)\n",
    "\n",
    "    skf = StratifedKFold(n_splits=4, shuffle=True, random_state=2022)\n",
    "    score = cross_val_score(classifier_obj, o_X_train, o_y_train, scoring='accuracy', cv=skf, n_jobs=-1)\n",
    "    acc = score.mean()\n",
    "    return acc\n",
    "\n",
    "\n",
    "study = optuna.create_study(direction=\"maximize\")\n",
    "study.optimize(objective, n_trials=100)\n",
    "print(study.best_trial)\n",
    "\n",
    "model = RandomForestClassifier(**study.best_params, n_jobs=-1, random_state=2020)\n",
    "scores = cross_val_score(model, o_X_train, o_y_train, scoring='accuracy', cv=5, n_jobs=-1)\n",
    "\n",
    "print(scores)\n",
    "print('최대 성능:', {max(scores)}, '평균 성능:', {np.mean(scores)})\n",
    "\n",
    "bayesian_tuned.append((model.__class__.__name__, model, max(scores)))"
   ]
  },
  {
   "cell_type": "code",
   "execution_count": null,
   "metadata": {},
   "outputs": [],
   "source": [
    "optuna.visualization.plot_optimization_history(study)"
   ]
  },
  {
   "cell_type": "code",
   "execution_count": null,
   "metadata": {},
   "outputs": [],
   "source": [
    "optuna.visualization.plot_parallel_coordinate(study)"
   ]
  },
  {
   "cell_type": "code",
   "execution_count": null,
   "metadata": {},
   "outputs": [],
   "source": [
    "# Bayesian Tuning of Catboost\n",
    "\n",
    "def objective(trial):\n",
    "      \n",
    "    cat_n_estimators = trial.suggest_int(\"n_estimators\", 100, 200)\n",
    "    cat_max_depth = trial.suggest_int(\"max_depth\", 2, 10)\n",
    "    cat_learning_rate = trial.suggest_float(\"learning_rate\", 0.05, 0.8)\n",
    "\n",
    "    classifier_obj = CatBoostClassifier(n_estimators=cat_n_estimators, \n",
    "                                    max_depth=cat_max_depth,\n",
    "                                    min_learning_rate=cat_learning_rate,\n",
    "                                    n_jobs= -1,\n",
    "                                    random_state=2022)\n",
    "\n",
    "    skf = StratifedKFold(n_splits=4, shuffle=True, random_state=2022)\n",
    "    score = cross_val_score(classifier_obj, o_X_train, o_y_train, scoring='accuracy', cv=skf, n_jobs=-1)\n",
    "    acc = score.mean()\n",
    "    return acc\n",
    "\n",
    "\n",
    "study = optuna.create_study(direction=\"maximize\")\n",
    "study.optimize(objective, n_trials=72)\n",
    "print(study.best_trial)\n",
    "\n",
    "model = RandomForestClassifier(**study.best_params, n_jobs=-1, random_state=2020)\n",
    "scores = cross_val_score(model, o_X_train, o_y_train, scoring='accuracy', cv=5, n_jobs=-1)\n",
    "\n",
    "print(scores)\n",
    "print('최대 성능:', {max(scores)}, '평균 성능:', {np.mean(scores)})\n",
    "\n",
    "bayesian_tuned.append((model.__class__.__name__, model, max(scores)))"
   ]
  },
  {
   "cell_type": "code",
   "execution_count": null,
   "metadata": {},
   "outputs": [],
   "source": [
    "optuna.visualization.plot_optimization_history(study)"
   ]
  },
  {
   "cell_type": "code",
   "execution_count": null,
   "metadata": {},
   "outputs": [],
   "source": [
    "optuna.visualization.plot_parallel_coordinate(study)"
   ]
  },
  {
   "cell_type": "code",
   "execution_count": null,
   "metadata": {},
   "outputs": [],
   "source": [
    "# Bayesian Tuning of LogisticRegression\n",
    "\n",
    "def objective(trial):\n",
    "      \n",
    "    lr_c = trial.suggest_float(\"C\", 0.01, 100)\n",
    "    lr_penalty = trial.suggest_categorical(\"penalty\", ['none','l1','l2','elasticnet'])\n",
    "\n",
    "    classifier_obj = LogisticRegression(C=lr_c, \n",
    "                                    penalty=lr_penalty,\n",
    "                                    multi_class='multinomial',\n",
    "                                    n_jobs= -1,\n",
    "                                    random_state=2022)\n",
    "\n",
    "    skf = StratifedKFold(n_splits=4, shuffle=True, random_state=2022)\n",
    "    score = cross_val_score(classifier_obj, o_X_train, o_y_train, scoring='accuracy', cv=skf, n_jobs=-1)\n",
    "    acc = score.mean()\n",
    "    return acc\n",
    "\n",
    "\n",
    "study = optuna.create_study(direction=\"maximize\")\n",
    "study.optimize(objective, n_trials=72)\n",
    "print(study.best_trial)\n",
    "\n",
    "model = RandomForestClassifier(**study.best_params, n_jobs=-1, random_state=2020)\n",
    "scores = cross_val_score(model, o_X_train, o_y_train, scoring='accuracy', cv=5, n_jobs=-1)\n",
    "\n",
    "print(scores)\n",
    "print('최대 성능:', {max(scores)}, '평균 성능:', {np.mean(scores)})\n",
    "\n",
    "bayesian_tuned.append((model.__class__.__name__, model, max(scores)))"
   ]
  },
  {
   "cell_type": "code",
   "execution_count": null,
   "metadata": {},
   "outputs": [],
   "source": [
    "optuna.visualization.plot_optimization_history(study)"
   ]
  },
  {
   "cell_type": "code",
   "execution_count": null,
   "metadata": {},
   "outputs": [],
   "source": [
    "optuna.visualization.plot_parallel_coordinate(study)"
   ]
  },
  {
   "cell_type": "markdown",
   "metadata": {},
   "source": [
    "#### Stacking"
   ]
  },
  {
   "cell_type": "code",
   "execution_count": null,
   "metadata": {},
   "outputs": [],
   "source": []
  }
 ],
 "metadata": {
  "interpreter": {
   "hash": "68756eb6c044f31c46e3e1f38723aea1f0146198488dd3d60c0e4241eb6f7dd0"
  },
  "kernelspec": {
   "display_name": "Python 3.8.8 ('base')",
   "language": "python",
   "name": "python3"
  },
  "language_info": {
   "codemirror_mode": {
    "name": "ipython",
    "version": 3
   },
   "file_extension": ".py",
   "mimetype": "text/x-python",
   "name": "python",
   "nbconvert_exporter": "python",
   "pygments_lexer": "ipython3",
   "version": "3.8.8"
  },
  "orig_nbformat": 4
 },
 "nbformat": 4,
 "nbformat_minor": 2
}
