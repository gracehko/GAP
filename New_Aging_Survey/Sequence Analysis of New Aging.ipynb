{
 "cells": [
  {
   "cell_type": "markdown",
   "metadata": {},
   "source": [
    "## import Library"
   ]
  },
  {
   "cell_type": "code",
   "execution_count": 80,
   "metadata": {},
   "outputs": [],
   "source": [
    "import pandas as pd\n",
    "import numpy as np\n",
    "import matplotlib.pyplot as plt\n",
    "import seaborn as sns\n",
    "from matplotlib import font_manager\n",
    "%matplotlib inline\n",
    "import os\n",
    "import warnings\n",
    "warnings.filterwarnings('ignore')\n",
    "\n",
    "font_fname = 'C:/Windows/Fonts/malgun.ttf'\n",
    "font_family = font_manager.FontProperties(fname=font_fname).get_name()\n",
    "plt.rcParams[\"font.family\"] = font_family"
   ]
  },
  {
   "cell_type": "markdown",
   "metadata": {},
   "source": [
    "#### Data Load"
   ]
  },
  {
   "cell_type": "code",
   "execution_count": 121,
   "metadata": {},
   "outputs": [],
   "source": [
    "path = './data/'\n",
    "filenames = os.listdir('./data')\n",
    "data_lst = []\n",
    "\n",
    "for file in filenames:\n",
    "    var_name = file[:-4]\n",
    "    globals()[f'{var_name}'] = pd.read_csv(path+file, low_memory=False)\n",
    "    data_lst.append(globals()[f'{var_name}'])"
   ]
  },
  {
   "cell_type": "code",
   "execution_count": 63,
   "metadata": {
    "scrolled": true
   },
   "outputs": [
    {
     "data": {
      "text/plain": [
       "1    611\n",
       "3    497\n",
       "2     10\n",
       "Name: w08present_ecotype, dtype: int64"
      ]
     },
     "execution_count": 63,
     "metadata": {},
     "output_type": "execute_result"
    }
   ],
   "source": [
    "New_elder.w08present_ecotype.value_counts()\n",
    "# 취업자, 실업자, 비경활"
   ]
  },
  {
   "cell_type": "code",
   "execution_count": 64,
   "metadata": {},
   "outputs": [
    {
     "data": {
      "text/plain": [
       "1.0    219\n",
       "0.0    205\n",
       "2.0     83\n",
       "Name: w08retired, dtype: int64"
      ]
     },
     "execution_count": 64,
     "metadata": {},
     "output_type": "execute_result"
    }
   ],
   "source": [
    "New_elder.w08retired.value_counts()\n",
    "# 노동시장 비참여자, 은퇴, 부분은퇴"
   ]
  },
  {
   "cell_type": "code",
   "execution_count": 65,
   "metadata": {},
   "outputs": [
    {
     "data": {
      "text/plain": [
       "2.0    355\n",
       "3.0    134\n",
       "1.0     94\n",
       "4.0     28\n",
       "Name: w08d_com077, dtype: int64"
      ]
     },
     "execution_count": 65,
     "metadata": {},
     "output_type": "execute_result"
    }
   ],
   "source": [
    "New_elder.w08d_com077.value_counts()\n",
    "# 낮을수록 필요, 높을수록 불필요"
   ]
  },
  {
   "cell_type": "code",
   "execution_count": 66,
   "metadata": {},
   "outputs": [
    {
     "data": {
      "text/plain": [
       " 9.0    146\n",
       " 4.0    107\n",
       " 7.0     71\n",
       " 5.0     69\n",
       " 8.0     68\n",
       " 6.0     42\n",
       " 2.0     36\n",
       " 1.0     26\n",
       " 3.0     24\n",
       "-9.0     20\n",
       "Name: w08job, dtype: int64"
      ]
     },
     "execution_count": 66,
     "metadata": {},
     "output_type": "execute_result"
    }
   ],
   "source": [
    "New_elder.w08job.value_counts()\n",
    "# 1.0 관리자 2.0 전문가 3.0 사무직 4.0 서비스근로자 5.0 판매근로자 6.0 농업, 임업 및 어업 숙련근로자\n",
    "# 7.0 기능원 및 관련 기능 종사자 8.0 장치, 기계조작 및 조립 종사자 9.0 단순노무 종사자 -9.0 직업군인"
   ]
  },
  {
   "cell_type": "code",
   "execution_count": 67,
   "metadata": {},
   "outputs": [
    {
     "data": {
      "text/plain": [
       "1.0    329\n",
       "2.0    233\n",
       "3.0     49\n",
       "4.0      2\n",
       "Name: w08emp, dtype: int64"
      ]
     },
     "execution_count": 67,
     "metadata": {},
     "output_type": "execute_result"
    }
   ],
   "source": [
    "New_elder.w08emp.value_counts()\n",
    "# 임금, 자영업, 무급가족 종사자, 일X"
   ]
  },
  {
   "cell_type": "code",
   "execution_count": 68,
   "metadata": {},
   "outputs": [
    {
     "data": {
      "text/plain": [
       "3    557\n",
       "2    208\n",
       "4    183\n",
       "1    170\n",
       "Name: w08edu, dtype: int64"
      ]
     },
     "execution_count": 68,
     "metadata": {},
     "output_type": "execute_result"
    }
   ],
   "source": [
    "New_elder.w08edu.value_counts()\n",
    "# 대학교 이상, 고졸, 중졸, 초졸"
   ]
  },
  {
   "cell_type": "code",
   "execution_count": 69,
   "metadata": {},
   "outputs": [
    {
     "name": "stdout",
     "output_type": "stream",
     "text": [
      "0    1113\n",
      "7       4\n",
      "5       1\n",
      "Name: w08adl, dtype: int64\n",
      "0     1078\n",
      "2       12\n",
      "1       10\n",
      "3       10\n",
      "10       3\n",
      "4        1\n",
      "5        1\n",
      "6        1\n",
      "8        1\n",
      "9        1\n",
      "Name: w08iadl, dtype: int64\n"
     ]
    }
   ],
   "source": [
    "# iadl 과 동일 (0일수록 도움이 필요하지 않으며, 7일수록 일상생활 불편)\n",
    "print(New_elder.w08adl.value_counts())\n",
    "print(New_elder.w08iadl.value_counts())"
   ]
  },
  {
   "cell_type": "code",
   "execution_count": 70,
   "metadata": {
    "scrolled": true
   },
   "outputs": [
    {
     "name": "stdout",
     "output_type": "stream",
     "text": [
      "3    526\n",
      "4    414\n",
      "2     94\n",
      "5     70\n",
      "1     14\n",
      "Name: w08C001, dtype: int64\n",
      "3    626\n",
      "4    268\n",
      "2    203\n",
      "1     21\n",
      "Name: w08C005, dtype: int64\n"
     ]
    }
   ],
   "source": [
    "# 건강상태, 값이 작을수록 좋음\n",
    "print(New_elder.w08C001.value_counts())\n",
    "print(New_elder.w08C005.value_counts())"
   ]
  },
  {
   "cell_type": "code",
   "execution_count": 71,
   "metadata": {
    "scrolled": true
   },
   "outputs": [
    {
     "data": {
      "text/plain": [
       "1000.0     25\n",
       "2000.0     24\n",
       "5000.0     23\n",
       "500.0      21\n",
       "20000.0    20\n",
       "           ..\n",
       "26500.0     1\n",
       "10850.0     1\n",
       "21190.0     1\n",
       "7900.0      1\n",
       "3200.0      1\n",
       "Name: w08pnetassets, Length: 417, dtype: int64"
      ]
     },
     "execution_count": 71,
     "metadata": {},
     "output_type": "execute_result"
    }
   ],
   "source": [
    "# 자산항목 나머지와 동일\n",
    "New_elder.w08pnetassets.value_counts()"
   ]
  },
  {
   "cell_type": "code",
   "execution_count": 72,
   "metadata": {},
   "outputs": [
    {
     "data": {
      "text/plain": [
       "70     312\n",
       "80     277\n",
       "60     190\n",
       "50     156\n",
       "40      79\n",
       "90      47\n",
       "30      29\n",
       "20       9\n",
       "0        8\n",
       "100      6\n",
       "10       5\n",
       "Name: w08G026, dtype: int64"
      ]
     },
     "execution_count": 72,
     "metadata": {},
     "output_type": "execute_result"
    }
   ],
   "source": [
    "# 주관적 기대감 나머지 응답항목과 동일\n",
    "New_elder.w08G026.value_counts()"
   ]
  },
  {
   "cell_type": "markdown",
   "metadata": {},
   "source": [
    "#### Data Preprocessing"
   ]
  },
  {
   "cell_type": "code",
   "execution_count": 73,
   "metadata": {},
   "outputs": [],
   "source": [
    "# present_ecotype; 현재 경활상태, retired; 은퇴 및 부분은퇴, job; 직업분류, emp; 임금, 자영업, 무급가족 구분\n",
    "New_elder['Job'] = np.where(New_elder['w08present_ecotype'] == 3, '비경활',\n",
    "                           np.where(New_elder['w08retired'] == 1.0, '은퇴',\n",
    "                                   np.where(New_elder['w08retired'] == 2.0, '부분은퇴',\n",
    "                                           np.where(New_elder['w08job'].isin([1.0, 2.0]), '임금_고숙련',\n",
    "                                               np.where(New_elder['w08job'].isin([3.0, 6.0, 7.0, 8.0, 9.0]), '임금_중숙련',\n",
    "                                                   np.where(New_elder['w08job'].isin([4.0, 5.0, 9.0]), '임금_저숙련',\n",
    "                                                           np.where(New_elder['w08emp'] == 2.0, '자영업',\n",
    "                                                                   np.where(New_elder['w08emp'] == 3.0, '무급가족종사자', np.nan))))))))"
   ]
  },
  {
   "cell_type": "code",
   "execution_count": 74,
   "metadata": {},
   "outputs": [],
   "source": [
    "# edu; 응답자 학력\n",
    "New_elder['Edu'] = np.where(New_elder['w08edu'] == 1, '대학교 이상',\n",
    "                           np.where(New_elder['w08edu'] == 2, '고등',\n",
    "                                   np.where(New_elder['w08edu'] == 3, '중등', '초등')))"
   ]
  },
  {
   "cell_type": "code",
   "execution_count": 75,
   "metadata": {
    "scrolled": true
   },
   "outputs": [
    {
     "name": "stdout",
     "output_type": "stream",
     "text": [
      "6     416\n",
      "7     404\n",
      "5     139\n",
      "8     117\n",
      "4      17\n",
      "9      13\n",
      "10      5\n",
      "12      2\n",
      "20      2\n",
      "23      2\n",
      "22      1\n",
      "Name: Health_Score, dtype: int64\n"
     ]
    }
   ],
   "source": [
    "# adl; ADL 지수화, iadl; IADL 지수화, C001; 건강상태, C005; 건강상태로 인한 활동 제한\n",
    "New_elder['Health_Score'] = New_elder['w08adl'] + New_elder['w08iadl'] + New_elder['w08C001'] + New_elder['w08C005']\n",
    "print(New_elder['Health_Score'].value_counts())\n",
    "\n",
    "New_elder['Health'] = np.where(New_elder['Health_Score'] < 8, '전혀 지장없음',\n",
    "                              np.where(New_elder['Health_Score']>10,'활동에 제한 있음', '전혀 지장없음'))"
   ]
  },
  {
   "cell_type": "code",
   "execution_count": 76,
   "metadata": {},
   "outputs": [],
   "source": [
    "# pnetassets ; 개인순자산, pinc; 지난해 개인총소득 \n",
    "New_elder['Earn_Score'] = New_elder['w08pnetassets'] + New_elder['w08pinc']\n",
    "New_elder['Earn_Score'].describe()\n",
    "\n",
    "New_elder['Earn'] = np.where(New_elder['Earn_Score'] > New_elder['Earn_Score'].describe()['75%'], '상',\n",
    "                            np.where(New_elder['Earn_Score'] < New_elder['Earn_Score'].describe()['25%'], '하', '중'))"
   ]
  },
  {
   "cell_type": "code",
   "execution_count": 77,
   "metadata": {},
   "outputs": [],
   "source": [
    "# G026; 자신의 건강상태, G027; 자신의 경제상태, G028; 배우자와의 관계, G029; 자녀와의 관계, G030; 전반적인 삶의 질\n",
    "New_elder['Self_conf_Score'] = New_elder['w08G026'] + New_elder['w08G027'] + New_elder['w08G028'] + New_elder['w08G029'] + New_elder['w08G030']\n",
    "New_elder['Self_conf'] = np.where(New_elder['Self_conf_Score'] > 350, '상',\n",
    "                                 np.where(New_elder['Self_conf_Score'] < 200, '하', '중'))"
   ]
  },
  {
   "cell_type": "code",
   "execution_count": 78,
   "metadata": {
    "scrolled": true
   },
   "outputs": [],
   "source": [
    "New_elder = New_elder[['Job', 'Edu', 'Health', 'Earn', 'Self_conf']]"
   ]
  },
  {
   "cell_type": "code",
   "execution_count": 137,
   "metadata": {},
   "outputs": [],
   "source": [
    "def preprocessing(data, period):\n",
    "    data = data[(data[f'w{period}A002_age'] >= 60) & (data[f'w{period}A002_age'] < 65)]\n",
    "    data['Gender'] = np.where(data[f'w{period}gender1'] == 1, '남성', '여성')\n",
    "    \n",
    "    data['Job'] = np.where(data[f'w{period}present_ecotype'] == 3, '비경활',\n",
    "                           np.where(data[f'w{period}retired'] == 1.0, '은퇴',\n",
    "                                   np.where(data[f'w{period}retired'] == 2.0, '부분은퇴',\n",
    "                                           np.where(data[f'w{period}job'].isin([1.0, 2.0]), '임금_고숙련',\n",
    "                                               np.where(data[f'w{period}job'].isin([3.0, 6.0, 7.0, 8.0, -9.0]), '임금_중숙련',\n",
    "                                                   np.where(data[f'w{period}job'].isin([4.0, 5.0, 9.0]), '임금_저숙련',\n",
    "                                                           np.where(data[f'w{period}emp'] == 2.0, '자영업', '무급가족종사자')))))))\n",
    "    data['Edu'] = np.where(data[f'w{period}edu'] == 1, '대학교 이상',\n",
    "                           np.where(data[f'w{period}edu'] == 2, '고등',\n",
    "                                   np.where(data[f'w{period}edu'] == 3, '중등', '초등')))\n",
    "    data['Health_Score'] = data[f'w{period}adl'] + data[f'w{period}iadl'] + data[f'w{period}C001'] + data[f'w{period}C005']\n",
    "\n",
    "    data['Health'] = np.where(data['Health_Score'] < 7, '전혀 지장없음',\n",
    "                              np.where(data['Health_Score']>10,'활동에 제한 있음', '그렇지 않은 편'))\n",
    "    \n",
    "    data['Earn_Score'] = data[f'w{period}pnetassets'] + data[f'w{period}pinc']\n",
    "\n",
    "    data['Earn'] = np.where(data['Earn_Score'] > data['Earn_Score'].describe()['75%'], '상',\n",
    "                            np.where(data['Earn_Score'] < data['Earn_Score'].describe()['25%'], '하', '중'))\n",
    "    \n",
    "    data['Self_conf_Score'] = data[f'w{period}G026'] + data[f'w{period}G027'] + data[f'w{period}G028'] + data[f'w{period}G029'] + data[f'w{period}G030']\n",
    "\n",
    "    data['Self_conf'] = np.where(data['Self_conf_Score'] > 350, '상',\n",
    "                                 np.where(data['Self_conf_Score'] < 200, '하', '중'))\n",
    "    \n",
    "    data = data[['Gender','Job', 'Edu', 'Health', 'Earn', 'Self_conf']]\n",
    "    data.reset_index(drop=True, inplace=True)\n",
    "    return data"
   ]
  },
  {
   "cell_type": "code",
   "execution_count": 138,
   "metadata": {},
   "outputs": [],
   "source": [
    "data_lst = [Lt01, Lt02, Lt03, Lt04, Lt05, Lt06, Lt07, Lt08]\n",
    "\n",
    "for idx, data in enumerate(data_lst):\n",
    "    data = preprocessing(data, '0'+str(idx+1))"
   ]
  },
  {
   "cell_type": "code",
   "execution_count": 139,
   "metadata": {},
   "outputs": [
    {
     "data": {
      "text/html": [
       "<div>\n",
       "<style scoped>\n",
       "    .dataframe tbody tr th:only-of-type {\n",
       "        vertical-align: middle;\n",
       "    }\n",
       "\n",
       "    .dataframe tbody tr th {\n",
       "        vertical-align: top;\n",
       "    }\n",
       "\n",
       "    .dataframe thead th {\n",
       "        text-align: right;\n",
       "    }\n",
       "</style>\n",
       "<table border=\"1\" class=\"dataframe\">\n",
       "  <thead>\n",
       "    <tr style=\"text-align: right;\">\n",
       "      <th></th>\n",
       "      <th>Gender</th>\n",
       "      <th>Job</th>\n",
       "      <th>Edu</th>\n",
       "      <th>Health</th>\n",
       "      <th>Earn</th>\n",
       "      <th>Self_conf</th>\n",
       "    </tr>\n",
       "  </thead>\n",
       "  <tbody>\n",
       "    <tr>\n",
       "      <th>0</th>\n",
       "      <td>남성</td>\n",
       "      <td>무급가족종사자</td>\n",
       "      <td>대학교 이상</td>\n",
       "      <td>전혀 지장없음</td>\n",
       "      <td>중</td>\n",
       "      <td>하</td>\n",
       "    </tr>\n",
       "    <tr>\n",
       "      <th>1</th>\n",
       "      <td>여성</td>\n",
       "      <td>무급가족종사자</td>\n",
       "      <td>대학교 이상</td>\n",
       "      <td>그렇지 않은 편</td>\n",
       "      <td>중</td>\n",
       "      <td>하</td>\n",
       "    </tr>\n",
       "    <tr>\n",
       "      <th>2</th>\n",
       "      <td>여성</td>\n",
       "      <td>임금_중숙련</td>\n",
       "      <td>대학교 이상</td>\n",
       "      <td>그렇지 않은 편</td>\n",
       "      <td>중</td>\n",
       "      <td>중</td>\n",
       "    </tr>\n",
       "    <tr>\n",
       "      <th>3</th>\n",
       "      <td>남성</td>\n",
       "      <td>임금_중숙련</td>\n",
       "      <td>고등</td>\n",
       "      <td>전혀 지장없음</td>\n",
       "      <td>하</td>\n",
       "      <td>중</td>\n",
       "    </tr>\n",
       "    <tr>\n",
       "      <th>4</th>\n",
       "      <td>남성</td>\n",
       "      <td>무급가족종사자</td>\n",
       "      <td>대학교 이상</td>\n",
       "      <td>그렇지 않은 편</td>\n",
       "      <td>상</td>\n",
       "      <td>상</td>\n",
       "    </tr>\n",
       "    <tr>\n",
       "      <th>...</th>\n",
       "      <td>...</td>\n",
       "      <td>...</td>\n",
       "      <td>...</td>\n",
       "      <td>...</td>\n",
       "      <td>...</td>\n",
       "      <td>...</td>\n",
       "    </tr>\n",
       "    <tr>\n",
       "      <th>1380</th>\n",
       "      <td>남성</td>\n",
       "      <td>비경활</td>\n",
       "      <td>대학교 이상</td>\n",
       "      <td>전혀 지장없음</td>\n",
       "      <td>중</td>\n",
       "      <td>상</td>\n",
       "    </tr>\n",
       "    <tr>\n",
       "      <th>1381</th>\n",
       "      <td>남성</td>\n",
       "      <td>임금_중숙련</td>\n",
       "      <td>대학교 이상</td>\n",
       "      <td>전혀 지장없음</td>\n",
       "      <td>중</td>\n",
       "      <td>중</td>\n",
       "    </tr>\n",
       "    <tr>\n",
       "      <th>1382</th>\n",
       "      <td>여성</td>\n",
       "      <td>비경활</td>\n",
       "      <td>대학교 이상</td>\n",
       "      <td>전혀 지장없음</td>\n",
       "      <td>중</td>\n",
       "      <td>중</td>\n",
       "    </tr>\n",
       "    <tr>\n",
       "      <th>1383</th>\n",
       "      <td>여성</td>\n",
       "      <td>비경활</td>\n",
       "      <td>대학교 이상</td>\n",
       "      <td>그렇지 않은 편</td>\n",
       "      <td>중</td>\n",
       "      <td>중</td>\n",
       "    </tr>\n",
       "    <tr>\n",
       "      <th>1384</th>\n",
       "      <td>여성</td>\n",
       "      <td>비경활</td>\n",
       "      <td>대학교 이상</td>\n",
       "      <td>그렇지 않은 편</td>\n",
       "      <td>중</td>\n",
       "      <td>중</td>\n",
       "    </tr>\n",
       "  </tbody>\n",
       "</table>\n",
       "<p>1385 rows × 6 columns</p>\n",
       "</div>"
      ],
      "text/plain": [
       "     Gender      Job     Edu    Health Earn Self_conf\n",
       "0        남성  무급가족종사자  대학교 이상   전혀 지장없음    중         하\n",
       "1        여성  무급가족종사자  대학교 이상  그렇지 않은 편    중         하\n",
       "2        여성   임금_중숙련  대학교 이상  그렇지 않은 편    중         중\n",
       "3        남성   임금_중숙련      고등   전혀 지장없음    하         중\n",
       "4        남성  무급가족종사자  대학교 이상  그렇지 않은 편    상         상\n",
       "...     ...      ...     ...       ...  ...       ...\n",
       "1380     남성      비경활  대학교 이상   전혀 지장없음    중         상\n",
       "1381     남성   임금_중숙련  대학교 이상   전혀 지장없음    중         중\n",
       "1382     여성      비경활  대학교 이상   전혀 지장없음    중         중\n",
       "1383     여성      비경활  대학교 이상  그렇지 않은 편    중         중\n",
       "1384     여성      비경활  대학교 이상  그렇지 않은 편    중         중\n",
       "\n",
       "[1385 rows x 6 columns]"
      ]
     },
     "execution_count": 139,
     "metadata": {},
     "output_type": "execute_result"
    }
   ],
   "source": [
    "preprocessing(Lt01, '01')"
   ]
  },
  {
   "cell_type": "code",
   "execution_count": null,
   "metadata": {},
   "outputs": [],
   "source": []
  }
 ],
 "metadata": {
  "interpreter": {
   "hash": "68756eb6c044f31c46e3e1f38723aea1f0146198488dd3d60c0e4241eb6f7dd0"
  },
  "kernelspec": {
   "display_name": "Python 3 (ipykernel)",
   "language": "python",
   "name": "python3"
  },
  "language_info": {
   "codemirror_mode": {
    "name": "ipython",
    "version": 3
   },
   "file_extension": ".py",
   "mimetype": "text/x-python",
   "name": "python",
   "nbconvert_exporter": "python",
   "pygments_lexer": "ipython3",
   "version": "3.8.8"
  }
 },
 "nbformat": 4,
 "nbformat_minor": 2
}
