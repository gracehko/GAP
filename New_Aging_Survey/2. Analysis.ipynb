{
 "cells": [
  {
   "cell_type": "markdown",
   "metadata": {},
   "source": [
    "#### Import Library"
   ]
  },
  {
   "cell_type": "code",
   "execution_count": 60,
   "metadata": {},
   "outputs": [],
   "source": [
    "import pandas as pd\n",
    "import numpy as np\n",
    "import matplotlib.pyplot as plt\n",
    "import seaborn as sns\n",
    "from matplotlib import font_manager\n",
    "%matplotlib inline\n",
    "import os\n",
    "import warnings\n",
    "import glob\n",
    "warnings.filterwarnings('ignore')\n",
    "\n",
    "from kmodes.kmodes import KModes\n",
    "\n",
    "font_fname = 'C:/Windows/Fonts/malgun.ttf'\n",
    "font_family = font_manager.FontProperties(fname=font_fname).get_name()\n",
    "plt.rcParams[\"font.family\"] = font_family"
   ]
  },
  {
   "cell_type": "markdown",
   "metadata": {},
   "source": [
    "#### Data Load"
   ]
  },
  {
   "cell_type": "code",
   "execution_count": 61,
   "metadata": {},
   "outputs": [],
   "source": [
    "# path = './data/'\n",
    "# filenames = os.listdir('./data')\n",
    "data_lst = []\n",
    "\n",
    "path = os.path.abspath('data')\n",
    "all_files = glob.glob(path + \"\\data_*.csv\")\n",
    "\n",
    "for file in all_files:\n",
    "    var_name = file[41:-4]\n",
    "    globals()[f'{var_name}'] = pd.read_csv(file, low_memory=False)\n",
    "    globals()[f'{var_name}'].drop(['Self_conf'], axis=1, inplace=True)\n",
    "    data_lst.append(globals()[f'{var_name}'])"
   ]
  },
  {
   "cell_type": "code",
   "execution_count": 62,
   "metadata": {},
   "outputs": [],
   "source": [
    "data = data_08"
   ]
  },
  {
   "cell_type": "code",
   "execution_count": 63,
   "metadata": {},
   "outputs": [],
   "source": [
    "def to_int(data):\n",
    "    result = data.copy()\n",
    "    result['Gender'] = np.where(result['Gender'] == '남성', 0, 1)\n",
    "    result['Job']  = np.where(result['Job'] == '비경활', 0,\n",
    "                    np.where(result['Job'].isin(['은퇴','부분은퇴']), 1,\n",
    "                            np.where(result['Job'] == '임금_고숙련', 4,\n",
    "                                np.where(result['Job'] == '임금_중숙련', 3,\n",
    "                                    np.where(result['Job'] == '임금_저숙련', 2,\n",
    "                                        np.where(result['Job'] == '자영업', 5, 6))))))\n",
    "    result['Edu'] = np.where(result['Edu'] == '초등', 0,\n",
    "                    np.where(result['Edu'] == '중등', 1,\n",
    "                        np.where(result['Edu'] == '고등', 2, 3)))\n",
    "    result['Health'] = np.where(result['Health'] == '활동에 제한 있음', 0,\n",
    "                        np.where(result['Health'] == '그렇지 않은 편', 1, 2))\n",
    "    result['Earn'] = np.where(result['Earn'] == '하', 0,\n",
    "                    np.where(result['Earn'] == '중', 1, 2))\n",
    "    # data['Self_conf'] = np.where(data['Self_conf'] == '하', 0,\n",
    "    #                         np.where(data['Self_conf'] == '중', 1, 2))\n",
    "    return result"
   ]
  },
  {
   "cell_type": "markdown",
   "metadata": {},
   "source": [
    "## Clustering"
   ]
  },
  {
   "cell_type": "code",
   "execution_count": 64,
   "metadata": {},
   "outputs": [
    {
     "data": {
      "image/png": "[encoded data removed]",
      "text/plain": [
       "<Figure size 432x288 with 1 Axes>"
      ]
     },
     "metadata": {
      "needs_background": "light"
     },
     "output_type": "display_data"
    }
   ],
   "source": [
    "K = range(1, 20)\n",
    "cost = []\n",
    "for num_clusters in list(K):\n",
    "    kmode = KModes(n_clusters=num_clusters, init = 'random', random_state=2022)\n",
    "    kmode.fit_predict(data.drop(['Gender'], axis=1))\n",
    "    cost.append(kmode.cost_)\n",
    "\n",
    "plt.plot(K, cost, 'bx-')\n",
    "plt.xlabel('No. of clusters')\n",
    "plt.ylabel('Cost')\n",
    "plt.title('Elbow Method For Optimal K')\n",
    "plt.show()"
   ]
  },
  {
   "cell_type": "markdown",
   "metadata": {},
   "source": [
    "#### Silhouette Score"
   ]
  },
  {
   "cell_type": "code",
   "execution_count": 65,
   "metadata": {},
   "outputs": [
    {
     "data": {
      "text/html": [
       "<style>#sk-container-id-2 {color: black;background-color: white;}#sk-container-id-2 pre{padding: 0;}#sk-container-id-2 div.sk-toggleable {background-color: white;}#sk-container-id-2 label.sk-toggleable__label {cursor: pointer;display: block;width: 100%;margin-bottom: 0;padding: 0.3em;box-sizing: border-box;text-align: center;}#sk-container-id-2 label.sk-toggleable__label-arrow:before {content: \"▸\";float: left;margin-right: 0.25em;color: #696969;}#sk-container-id-2 label.sk-toggleable__label-arrow:hover:before {color: black;}#sk-container-id-2 div.sk-estimator:hover label.sk-toggleable__label-arrow:before {color: black;}#sk-container-id-2 div.sk-toggleable__content {max-height: 0;max-width: 0;overflow: hidden;text-align: left;background-color: #f0f8ff;}#sk-container-id-2 div.sk-toggleable__content pre {margin: 0.2em;color: black;border-radius: 0.25em;background-color: #f0f8ff;}#sk-container-id-2 input.sk-toggleable__control:checked~div.sk-toggleable__content {max-height: 200px;max-width: 100%;overflow: auto;}#sk-container-id-2 input.sk-toggleable__control:checked~label.sk-toggleable__label-arrow:before {content: \"▾\";}#sk-container-id-2 div.sk-estimator input.sk-toggleable__control:checked~label.sk-toggleable__label {background-color: #d4ebff;}#sk-container-id-2 div.sk-label input.sk-toggleable__control:checked~label.sk-toggleable__label {background-color: #d4ebff;}#sk-container-id-2 input.sk-hidden--visually {border: 0;clip: rect(1px 1px 1px 1px);clip: rect(1px, 1px, 1px, 1px);height: 1px;margin: -1px;overflow: hidden;padding: 0;position: absolute;width: 1px;}#sk-container-id-2 div.sk-estimator {font-family: monospace;background-color: #f0f8ff;border: 1px dotted black;border-radius: 0.25em;box-sizing: border-box;margin-bottom: 0.5em;}#sk-container-id-2 div.sk-estimator:hover {background-color: #d4ebff;}#sk-container-id-2 div.sk-parallel-item::after {content: \"\";width: 100%;border-bottom: 1px solid gray;flex-grow: 1;}#sk-container-id-2 div.sk-label:hover label.sk-toggleable__label {background-color: #d4ebff;}#sk-container-id-2 div.sk-serial::before {content: \"\";position: absolute;border-left: 1px solid gray;box-sizing: border-box;top: 0;bottom: 0;left: 50%;z-index: 0;}#sk-container-id-2 div.sk-serial {display: flex;flex-direction: column;align-items: center;background-color: white;padding-right: 0.2em;padding-left: 0.2em;position: relative;}#sk-container-id-2 div.sk-item {position: relative;z-index: 1;}#sk-container-id-2 div.sk-parallel {display: flex;align-items: stretch;justify-content: center;background-color: white;position: relative;}#sk-container-id-2 div.sk-item::before, #sk-container-id-2 div.sk-parallel-item::before {content: \"\";position: absolute;border-left: 1px solid gray;box-sizing: border-box;top: 0;bottom: 0;left: 50%;z-index: -1;}#sk-container-id-2 div.sk-parallel-item {display: flex;flex-direction: column;z-index: 1;position: relative;background-color: white;}#sk-container-id-2 div.sk-parallel-item:first-child::after {align-self: flex-end;width: 50%;}#sk-container-id-2 div.sk-parallel-item:last-child::after {align-self: flex-start;width: 50%;}#sk-container-id-2 div.sk-parallel-item:only-child::after {width: 0;}#sk-container-id-2 div.sk-dashed-wrapped {border: 1px dashed gray;margin: 0 0.4em 0.5em 0.4em;box-sizing: border-box;padding-bottom: 0.4em;background-color: white;}#sk-container-id-2 div.sk-label label {font-family: monospace;font-weight: bold;display: inline-block;line-height: 1.2em;}#sk-container-id-2 div.sk-label-container {text-align: center;}#sk-container-id-2 div.sk-container {/* jupyter's `normalize.less` sets `[hidden] { display: none; }` but bootstrap.min.css set `[hidden] { display: none !important; }` so we also need the `!important` here to be able to override the default hidden behavior on the sphinx rendered scikit-learn.org. See: https://github.com/scikit-learn/scikit-learn/issues/21755 */display: inline-block !important;position: relative;}#sk-container-id-2 div.sk-text-repr-fallback {display: none;}</style><div id=\"sk-container-id-2\" class=\"sk-top-container\"><div class=\"sk-text-repr-fallback\"><pre>KModes(init=&#x27;random&#x27;, n_clusters=6, random_state=2022)</pre><b>In a Jupyter environment, please rerun this cell to show the HTML representation or trust the notebook. <br />On GitHub, the HTML representation is unable to render, please try loading this page with nbviewer.org.</b></div><div class=\"sk-container\" hidden><div class=\"sk-item\"><div class=\"sk-estimator sk-toggleable\"><input class=\"sk-toggleable__control sk-hidden--visually\" id=\"sk-estimator-id-2\" type=\"checkbox\" checked><label for=\"sk-estimator-id-2\" class=\"sk-toggleable__label sk-toggleable__label-arrow\">KModes</label><div class=\"sk-toggleable__content\"><pre>KModes(init=&#x27;random&#x27;, n_clusters=6, random_state=2022)</pre></div></div></div></div></div>"
      ],
      "text/plain": [
       "KModes(init='random', n_clusters=6, random_state=2022)"
      ]
     },
     "execution_count": 65,
     "metadata": {},
     "output_type": "execute_result"
    }
   ],
   "source": [
    "from sklearn.metrics import silhouette_samples, silhouette_score\n",
    "kmodes = KModes(n_clusters=6, init='random', random_state=2022)\n",
    "kmodes.fit_predict(data.drop(['Gender'], axis=1))"
   ]
  },
  {
   "cell_type": "code",
   "execution_count": 66,
   "metadata": {},
   "outputs": [
    {
     "data": {
      "text/plain": [
       "array([2, 3, 0, ..., 4, 5, 4], dtype=uint16)"
      ]
     },
     "execution_count": 66,
     "metadata": {},
     "output_type": "execute_result"
    }
   ],
   "source": [
    "kmodes.labels_"
   ]
  },
  {
   "cell_type": "code",
   "execution_count": 67,
   "metadata": {},
   "outputs": [],
   "source": [
    "def visualize_silhouette(cluster_lists, X_features): \n",
    "    from kmodes.kmodes import KModes\n",
    "    from sklearn.metrics import silhouette_samples, silhouette_score\n",
    "\n",
    "    import matplotlib.pyplot as plt\n",
    "    import matplotlib.cm as cm\n",
    "    import math\n",
    "\n",
    "    # 입력값으로 클러스터링 갯수들을 리스트로 받아서, 각 갯수별로 클러스터링을 적용하고 실루엣 개수를 구함\n",
    "    n_cols = len(cluster_lists)\n",
    "\n",
    "    # plt.subplots()으로 리스트에 기재된 클러스터링 수만큼의 sub figures를 가지는 axs 생성 \n",
    "    fig, axs = plt.subplots(figsize=(4*n_cols, 4), nrows=1, ncols=n_cols)\n",
    "\n",
    "    # 리스트에 기재된 클러스터링 갯수들을 차례로 iteration 수행하면서 실루엣 개수 시각화\n",
    "    for ind, n_cluster in enumerate(cluster_lists):\n",
    "\n",
    "        # KMeans 클러스터링 수행하고, 실루엣 스코어와 개별 데이터의 실루엣 값 계산. \n",
    "        clusterer = KModes(n_clusters = n_cluster, max_iter=500, random_state=2022)\n",
    "        cluster_labels = clusterer.fit_predict(X_features)\n",
    "\n",
    "        sil_avg = silhouette_score(X_features, cluster_labels)\n",
    "        sil_values = silhouette_samples(X_features, cluster_labels)\n",
    "\n",
    "        y_lower = 10\n",
    "        axs[ind].set_title('Number of Cluster : '+ str(n_cluster)+'\\n' \\\n",
    "                          'Silhouette Score :' + str(round(sil_avg,3)) )\n",
    "        axs[ind].set_xlabel(\"The silhouette coefficient values\")\n",
    "        axs[ind].set_ylabel(\"Cluster label\")\n",
    "        axs[ind].set_xlim([-0.1, 1])\n",
    "        axs[ind].set_ylim([0, len(X_features) + (n_cluster + 1) * 10])\n",
    "        axs[ind].set_yticks([])  # Clear the yaxis labels / ticks\n",
    "        axs[ind].set_xticks([0, 0.2, 0.4, 0.6, 0.8, 1])\n",
    "\n",
    "        # 클러스터링 갯수별로 fill_betweenx( )형태의 막대 그래프 표현. \n",
    "        for i in range(n_cluster):\n",
    "            ith_cluster_sil_values = sil_values[cluster_labels==i]\n",
    "            ith_cluster_sil_values.sort()\n",
    "\n",
    "            size_cluster_i = ith_cluster_sil_values.shape[0]\n",
    "            y_upper = y_lower + size_cluster_i\n",
    "\n",
    "            color = cm.nipy_spectral(float(i) / n_cluster)\n",
    "            axs[ind].fill_betweenx(np.arange(y_lower, y_upper), 0, ith_cluster_sil_values, \\\n",
    "                                facecolor=color, edgecolor=color, alpha=0.7)\n",
    "            axs[ind].text(-0.05, y_lower + 0.5 * size_cluster_i, str(i))\n",
    "            y_lower = y_upper + 10\n",
    "\n",
    "        axs[ind].axvline(x=sil_avg, color=\"red\", linestyle=\"--\")"
   ]
  },
  {
   "cell_type": "code",
   "execution_count": 68,
   "metadata": {},
   "outputs": [
    {
     "data": {
      "image/png": "[encoded data removed]",
      "text/plain": [
       "<Figure size 1440x288 with 5 Axes>"
      ]
     },
     "metadata": {
      "needs_background": "light"
     },
     "output_type": "display_data"
    }
   ],
   "source": [
    "int_data = to_int(data)\n",
    "visualize_silhouette([4,5,6,7,8], int_data.drop(['Gender'], axis=1))"
   ]
  },
  {
   "cell_type": "code",
   "execution_count": 69,
   "metadata": {},
   "outputs": [],
   "source": [
    "kmode = KModes(n_clusters=6, init='random', random_state=2022)\n",
    "kmode.fit_predict(data.drop(['Gender'], axis=1))\n",
    "data['Cluster'] = kmode.labels_"
   ]
  },
  {
   "cell_type": "markdown",
   "metadata": {},
   "source": [
    "#### Data Analysis"
   ]
  },
  {
   "cell_type": "code",
   "execution_count": 70,
   "metadata": {},
   "outputs": [
    {
     "data": {
      "text/plain": [
       "여성    0.5903\n",
       "남성    0.4097\n",
       "Name: Gender, dtype: float64"
      ]
     },
     "execution_count": 70,
     "metadata": {},
     "output_type": "execute_result"
    }
   ],
   "source": [
    "Static = data.drop(['Cluster'], axis=1)\n",
    "Static.Gender.value_counts(normalize=True)"
   ]
  },
  {
   "cell_type": "code",
   "execution_count": 71,
   "metadata": {},
   "outputs": [],
   "source": [
    "Male = Static[Static['Gender']=='남성']\n",
    "Female = Static[Static['Gender']=='여성']"
   ]
  },
  {
   "cell_type": "code",
   "execution_count": 72,
   "metadata": {},
   "outputs": [
    {
     "name": "stdout",
     "output_type": "stream",
     "text": [
      "Total: \n",
      " 비경활        0.446075\n",
      "임금_저숙련     0.278877\n",
      "임금_중숙련     0.202297\n",
      "임금_고숙련     0.060625\n",
      "은퇴         0.010211\n",
      "무급가족종사자    0.001276\n",
      "자영업        0.000638\n",
      "Name: Job, dtype: float64\n",
      "Male: \n",
      " 임금_중숙련     0.338006\n",
      "비경활        0.283489\n",
      "임금_저숙련     0.253894\n",
      "임금_고숙련     0.104361\n",
      "은퇴         0.015576\n",
      "무급가족종사자    0.003115\n",
      "자영업        0.001558\n",
      "Name: Job, dtype: float64\n",
      "Female: \n",
      " 비경활       0.558919\n",
      "임금_저숙련    0.296216\n",
      "임금_중숙련    0.108108\n",
      "임금_고숙련    0.030270\n",
      "은퇴        0.006486\n",
      "Name: Job, dtype: float64\n"
     ]
    }
   ],
   "source": [
    "print('Total: \\n', Static.Job.value_counts(normalize=True))\n",
    "print('Male: \\n',Male.Job.value_counts(normalize=True))\n",
    "print('Female: \\n', Female.Job.value_counts(normalize=True))"
   ]
  },
  {
   "cell_type": "code",
   "execution_count": 73,
   "metadata": {},
   "outputs": [
    {
     "name": "stdout",
     "output_type": "stream",
     "text": [
      "Total: \n",
      " 중등        0.496490\n",
      "고등        0.185705\n",
      "초등        0.166560\n",
      "대학교 이상    0.151244\n",
      "Name: Edu, dtype: float64\n",
      "Male: \n",
      " 중등        0.501558\n",
      "초등        0.260125\n",
      "고등        0.143302\n",
      "대학교 이상    0.095016\n",
      "Name: Edu, dtype: float64\n",
      "Female: \n",
      " 중등        0.492973\n",
      "고등        0.215135\n",
      "대학교 이상    0.190270\n",
      "초등        0.101622\n",
      "Name: Edu, dtype: float64\n"
     ]
    }
   ],
   "source": [
    "print('Total: \\n', Static.Edu.value_counts(normalize=True))\n",
    "print('Male: \\n',Male.Edu.value_counts(normalize=True))\n",
    "print('Female: \\n', Female.Edu.value_counts(normalize=True))"
   ]
  },
  {
   "cell_type": "code",
   "execution_count": 74,
   "metadata": {},
   "outputs": [
    {
     "name": "stdout",
     "output_type": "stream",
     "text": [
      "Total: \n",
      " 그렇지 않은 편     0.560944\n",
      "전혀 지장 없음     0.234205\n",
      "활동에 제한 있음    0.204850\n",
      "Name: Health, dtype: float64\n",
      "Male: \n",
      " 그렇지 않은 편     0.559190\n",
      "전혀 지장 없음     0.261682\n",
      "활동에 제한 있음    0.179128\n",
      "Name: Health, dtype: float64\n",
      "Female: \n",
      " 그렇지 않은 편     0.562162\n",
      "활동에 제한 있음    0.222703\n",
      "전혀 지장 없음     0.215135\n",
      "Name: Health, dtype: float64\n"
     ]
    }
   ],
   "source": [
    "print('Total: \\n', Static.Health.value_counts(normalize=True))\n",
    "print('Male: \\n',Male.Health.value_counts(normalize=True))\n",
    "print('Female: \\n', Female.Health.value_counts(normalize=True))"
   ]
  },
  {
   "cell_type": "code",
   "execution_count": 75,
   "metadata": {},
   "outputs": [
    {
     "name": "stdout",
     "output_type": "stream",
     "text": [
      "Total: \n",
      " 상    0.547543\n",
      "중    0.322272\n",
      "하    0.130185\n",
      "Name: Earn, dtype: float64\n",
      "Male: \n",
      " 상    0.607477\n",
      "중    0.291277\n",
      "하    0.101246\n",
      "Name: Earn, dtype: float64\n",
      "Female: \n",
      " 상    0.505946\n",
      "중    0.343784\n",
      "하    0.150270\n",
      "Name: Earn, dtype: float64\n"
     ]
    }
   ],
   "source": [
    "print('Total: \\n', Static.Earn.value_counts(normalize=True))\n",
    "print('Male: \\n',Male.Earn.value_counts(normalize=True))\n",
    "print('Female: \\n', Female.Earn.value_counts(normalize=True))"
   ]
  },
  {
   "cell_type": "markdown",
   "metadata": {},
   "source": [
    "#### For Pre New Elder"
   ]
  },
  {
   "cell_type": "code",
   "execution_count": 76,
   "metadata": {},
   "outputs": [
    {
     "data": {
      "text/html": [
       "<div>\n",
       "<style scoped>\n",
       "    .dataframe tbody tr th:only-of-type {\n",
       "        vertical-align: middle;\n",
       "    }\n",
       "\n",
       "    .dataframe tbody tr th {\n",
       "        vertical-align: top;\n",
       "    }\n",
       "\n",
       "    .dataframe thead th {\n",
       "        text-align: right;\n",
       "    }\n",
       "</style>\n",
       "<table border=\"1\" class=\"dataframe\">\n",
       "  <thead>\n",
       "    <tr style=\"text-align: right;\">\n",
       "      <th></th>\n",
       "      <th>pid</th>\n",
       "      <th>hhid</th>\n",
       "      <th>HHID20</th>\n",
       "      <th>CID20</th>\n",
       "      <th>ed</th>\n",
       "      <th>w08wgt_c</th>\n",
       "      <th>w08wgt_p</th>\n",
       "      <th>w01</th>\n",
       "      <th>w02</th>\n",
       "      <th>w03</th>\n",
       "      <th>...</th>\n",
       "      <th>w08G014</th>\n",
       "      <th>w08G026</th>\n",
       "      <th>w08G027</th>\n",
       "      <th>w08G028</th>\n",
       "      <th>w08G029</th>\n",
       "      <th>w08G030</th>\n",
       "      <th>w08G031</th>\n",
       "      <th>w08G032</th>\n",
       "      <th>w08Ba001</th>\n",
       "      <th>w08Ba002</th>\n",
       "    </tr>\n",
       "  </thead>\n",
       "  <tbody>\n",
       "    <tr>\n",
       "      <th>0</th>\n",
       "      <td>11</td>\n",
       "      <td>1</td>\n",
       "      <td>10000000</td>\n",
       "      <td>11</td>\n",
       "      <td>833</td>\n",
       "      <td>1600.303883</td>\n",
       "      <td>2189.837105</td>\n",
       "      <td>1</td>\n",
       "      <td>1.0</td>\n",
       "      <td>1.0</td>\n",
       "      <td>...</td>\n",
       "      <td>NaN</td>\n",
       "      <td>80</td>\n",
       "      <td>60</td>\n",
       "      <td>NaN</td>\n",
       "      <td>60.0</td>\n",
       "      <td>70</td>\n",
       "      <td>4</td>\n",
       "      <td>20</td>\n",
       "      <td>1.0</td>\n",
       "      <td>NaN</td>\n",
       "    </tr>\n",
       "    <tr>\n",
       "      <th>1</th>\n",
       "      <td>21</td>\n",
       "      <td>2</td>\n",
       "      <td>20000000</td>\n",
       "      <td>21</td>\n",
       "      <td>833</td>\n",
       "      <td>3180.749884</td>\n",
       "      <td>3919.849664</td>\n",
       "      <td>1</td>\n",
       "      <td>1.0</td>\n",
       "      <td>1.0</td>\n",
       "      <td>...</td>\n",
       "      <td>NaN</td>\n",
       "      <td>50</td>\n",
       "      <td>40</td>\n",
       "      <td>60.0</td>\n",
       "      <td>50.0</td>\n",
       "      <td>30</td>\n",
       "      <td>5</td>\n",
       "      <td>10</td>\n",
       "      <td>1.0</td>\n",
       "      <td>NaN</td>\n",
       "    </tr>\n",
       "    <tr>\n",
       "      <th>2</th>\n",
       "      <td>22</td>\n",
       "      <td>2</td>\n",
       "      <td>20000000</td>\n",
       "      <td>21</td>\n",
       "      <td>833</td>\n",
       "      <td>4525.161503</td>\n",
       "      <td>5994.598161</td>\n",
       "      <td>1</td>\n",
       "      <td>1.0</td>\n",
       "      <td>1.0</td>\n",
       "      <td>...</td>\n",
       "      <td>NaN</td>\n",
       "      <td>60</td>\n",
       "      <td>50</td>\n",
       "      <td>60.0</td>\n",
       "      <td>NaN</td>\n",
       "      <td>60</td>\n",
       "      <td>4</td>\n",
       "      <td>20</td>\n",
       "      <td>1.0</td>\n",
       "      <td>NaN</td>\n",
       "    </tr>\n",
       "    <tr>\n",
       "      <th>3</th>\n",
       "      <td>41</td>\n",
       "      <td>4</td>\n",
       "      <td>40000000</td>\n",
       "      <td>41</td>\n",
       "      <td>833</td>\n",
       "      <td>1239.297401</td>\n",
       "      <td>1695.840060</td>\n",
       "      <td>1</td>\n",
       "      <td>1.0</td>\n",
       "      <td>1.0</td>\n",
       "      <td>...</td>\n",
       "      <td>NaN</td>\n",
       "      <td>70</td>\n",
       "      <td>60</td>\n",
       "      <td>60.0</td>\n",
       "      <td>70.0</td>\n",
       "      <td>60</td>\n",
       "      <td>5</td>\n",
       "      <td>10</td>\n",
       "      <td>1.0</td>\n",
       "      <td>NaN</td>\n",
       "    </tr>\n",
       "    <tr>\n",
       "      <th>4</th>\n",
       "      <td>42</td>\n",
       "      <td>4</td>\n",
       "      <td>40000000</td>\n",
       "      <td>41</td>\n",
       "      <td>833</td>\n",
       "      <td>1069.049862</td>\n",
       "      <td>1207.745056</td>\n",
       "      <td>1</td>\n",
       "      <td>1.0</td>\n",
       "      <td>1.0</td>\n",
       "      <td>...</td>\n",
       "      <td>NaN</td>\n",
       "      <td>60</td>\n",
       "      <td>60</td>\n",
       "      <td>70.0</td>\n",
       "      <td>NaN</td>\n",
       "      <td>60</td>\n",
       "      <td>6</td>\n",
       "      <td>5</td>\n",
       "      <td>1.0</td>\n",
       "      <td>NaN</td>\n",
       "    </tr>\n",
       "    <tr>\n",
       "      <th>...</th>\n",
       "      <td>...</td>\n",
       "      <td>...</td>\n",
       "      <td>...</td>\n",
       "      <td>...</td>\n",
       "      <td>...</td>\n",
       "      <td>...</td>\n",
       "      <td>...</td>\n",
       "      <td>...</td>\n",
       "      <td>...</td>\n",
       "      <td>...</td>\n",
       "      <td>...</td>\n",
       "      <td>...</td>\n",
       "      <td>...</td>\n",
       "      <td>...</td>\n",
       "      <td>...</td>\n",
       "      <td>...</td>\n",
       "      <td>...</td>\n",
       "      <td>...</td>\n",
       "      <td>...</td>\n",
       "      <td>...</td>\n",
       "      <td>...</td>\n",
       "    </tr>\n",
       "    <tr>\n",
       "      <th>5712</th>\n",
       "      <td>61671</td>\n",
       "      <td>6167</td>\n",
       "      <td>61670000000</td>\n",
       "      <td>61671</td>\n",
       "      <td>672</td>\n",
       "      <td>1962.325562</td>\n",
       "      <td>2019.482662</td>\n",
       "      <td>1</td>\n",
       "      <td>1.0</td>\n",
       "      <td>1.0</td>\n",
       "      <td>...</td>\n",
       "      <td>NaN</td>\n",
       "      <td>30</td>\n",
       "      <td>30</td>\n",
       "      <td>NaN</td>\n",
       "      <td>80.0</td>\n",
       "      <td>50</td>\n",
       "      <td>5</td>\n",
       "      <td>5</td>\n",
       "      <td>1.0</td>\n",
       "      <td>NaN</td>\n",
       "    </tr>\n",
       "    <tr>\n",
       "      <th>5713</th>\n",
       "      <td>61681</td>\n",
       "      <td>6168</td>\n",
       "      <td>61680000000</td>\n",
       "      <td>61681</td>\n",
       "      <td>672</td>\n",
       "      <td>1439.828558</td>\n",
       "      <td>1481.766769</td>\n",
       "      <td>1</td>\n",
       "      <td>1.0</td>\n",
       "      <td>1.0</td>\n",
       "      <td>...</td>\n",
       "      <td>NaN</td>\n",
       "      <td>20</td>\n",
       "      <td>30</td>\n",
       "      <td>NaN</td>\n",
       "      <td>50.0</td>\n",
       "      <td>50</td>\n",
       "      <td>6</td>\n",
       "      <td>2</td>\n",
       "      <td>1.0</td>\n",
       "      <td>NaN</td>\n",
       "    </tr>\n",
       "    <tr>\n",
       "      <th>5714</th>\n",
       "      <td>61691</td>\n",
       "      <td>6169</td>\n",
       "      <td>61690000000</td>\n",
       "      <td>61691</td>\n",
       "      <td>672</td>\n",
       "      <td>1440.165656</td>\n",
       "      <td>1482.113687</td>\n",
       "      <td>1</td>\n",
       "      <td>1.0</td>\n",
       "      <td>1.0</td>\n",
       "      <td>...</td>\n",
       "      <td>NaN</td>\n",
       "      <td>50</td>\n",
       "      <td>50</td>\n",
       "      <td>NaN</td>\n",
       "      <td>80.0</td>\n",
       "      <td>50</td>\n",
       "      <td>5</td>\n",
       "      <td>2</td>\n",
       "      <td>1.0</td>\n",
       "      <td>NaN</td>\n",
       "    </tr>\n",
       "    <tr>\n",
       "      <th>5715</th>\n",
       "      <td>61701</td>\n",
       "      <td>6170</td>\n",
       "      <td>61700000000</td>\n",
       "      <td>61701</td>\n",
       "      <td>672</td>\n",
       "      <td>822.192069</td>\n",
       "      <td>1432.032181</td>\n",
       "      <td>1</td>\n",
       "      <td>1.0</td>\n",
       "      <td>1.0</td>\n",
       "      <td>...</td>\n",
       "      <td>NaN</td>\n",
       "      <td>50</td>\n",
       "      <td>50</td>\n",
       "      <td>NaN</td>\n",
       "      <td>80.0</td>\n",
       "      <td>80</td>\n",
       "      <td>4</td>\n",
       "      <td>5</td>\n",
       "      <td>1.0</td>\n",
       "      <td>NaN</td>\n",
       "    </tr>\n",
       "    <tr>\n",
       "      <th>5716</th>\n",
       "      <td>61711</td>\n",
       "      <td>6171</td>\n",
       "      <td>61710000000</td>\n",
       "      <td>61711</td>\n",
       "      <td>672</td>\n",
       "      <td>792.237030</td>\n",
       "      <td>1379.858752</td>\n",
       "      <td>1</td>\n",
       "      <td>1.0</td>\n",
       "      <td>1.0</td>\n",
       "      <td>...</td>\n",
       "      <td>NaN</td>\n",
       "      <td>30</td>\n",
       "      <td>50</td>\n",
       "      <td>NaN</td>\n",
       "      <td>80.0</td>\n",
       "      <td>50</td>\n",
       "      <td>5</td>\n",
       "      <td>5</td>\n",
       "      <td>1.0</td>\n",
       "      <td>NaN</td>\n",
       "    </tr>\n",
       "  </tbody>\n",
       "</table>\n",
       "<p>5717 rows × 412 columns</p>\n",
       "</div>"
      ],
      "text/plain": [
       "        pid  hhid       HHID20  CID20   ed     w08wgt_c     w08wgt_p  w01  \\\n",
       "0        11     1     10000000     11  833  1600.303883  2189.837105    1   \n",
       "1        21     2     20000000     21  833  3180.749884  3919.849664    1   \n",
       "2        22     2     20000000     21  833  4525.161503  5994.598161    1   \n",
       "3        41     4     40000000     41  833  1239.297401  1695.840060    1   \n",
       "4        42     4     40000000     41  833  1069.049862  1207.745056    1   \n",
       "...     ...   ...          ...    ...  ...          ...          ...  ...   \n",
       "5712  61671  6167  61670000000  61671  672  1962.325562  2019.482662    1   \n",
       "5713  61681  6168  61680000000  61681  672  1439.828558  1481.766769    1   \n",
       "5714  61691  6169  61690000000  61691  672  1440.165656  1482.113687    1   \n",
       "5715  61701  6170  61700000000  61701  672   822.192069  1432.032181    1   \n",
       "5716  61711  6171  61710000000  61711  672   792.237030  1379.858752    1   \n",
       "\n",
       "      w02  w03  ...  w08G014  w08G026  w08G027  w08G028  w08G029  w08G030  \\\n",
       "0     1.0  1.0  ...      NaN       80       60      NaN     60.0       70   \n",
       "1     1.0  1.0  ...      NaN       50       40     60.0     50.0       30   \n",
       "2     1.0  1.0  ...      NaN       60       50     60.0      NaN       60   \n",
       "3     1.0  1.0  ...      NaN       70       60     60.0     70.0       60   \n",
       "4     1.0  1.0  ...      NaN       60       60     70.0      NaN       60   \n",
       "...   ...  ...  ...      ...      ...      ...      ...      ...      ...   \n",
       "5712  1.0  1.0  ...      NaN       30       30      NaN     80.0       50   \n",
       "5713  1.0  1.0  ...      NaN       20       30      NaN     50.0       50   \n",
       "5714  1.0  1.0  ...      NaN       50       50      NaN     80.0       50   \n",
       "5715  1.0  1.0  ...      NaN       50       50      NaN     80.0       80   \n",
       "5716  1.0  1.0  ...      NaN       30       50      NaN     80.0       50   \n",
       "\n",
       "      w08G031  w08G032  w08Ba001  w08Ba002  \n",
       "0           4       20       1.0       NaN  \n",
       "1           5       10       1.0       NaN  \n",
       "2           4       20       1.0       NaN  \n",
       "3           5       10       1.0       NaN  \n",
       "4           6        5       1.0       NaN  \n",
       "...       ...      ...       ...       ...  \n",
       "5712        5        5       1.0       NaN  \n",
       "5713        6        2       1.0       NaN  \n",
       "5714        5        2       1.0       NaN  \n",
       "5715        4        5       1.0       NaN  \n",
       "5716        5        5       1.0       NaN  \n",
       "\n",
       "[5717 rows x 412 columns]"
      ]
     },
     "execution_count": 76,
     "metadata": {},
     "output_type": "execute_result"
    }
   ],
   "source": [
    "pre = pd.read_csv('./data/Lt08.csv')\n",
    "pre"
   ]
  },
  {
   "cell_type": "code",
   "execution_count": 77,
   "metadata": {},
   "outputs": [],
   "source": [
    "def new_preprocessing(data, period):\n",
    "    # data = data[(data[f'w{period}A002_age'] >= 60) & (data[f'w{period}A002_age'] < 65)]\n",
    "    data['Earn_Score'] = data[f'w{period}hhinc'] / np.sqrt(data[f'w{period}hhsize'])\n",
    "\n",
    "    data['Earn'] = pd.qcut(data['Earn_Score'], 3, labels=['하', '중', '상'])\n",
    "\n",
    "    index = data[data.Earn.isna()==True].index\n",
    "    data.drop(index, inplace=True)\n",
    "\n",
    "    data = data[data[f'w{period}A002y'] < 1955]\n",
    "    data['Gender'] = np.where(data[f'w{period}gender1'] == 1, '남성', '여성')\n",
    "    \n",
    "    data['Job'] = np.where(data[f'w{period}present_ecotype'] == 3, '비경활',\n",
    "                           np.where(data[f'w{period}retired'].isin([1.0, 2.0]), '은퇴',\n",
    "                                np.where(data[f'w{period}job'].isin([1.0, 2.0]), '임금_고숙련',\n",
    "                                        np.where(data[f'w{period}job'].isin([3.0, 6.0, 7.0, 8.0, -9.0]), '임금_중숙련',\n",
    "                                                np.where(data[f'w{period}job'].isin([4.0, 5.0, 9.0]), '임금_저숙련',\n",
    "                                                        np.where(data[f'w{period}emp'] == 2.0, '자영업', '무급가족종사자'))))))\n",
    "    data['Edu'] = np.where(data[f'w{period}edu'] == 1, '대학교 이상',\n",
    "                           np.where(data[f'w{period}edu'] == 2, '고등',\n",
    "                                   np.where(data[f'w{period}edu'] == 3, '중등', '초등')))\n",
    "    data['Health'] = np.where(data[f'w{period}C005'].isin([1,2]), '활동에 제한 있음',\n",
    "                              np.where(data[f'w{period}C005'] == 3,'그렇지 않은 편', '전혀 지장 없음'))\n",
    "                              \n",
    "    data['Self_conf_Score'] = data[f'w{period}G026'] + data[f'w{period}G027'] + data[f'w{period}G028'] + data[f'w{period}G029'] + data[f'w{period}G030']\n",
    "\n",
    "    data['Self_conf'] = np.where(data['Self_conf_Score'] > 350, '상',\n",
    "                                 np.where(data['Self_conf_Score'] < 200, '하', '중'))\n",
    "    \n",
    "    data = data[['Gender','Job', 'Edu', 'Health', 'Earn']]\n",
    "    data.reset_index(drop=True, inplace=True)\n",
    "    return data"
   ]
  },
  {
   "cell_type": "code",
   "execution_count": 78,
   "metadata": {},
   "outputs": [],
   "source": [
    "pre = new_preprocessing(pre, '08')"
   ]
  },
  {
   "cell_type": "code",
   "execution_count": 79,
   "metadata": {},
   "outputs": [
    {
     "name": "stdout",
     "output_type": "stream",
     "text": [
      "직업지위: \n",
      " 비경활        0.785126\n",
      "임금_저숙련     0.104893\n",
      "임금_중숙련     0.092054\n",
      "임금_고숙련     0.015262\n",
      "은퇴         0.002180\n",
      "무급가족종사자    0.000242\n",
      "자영업        0.000242\n",
      "Name: Job, dtype: float64\n",
      "학력수준: \n",
      " 대학교 이상    0.518653\n",
      "중등        0.225048\n",
      "고등        0.174176\n",
      "초등        0.082122\n",
      "Name: Edu, dtype: float64\n",
      "활동제한 수준: \n",
      " 그렇지 않은 편     0.459302\n",
      "활동에 제한 있음    0.445252\n",
      "전혀 지장 없음     0.095446\n",
      "Name: Health, dtype: float64\n",
      "소득: \n",
      " 하    0.416182\n",
      "중    0.332849\n",
      "상    0.250969\n",
      "Name: Earn, dtype: float64\n"
     ]
    }
   ],
   "source": [
    "print('직업지위: \\n', pre.Job.value_counts(normalize=True))\n",
    "print('학력수준: \\n', pre.Edu.value_counts(normalize=True))\n",
    "print('활동제한 수준: \\n', pre.Health.value_counts(normalize=True))\n",
    "print('소득: \\n', pre.Earn.value_counts(normalize=True))"
   ]
  },
  {
   "cell_type": "markdown",
   "metadata": {},
   "source": [
    "#### Visualization"
   ]
  },
  {
   "cell_type": "code",
   "execution_count": 80,
   "metadata": {},
   "outputs": [
    {
     "name": "stdout",
     "output_type": "stream",
     "text": [
      "Cluster Number:  0\n",
      "Distribution of Jobs: \n",
      " 임금_중숙련     0.858434\n",
      "임금_고숙련     0.105422\n",
      "은퇴         0.027108\n",
      "무급가족종사자    0.006024\n",
      "자영업        0.003012\n",
      "Name: Job, dtype: float64\n",
      "Distribution of Edus: \n",
      " 중등        0.617470\n",
      "대학교 이상    0.144578\n",
      "고등        0.138554\n",
      "초등        0.099398\n",
      "Name: Edu, dtype: float64\n",
      "Distribution of Earns: \n",
      " 상    0.695783\n",
      "중    0.222892\n",
      "하    0.081325\n",
      "Name: Earn, dtype: float64\n",
      "Distribution of Healthes: \n",
      " 그렇지 않은 편     0.620482\n",
      "전혀 지장 없음     0.277108\n",
      "활동에 제한 있음    0.102410\n",
      "Name: Health, dtype: float64\n",
      "Cluster Number:  1\n",
      "Distribution of Jobs: \n",
      " 비경활       0.827763\n",
      "임금_저숙련    0.125964\n",
      "임금_중숙련    0.033419\n",
      "임금_고숙련    0.007712\n",
      "은퇴        0.005141\n",
      "Name: Job, dtype: float64\n",
      "Distribution of Edus: \n",
      " 중등        0.588689\n",
      "대학교 이상    0.167095\n",
      "고등        0.154242\n",
      "초등        0.089974\n",
      "Name: Edu, dtype: float64\n",
      "Distribution of Earns: \n",
      " 중    0.614396\n",
      "하    0.215938\n",
      "상    0.169666\n",
      "Name: Earn, dtype: float64\n",
      "Distribution of Healthes: \n",
      " 활동에 제한 있음    0.614396\n",
      "그렇지 않은 편     0.205656\n",
      "전혀 지장 없음     0.179949\n",
      "Name: Health, dtype: float64\n",
      "Cluster Number:  2\n",
      "Distribution of Jobs: \n",
      " 비경활       0.639640\n",
      "임금_저숙련    0.234234\n",
      "임금_중숙련    0.085586\n",
      "임금_고숙련    0.027027\n",
      "은퇴        0.013514\n",
      "Name: Job, dtype: float64\n",
      "Distribution of Edus: \n",
      " 고등        0.644144\n",
      "대학교 이상    0.261261\n",
      "초등        0.094595\n",
      "Name: Edu, dtype: float64\n",
      "Distribution of Earns: \n",
      " 중    0.648649\n",
      "하    0.193694\n",
      "상    0.157658\n",
      "Name: Earn, dtype: float64\n",
      "Distribution of Healthes: \n",
      " 그렇지 않은 편    0.869369\n",
      "전혀 지장 없음    0.130631\n",
      "Name: Health, dtype: float64\n",
      "Cluster Number:  3\n",
      "Distribution of Jobs: \n",
      " 비경활       0.541667\n",
      "임금_고숙련    0.265625\n",
      "임금_저숙련    0.182292\n",
      "은퇴        0.010417\n",
      "Name: Job, dtype: float64\n",
      "Distribution of Edus: \n",
      " 초등        0.895833\n",
      "대학교 이상    0.104167\n",
      "Name: Edu, dtype: float64\n",
      "Distribution of Earns: \n",
      " 상    0.916667\n",
      "하    0.083333\n",
      "Name: Earn, dtype: float64\n",
      "Distribution of Healthes: \n",
      " 그렇지 않은 편     0.536458\n",
      "전혀 지장 없음     0.359375\n",
      "활동에 제한 있음    0.104167\n",
      "Name: Health, dtype: float64\n",
      "Cluster Number:  4\n",
      "Distribution of Jobs: \n",
      " 임금_저숙련    1.0\n",
      "Name: Job, dtype: float64\n",
      "Distribution of Edus: \n",
      " 중등        0.707641\n",
      "대학교 이상    0.152824\n",
      "고등        0.139535\n",
      "Name: Edu, dtype: float64\n",
      "Distribution of Earns: \n",
      " 상    0.777409\n",
      "중    0.159468\n",
      "하    0.063123\n",
      "Name: Earn, dtype: float64\n",
      "Distribution of Healthes: \n",
      " 그렇지 않은 편     0.657807\n",
      "전혀 지장 없음     0.249169\n",
      "활동에 제한 있음    0.093023\n",
      "Name: Health, dtype: float64\n",
      "Cluster Number:  5\n",
      "Distribution of Jobs: \n",
      " 비경활    1.0\n",
      "Name: Job, dtype: float64\n",
      "Distribution of Edus: \n",
      " 중등    1.0\n",
      "Name: Edu, dtype: float64\n",
      "Distribution of Earns: \n",
      " 상    0.885496\n",
      "하    0.114504\n",
      "Name: Earn, dtype: float64\n",
      "Distribution of Healthes: \n",
      " 그렇지 않은 편    0.755725\n",
      "전혀 지장 없음    0.244275\n",
      "Name: Health, dtype: float64\n"
     ]
    }
   ],
   "source": [
    "for cluster in range(0, 6):\n",
    "    temp = data[data['Cluster'] == cluster]\n",
    "    print('Cluster Number: ', cluster)\n",
    "    print('Distribution of Jobs: \\n', temp.Job.value_counts(normalize=True))\n",
    "    print('Distribution of Edus: \\n', temp.Edu.value_counts(normalize=True))\n",
    "    print('Distribution of Earns: \\n', temp.Earn.value_counts(normalize=True))\n",
    "    print('Distribution of Healthes: \\n', temp.Health.value_counts(normalize=True))"
   ]
  },
  {
   "cell_type": "code",
   "execution_count": 81,
   "metadata": {},
   "outputs": [
    {
     "data": {
      "text/plain": [
       "상    94\n",
       "중    85\n",
       "하    58\n",
       "Name: Earn, dtype: int64"
      ]
     },
     "execution_count": 81,
     "metadata": {},
     "output_type": "execute_result"
    }
   ],
   "source": [
    "data[data['Edu']=='대학교 이상'].Earn.value_counts()"
   ]
  },
  {
   "cell_type": "code",
   "execution_count": 82,
   "metadata": {},
   "outputs": [
    {
     "data": {
      "text/plain": [
       "Index(['Gender', 'Job', 'Edu', 'Health', 'Earn', 'Cluster'], dtype='object')"
      ]
     },
     "execution_count": 82,
     "metadata": {},
     "output_type": "execute_result"
    }
   ],
   "source": [
    "data.columns"
   ]
  },
  {
   "cell_type": "code",
   "execution_count": 83,
   "metadata": {},
   "outputs": [],
   "source": [
    "kmode = KModes(n_clusters=6, init='random', random_state=2022)\n",
    "kmode.fit_predict(data.drop(['Gender'], axis=1))\n",
    "data['Cluster'] = kmode.labels_"
   ]
  },
  {
   "cell_type": "code",
   "execution_count": 84,
   "metadata": {},
   "outputs": [
    {
     "data": {
      "image/png": "[encoded data removed]",
      "text/plain": [
       "<Figure size 1800x720 with 4 Axes>"
      ]
     },
     "metadata": {
      "needs_background": "light"
     },
     "output_type": "display_data"
    },
    {
     "data": {
      "image/png": "[encoded data removed]",
      "text/plain": [
       "<Figure size 1800x720 with 4 Axes>"
      ]
     },
     "metadata": {
      "needs_background": "light"
     },
     "output_type": "display_data"
    },
    {
     "data": {
      "image/png": "[encoded data removed]",
      "text/plain": [
       "<Figure size 1800x720 with 4 Axes>"
      ]
     },
     "metadata": {
      "needs_background": "light"
     },
     "output_type": "display_data"
    },
    {
     "data": {
      "image/png": "[encoded data removed]",
      "text/plain": [
       "<Figure size 1800x720 with 4 Axes>"
      ]
     },
     "metadata": {
      "needs_background": "light"
     },
     "output_type": "display_data"
    },
    {
     "data": {
      "image/png": "[encoded data removed]",
      "text/plain": [
       "<Figure size 1800x720 with 4 Axes>"
      ]
     },
     "metadata": {
      "needs_background": "light"
     },
     "output_type": "display_data"
    },
    {
     "data": {
      "image/png": "[encoded data removed]",
      "text/plain": [
       "<Figure size 1800x720 with 4 Axes>"
      ]
     },
     "metadata": {
      "needs_background": "light"
     },
     "output_type": "display_data"
    }
   ],
   "source": [
    "cols = data.drop(['Gender','Cluster'], axis=1).columns\n",
    "for clus in range(0, 6):\n",
    "    plt.figure(figsize=(25, 10))\n",
    "    n = 1 \n",
    "    for i, col in enumerate(cols):\n",
    "        ax = plt.subplot(1, 4, n)\n",
    "        colors = sns.color_palette('hls',len(data[col].value_counts()))\n",
    "        temp = data[data['Cluster'] == clus].drop(['Cluster'], axis=1)[col].value_counts()\n",
    "        ax.bar(x = temp.index, height= temp.values, color = colors, axes= ax)\n",
    "        plt.title(f'{clus}th of {col}')\n",
    "        n += 1\n",
    "    plt.show()"
   ]
  },
  {
   "cell_type": "code",
   "execution_count": 85,
   "metadata": {},
   "outputs": [
    {
     "name": "stdout",
     "output_type": "stream",
     "text": [
      "Size of 4th Cluster: 0.14\n",
      "4th Cluster of Health ratio\n",
      "그렇지 않은 편    0.869369\n",
      "전혀 지장 없음    0.130631\n",
      "Name: Health, dtype: float64\n",
      "4th Cluster of Earn ratio\n",
      "중    0.648649\n",
      "하    0.193694\n",
      "상    0.157658\n",
      "Name: Earn, dtype: float64\n",
      "-----------------------------------------------------------\n",
      "Size of 2th Cluster: 0.12\n",
      "2th Cluster of Health ratio\n",
      "그렇지 않은 편     0.536458\n",
      "전혀 지장 없음     0.359375\n",
      "활동에 제한 있음    0.104167\n",
      "Name: Health, dtype: float64\n",
      "2th Cluster of Earn ratio\n",
      "상    0.916667\n",
      "하    0.083333\n",
      "Name: Earn, dtype: float64\n",
      "-----------------------------------------------------------\n",
      "Size of 3th Cluster: 0.21\n",
      "3th Cluster of Health ratio\n",
      "그렇지 않은 편     0.620482\n",
      "전혀 지장 없음     0.277108\n",
      "활동에 제한 있음    0.102410\n",
      "Name: Health, dtype: float64\n",
      "3th Cluster of Earn ratio\n",
      "상    0.695783\n",
      "중    0.222892\n",
      "하    0.081325\n",
      "Name: Earn, dtype: float64\n",
      "-----------------------------------------------------------\n",
      "Size of 1th Cluster: 0.25\n",
      "1th Cluster of Health ratio\n",
      "활동에 제한 있음    0.614396\n",
      "그렇지 않은 편     0.205656\n",
      "전혀 지장 없음     0.179949\n",
      "Name: Health, dtype: float64\n",
      "1th Cluster of Earn ratio\n",
      "중    0.614396\n",
      "하    0.215938\n",
      "상    0.169666\n",
      "Name: Earn, dtype: float64\n",
      "-----------------------------------------------------------\n",
      "Size of 0th Cluster: 0.08\n",
      "0th Cluster of Health ratio\n",
      "그렇지 않은 편    0.755725\n",
      "전혀 지장 없음    0.244275\n",
      "Name: Health, dtype: float64\n",
      "0th Cluster of Earn ratio\n",
      "상    0.885496\n",
      "하    0.114504\n",
      "Name: Earn, dtype: float64\n",
      "-----------------------------------------------------------\n",
      "Size of 5th Cluster: 0.19\n",
      "5th Cluster of Health ratio\n",
      "그렇지 않은 편     0.657807\n",
      "전혀 지장 없음     0.249169\n",
      "활동에 제한 있음    0.093023\n",
      "Name: Health, dtype: float64\n",
      "5th Cluster of Earn ratio\n",
      "상    0.777409\n",
      "중    0.159468\n",
      "하    0.063123\n",
      "Name: Earn, dtype: float64\n",
      "-----------------------------------------------------------\n"
     ]
    }
   ],
   "source": [
    "# 신노년세대 유형별 기술통계\n",
    "cols = data.drop(['Gender','Job', 'Edu', 'Cluster'], axis=1).columns\n",
    "clus = data.Cluster.unique()\n",
    "for clu in clus:\n",
    "    temp = data[data['Cluster']==clu]\n",
    "    print(f'Size of {clu}th Cluster:', np.round(len(temp)/len(data),2))\n",
    "    for col in cols:\n",
    "        print(f'{clu}th Cluster of {col} ratio')\n",
    "        print(temp[col].value_counts(normalize=True))\n",
    "    print('-----------------------------------------------------------')"
   ]
  }
 ],
 "metadata": {
  "interpreter": {
   "hash": "68756eb6c044f31c46e3e1f38723aea1f0146198488dd3d60c0e4241eb6f7dd0"
  },
  "kernelspec": {
   "display_name": "Python 3.8.8 ('base')",
   "language": "python",
   "name": "python3"
  },
  "language_info": {
   "codemirror_mode": {
    "name": "ipython",
    "version": 3
   },
   "file_extension": ".py",
   "mimetype": "text/x-python",
   "name": "python",
   "nbconvert_exporter": "python",
   "pygments_lexer": "ipython3",
   "version": "3.8.8"
  },
  "orig_nbformat": 4
 },
 "nbformat": 4,
 "nbformat_minor": 2
}
