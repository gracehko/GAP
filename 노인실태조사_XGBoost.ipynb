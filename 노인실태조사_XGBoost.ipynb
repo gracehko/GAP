{
 "cells": [
  {
   "cell_type": "code",
   "execution_count": 1,
   "id": "e73b051e",
   "metadata": {},
   "outputs": [],
   "source": [
    "import pandas as pd\n",
    "import numpy as np\n",
    "from sklearn.linear_model import LinearRegression\n",
    "from sklearn.model_selection import train_test_split\n",
    "from sklearn.preprocessing import OneHotEncoder\n",
    "from sklearn.metrics import mean_squared_error, r2_score\n",
    "import seaborn as sns\n",
    "import lightgbm as lgb\n",
    "import seaborn as sns\n",
    "import matplotlib.pyplot as plt\n",
    "\n",
    "import warnings\n",
    "warnings.filterwarnings('ignore')"
   ]
  },
  {
   "cell_type": "markdown",
   "id": "16b4e3bf",
   "metadata": {},
   "source": [
    "#### 데이터 전처리"
   ]
  },
  {
   "cell_type": "code",
   "execution_count": 2,
   "id": "f0ea7dfe",
   "metadata": {},
   "outputs": [
    {
     "name": "stdout",
     "output_type": "stream",
     "text": [
      "<class 'pandas.core.frame.DataFrame'>\n",
      "RangeIndex: 10097 entries, 0 to 10096\n",
      "Columns: 915 entries, PID to s_wgt1\n",
      "dtypes: float64(3), int64(829), object(83)\n",
      "memory usage: 70.5+ MB\n"
     ]
    }
   ],
   "source": [
    "senior_df = pd.read_csv(\"노인실태조사.csv\")\n",
    "senior_df.info()"
   ]
  },
  {
   "cell_type": "code",
   "execution_count": 3,
   "id": "e85a7069",
   "metadata": {},
   "outputs": [
    {
     "name": "stdout",
     "output_type": "stream",
     "text": [
      "<class 'pandas.core.frame.DataFrame'>\n",
      "RangeIndex: 10097 entries, 0 to 10096\n",
      "Data columns (total 2 columns):\n",
      " #   Column  Non-Null Count  Dtype\n",
      "---  ------  --------------  -----\n",
      " 0   연령      10097 non-null  int64\n",
      " 1   종교      10097 non-null  int64\n",
      "dtypes: int64(2)\n",
      "memory usage: 157.9 KB\n"
     ]
    }
   ],
   "source": [
    "# df=senior_df[['RES_AGE', 'RES_MAR', 'S5_1', 'C10',\n",
    "#               'E3', 'E4',\n",
    "#               'J2']]\n",
    "# df.columns = ['연령', '혼인상태', '동거인수', '장애여부',\n",
    "#               '향후 근로 희망 여부', '노인일자리 경험여부',\n",
    "#               '수급자 여부'\n",
    "# df.info()\n",
    "              \n",
    "df=senior_df[['RES_AGE', 'D8']]\n",
    "df.columns = ['연령', '종교']\n",
    "df.info()"
   ]
  },
  {
   "cell_type": "code",
   "execution_count": 4,
   "id": "447a7222",
   "metadata": {},
   "outputs": [],
   "source": [
    "# 임금 고숙련 : 1\n",
    "# 임금 중숙련 : 2\n",
    "# 임금 저숙련 : 3\n",
    "# 자영업 : 4\n",
    "# 무급가족 종사자 : 5\n",
    "# 은퇴 : 6\n",
    "# 비경활 : 9\n",
    "\n",
    "df['직업'] = np.where(senior_df['E1_1'].isin([11,12,13,14,15,21,22,23,24,25,26,27,28]),1,\n",
    "                     np.where(senior_df['E1_1'].isin([31,32,33,39,61,62,63,72,73,74,75,76,77,78,79,81,82,83,84,85,86,87,88,89,100]),2,\n",
    "                              np.where(senior_df['E1_1'].isin([41,42,43,44,51,52,53,91,92,93,94,95,99]),3,\n",
    "                                       np.where(senior_df['E1_3'].isin([3,4]),4,\n",
    "                                                np.where(senior_df['E1_3']==6 ,5,\n",
    "                                                         np.where(senior_df['E1']==2, 6,\n",
    "                                                                  np.where(senior_df['E1_1']==999,9,np.nan)))))))"
   ]
  },
  {
   "cell_type": "code",
   "execution_count": 5,
   "id": "e4929bc1",
   "metadata": {},
   "outputs": [
    {
     "data": {
      "text/plain": [
       "6.0    4908\n",
       "3.0    2447\n",
       "9.0    1404\n",
       "2.0     927\n",
       "1.0     383\n",
       "5.0       4\n",
       "4.0       2\n",
       "Name: 직업, dtype: int64"
      ]
     },
     "execution_count": 5,
     "metadata": {},
     "output_type": "execute_result"
    }
   ],
   "source": [
    "df['직업'].value_counts()"
   ]
  },
  {
   "cell_type": "code",
   "execution_count": 6,
   "id": "77d7afdc",
   "metadata": {},
   "outputs": [
    {
     "data": {
      "text/plain": [
       "1    5974\n",
       "3    3737\n",
       "4     330\n",
       "5      56\n",
       "Name: 혼인상태, dtype: int64"
      ]
     },
     "execution_count": 6,
     "metadata": {},
     "output_type": "execute_result"
    }
   ],
   "source": [
    "# 혼인상태\n",
    "# 1미혼 2기혼 3사별 4이혼 5별거\n",
    "# 0미혼 1기혼 으로 변경\n",
    "\n",
    "df['혼인상태'] = senior_df['RES_MAR'].replace([1, 3, 4, 5], 0)\n",
    "df['혼인상태'] = senior_df['RES_MAR'].replace(2, 1)\n",
    "df[\"혼인상태\"].value_counts()"
   ]
  },
  {
   "cell_type": "code",
   "execution_count": 7,
   "id": "ca6cb20d",
   "metadata": {},
   "outputs": [
    {
     "data": {
      "text/plain": [
       "3    3377\n",
       "5    2668\n",
       "4    2369\n",
       "2     830\n",
       "1     341\n",
       "7     309\n",
       "6     203\n",
       "Name: RES_EDU1, dtype: int64"
      ]
     },
     "execution_count": 7,
     "metadata": {},
     "output_type": "execute_result"
    }
   ],
   "source": [
    "senior_df['RES_EDU1'].value_counts()\n",
    "# 1 무학(글자모름) 2 무학(글자해독) 3초등학교 4 중학교 5 고등학교 6 대학(4년미만) 7 대학이상"
   ]
  },
  {
   "cell_type": "code",
   "execution_count": 8,
   "id": "3efc329c",
   "metadata": {},
   "outputs": [],
   "source": [
    "# 대학교 이상 : 1\n",
    "# 고등 : 2\n",
    "# 중등 : 3\n",
    "# 초등 : 4\n",
    "\n",
    "df['교육수준'] = np.where(senior_df['RES_EDU1'] >= 6 , 1,\n",
    "                    np.where(senior_df['RES_EDU1']== 5, 2,\n",
    "                              np.where(senior_df['RES_EDU1']== 4, 3,4\n",
    "                    )))"
   ]
  },
  {
   "cell_type": "code",
   "execution_count": 9,
   "id": "11f90e44",
   "metadata": {},
   "outputs": [
    {
     "data": {
      "text/plain": [
       "4    4548\n",
       "2    2668\n",
       "3    2369\n",
       "1     512\n",
       "Name: 교육수준, dtype: int64"
      ]
     },
     "execution_count": 9,
     "metadata": {},
     "output_type": "execute_result"
    }
   ],
   "source": [
    "df['교육수준'].value_counts()"
   ]
  },
  {
   "cell_type": "code",
   "execution_count": 10,
   "id": "e3224766",
   "metadata": {},
   "outputs": [
    {
     "data": {
      "text/plain": [
       "2    4507\n",
       "3    3120\n",
       "4    1659\n",
       "1     433\n",
       "5     201\n",
       "9     177\n",
       "Name: B1, dtype: int64"
      ]
     },
     "execution_count": 10,
     "metadata": {},
     "output_type": "execute_result"
    }
   ],
   "source": [
    "senior_df['B1'].value_counts()\n",
    "# 1 매우 건강하다 2 건강한 편이다 3 그저 그렇다 4 건강이 나쁜 편이다 5 건강이 매우 나쁘다 9 비해당"
   ]
  },
  {
   "cell_type": "code",
   "execution_count": 11,
   "id": "e918c6be",
   "metadata": {},
   "outputs": [],
   "source": [
    "# 전혀 지장 없음 : 0\n",
    "# 활동에 제한 있음 : 1\n",
    "df['건강상태'] = np.where(senior_df['B1']<=3, 0, 1)"
   ]
  },
  {
   "cell_type": "code",
   "execution_count": 12,
   "id": "b5e30490",
   "metadata": {},
   "outputs": [],
   "source": [
    "# G026; 자신의 건강상태, G027; 자신의 경제상태, G028; 배우자와의 관계, G029; 자녀와의 관계, G030; 전반적인 삶의 질\n",
    "df['전체 만족도'] = senior_df['H16_1'] + senior_df['H16_2']+ senior_df['H16_3'] + senior_df['H16_4'] + senior_df['H16_7']"
   ]
  },
  {
   "cell_type": "code",
   "execution_count": 13,
   "id": "2bac1c13",
   "metadata": {},
   "outputs": [],
   "source": [
    "senior_df['H16_1'].replace(9,0, inplace=True)\n",
    "senior_df['H16_2'].replace(9,0, inplace=True)\n",
    "senior_df['H16_3'].replace(9,0, inplace=True)\n",
    "senior_df['H16_4'].replace(9,0, inplace=True)\n",
    "senior_df['H16_7'].replace(9,0, inplace=True)"
   ]
  },
  {
   "cell_type": "code",
   "execution_count": 14,
   "id": "9c1db336",
   "metadata": {},
   "outputs": [],
   "source": [
    "# 상 : 3, 중 : 2, 하 : 1\n",
    "\n",
    "df['전체 만족도'] = np.where(df['전체 만족도']<9, 3,\n",
    "                           np.where(df['전체 만족도']<16, 2, 1))"
   ]
  },
  {
   "cell_type": "code",
   "execution_count": 15,
   "id": "356da9b8",
   "metadata": {},
   "outputs": [
    {
     "data": {
      "text/plain": [
       "1    4765\n",
       "2    4634\n",
       "3     698\n",
       "Name: 전체 만족도, dtype: int64"
      ]
     },
     "execution_count": 15,
     "metadata": {},
     "output_type": "execute_result"
    }
   ],
   "source": [
    "df['전체 만족도'].value_counts()"
   ]
  },
  {
   "cell_type": "code",
   "execution_count": 16,
   "id": "43fe622b",
   "metadata": {},
   "outputs": [
    {
     "data": {
      "text/plain": [
       "0        1789\n",
       "1        1389\n",
       "2        2180\n",
       "3        3100\n",
       "4         719\n",
       "         ... \n",
       "10092     550\n",
       "10093     500\n",
       "10094    1320\n",
       "10095     300\n",
       "10096    2850\n",
       "Name: J3b_1_13, Length: 10097, dtype: int64"
      ]
     },
     "execution_count": 16,
     "metadata": {},
     "output_type": "execute_result"
    }
   ],
   "source": [
    "senior_df['J3b_1_13'].replace(999998,0) # 소득\n",
    "senior_df['J3b_1_13'].replace(999999,0)"
   ]
  },
  {
   "cell_type": "code",
   "execution_count": 17,
   "id": "9c0871ba",
   "metadata": {},
   "outputs": [
    {
     "data": {
      "text/plain": [
       "count    10097.000000\n",
       "mean      1489.300683\n",
       "std       2326.339146\n",
       "min          0.000000\n",
       "25%        500.000000\n",
       "50%        885.000000\n",
       "75%       1900.000000\n",
       "max      59800.000000\n",
       "Name: J3b_1_13, dtype: float64"
      ]
     },
     "execution_count": 17,
     "metadata": {},
     "output_type": "execute_result"
    }
   ],
   "source": [
    "senior_df['J3b_1_13'].describe()"
   ]
  },
  {
   "cell_type": "code",
   "execution_count": 18,
   "id": "b3f99ac3",
   "metadata": {},
   "outputs": [],
   "source": [
    "# 상 : 3, 중 : 2, 하 : 1\n",
    "\n",
    "df['소득수준'] = np.where(senior_df['J3b_1_13'] > senior_df['J3b_1_13'].describe()['75%'], 3,\n",
    "                            np.where(senior_df['J3b_1_13'] < senior_df['J3b_1_13'].describe()['25%'], 1, 2))"
   ]
  },
  {
   "cell_type": "code",
   "execution_count": 19,
   "id": "875a6e37",
   "metadata": {},
   "outputs": [
    {
     "data": {
      "text/plain": [
       "2    5088\n",
       "1    2508\n",
       "3    2501\n",
       "Name: 소득수준, dtype: int64"
      ]
     },
     "execution_count": 19,
     "metadata": {},
     "output_type": "execute_result"
    }
   ],
   "source": [
    "df['소득수준'].value_counts()"
   ]
  },
  {
   "cell_type": "code",
   "execution_count": 20,
   "id": "070ec9f2",
   "metadata": {},
   "outputs": [],
   "source": [
    "# 지난 1년간 시설 이용 여부\n",
    "# 1은 이용경험 있음, 2는 이용경험 없음\n",
    "# D11_1_1; 경로당, D11_1_2; 노인복지관, D11_1_3; 종합복지관\n",
    "# D11_1_4;노인교실, D11_1_5;공공 여가문화시설, D11_1_6; 민간 문화시설\n",
    "\n",
    "senior_df['D11_1_1'].replace(2,0, inplace=True)\n",
    "senior_df['D11_1_2'].replace(2,0, inplace=True)\n",
    "senior_df['D11_1_3'].replace(2,0, inplace=True)\n",
    "senior_df['D11_1_4'].replace(2,0, inplace=True)\n",
    "senior_df['D11_1_5'].replace(2,0, inplace=True)\n",
    "senior_df['D11_1_6'].replace(2,0, inplace=True)\n",
    "\n",
    "df['활동성'] = senior_df['D11_1_1'] + senior_df['D11_1_2'] + senior_df['D11_1_3'] + senior_df['D11_1_4'] + senior_df['D11_1_5'] + senior_df['D11_1_6']"
   ]
  },
  {
   "cell_type": "code",
   "execution_count": 21,
   "id": "f5a29fe5",
   "metadata": {},
   "outputs": [
    {
     "data": {
      "text/plain": [
       "0    6248\n",
       "1    3054\n",
       "2     520\n",
       "3     197\n",
       "4      53\n",
       "5      23\n",
       "6       2\n",
       "Name: 활동성, dtype: int64"
      ]
     },
     "execution_count": 21,
     "metadata": {},
     "output_type": "execute_result"
    }
   ],
   "source": [
    "df['활동성'].value_counts()"
   ]
  },
  {
   "cell_type": "code",
   "execution_count": 22,
   "id": "11861786",
   "metadata": {},
   "outputs": [],
   "source": [
    "df['target']=senior_df['E5_1']"
   ]
  },
  {
   "cell_type": "code",
   "execution_count": 23,
   "id": "25c04d74",
   "metadata": {},
   "outputs": [
    {
     "name": "stdout",
     "output_type": "stream",
     "text": [
      "<class 'pandas.core.frame.DataFrame'>\n",
      "RangeIndex: 10097 entries, 0 to 10096\n",
      "Data columns (total 10 columns):\n",
      " #   Column  Non-Null Count  Dtype  \n",
      "---  ------  --------------  -----  \n",
      " 0   연령      10097 non-null  int64  \n",
      " 1   종교      10097 non-null  int64  \n",
      " 2   직업      10075 non-null  float64\n",
      " 3   혼인상태    10097 non-null  int64  \n",
      " 4   교육수준    10097 non-null  int32  \n",
      " 5   건강상태    10097 non-null  int32  \n",
      " 6   전체 만족도  10097 non-null  int32  \n",
      " 7   소득수준    10097 non-null  int32  \n",
      " 8   활동성     10097 non-null  int64  \n",
      " 9   target  10097 non-null  int64  \n",
      "dtypes: float64(1), int32(4), int64(5)\n",
      "memory usage: 631.2 KB\n"
     ]
    }
   ],
   "source": [
    "df.info()"
   ]
  },
  {
   "cell_type": "code",
   "execution_count": 46,
   "id": "2dd6e9a0",
   "metadata": {},
   "outputs": [
    {
     "data": {
      "text/plain": [
       "연령        0\n",
       "종교        0\n",
       "직업        1\n",
       "혼인상태      0\n",
       "교육수준      0\n",
       "건강상태      0\n",
       "전체 만족도    0\n",
       "소득수준      0\n",
       "활동성       0\n",
       "target    0\n",
       "dtype: int64"
      ]
     },
     "execution_count": 46,
     "metadata": {},
     "output_type": "execute_result"
    }
   ],
   "source": [
    "df.isna().sum()"
   ]
  },
  {
   "cell_type": "code",
   "execution_count": 55,
   "id": "fcde91e8",
   "metadata": {},
   "outputs": [
    {
     "data": {
      "text/plain": [
       "7759   NaN\n",
       "Name: 직업, dtype: float64"
      ]
     },
     "execution_count": 55,
     "metadata": {},
     "output_type": "execute_result"
    }
   ],
   "source": [
    "df['직업'][df['직업'].isna()]"
   ]
  },
  {
   "cell_type": "code",
   "execution_count": 56,
   "id": "dc078025",
   "metadata": {},
   "outputs": [],
   "source": [
    "df = df.dropna()"
   ]
  },
  {
   "cell_type": "code",
   "execution_count": 57,
   "id": "be971964",
   "metadata": {},
   "outputs": [
    {
     "name": "stdout",
     "output_type": "stream",
     "text": [
      "<class 'pandas.core.frame.DataFrame'>\n",
      "Int64Index: 2092 entries, 0 to 10071\n",
      "Data columns (total 10 columns):\n",
      " #   Column  Non-Null Count  Dtype  \n",
      "---  ------  --------------  -----  \n",
      " 0   연령      2092 non-null   int64  \n",
      " 1   종교      2092 non-null   int64  \n",
      " 2   직업      2092 non-null   float64\n",
      " 3   혼인상태    2092 non-null   int64  \n",
      " 4   교육수준    2092 non-null   int32  \n",
      " 5   건강상태    2092 non-null   int32  \n",
      " 6   전체 만족도  2092 non-null   int32  \n",
      " 7   소득수준    2092 non-null   int32  \n",
      " 8   활동성     2092 non-null   int64  \n",
      " 9   target  2092 non-null   int64  \n",
      "dtypes: float64(1), int32(4), int64(5)\n",
      "memory usage: 147.1 KB\n"
     ]
    }
   ],
   "source": [
    "d_index = df[df[\"연령\"]==999].index\n",
    "df.drop(d_index, inplace=True)\n",
    "\n",
    "d_index = df[df[\"target\"]==9].index\n",
    "df.drop(d_index, inplace=True)\n",
    "\n",
    "df.info() "
   ]
  },
  {
   "cell_type": "markdown",
   "id": "e864aa9a",
   "metadata": {},
   "source": [
    "#### XGBoost 모델 생성"
   ]
  },
  {
   "cell_type": "code",
   "execution_count": 58,
   "id": "0eae2e1a",
   "metadata": {},
   "outputs": [],
   "source": [
    "from xgboost import XGBClassifier"
   ]
  },
  {
   "cell_type": "code",
   "execution_count": 59,
   "id": "bc5f2075",
   "metadata": {},
   "outputs": [],
   "source": [
    "xgb = XGBClassifier(n_estimators=400, learning_rate=0.1, random_state=2022)"
   ]
  },
  {
   "cell_type": "code",
   "execution_count": 60,
   "id": "6d714735",
   "metadata": {},
   "outputs": [],
   "source": [
    "X_train, X_test, y_train, y_test = train_test_split(\n",
    "    df.iloc[:,:-1], df.iloc[:,-1], test_size=0.2, random_state=2022)"
   ]
  },
  {
   "cell_type": "code",
   "execution_count": 61,
   "id": "c1a7e5a1",
   "metadata": {},
   "outputs": [
    {
     "name": "stdout",
     "output_type": "stream",
     "text": [
      "[0]\tvalidation_0-merror:0.36516\n",
      "[1]\tvalidation_0-merror:0.37470\n",
      "[2]\tvalidation_0-merror:0.37948\n",
      "[3]\tvalidation_0-merror:0.37948\n",
      "[4]\tvalidation_0-merror:0.37948\n",
      "[5]\tvalidation_0-merror:0.37709\n",
      "[6]\tvalidation_0-merror:0.37709\n",
      "[7]\tvalidation_0-merror:0.37709\n",
      "[8]\tvalidation_0-merror:0.37709\n",
      "[9]\tvalidation_0-merror:0.37470\n",
      "[10]\tvalidation_0-merror:0.37470\n",
      "[11]\tvalidation_0-merror:0.37709\n",
      "[12]\tvalidation_0-merror:0.37709\n",
      "[13]\tvalidation_0-merror:0.37232\n",
      "[14]\tvalidation_0-merror:0.37470\n",
      "[15]\tvalidation_0-merror:0.37470\n",
      "[16]\tvalidation_0-merror:0.37232\n",
      "[17]\tvalidation_0-merror:0.37232\n",
      "[18]\tvalidation_0-merror:0.37232\n",
      "[19]\tvalidation_0-merror:0.36993\n",
      "[20]\tvalidation_0-merror:0.37232\n",
      "[21]\tvalidation_0-merror:0.36993\n",
      "[22]\tvalidation_0-merror:0.36754\n",
      "[23]\tvalidation_0-merror:0.36754\n",
      "[24]\tvalidation_0-merror:0.36993\n",
      "[25]\tvalidation_0-merror:0.37232\n",
      "[26]\tvalidation_0-merror:0.36993\n",
      "[27]\tvalidation_0-merror:0.37232\n",
      "[28]\tvalidation_0-merror:0.37232\n",
      "[29]\tvalidation_0-merror:0.37470\n",
      "[30]\tvalidation_0-merror:0.37232\n",
      "[31]\tvalidation_0-merror:0.37470\n",
      "[32]\tvalidation_0-merror:0.37470\n",
      "[33]\tvalidation_0-merror:0.37470\n",
      "[34]\tvalidation_0-merror:0.37470\n",
      "[35]\tvalidation_0-merror:0.37470\n",
      "[36]\tvalidation_0-merror:0.37470\n",
      "[37]\tvalidation_0-merror:0.37470\n",
      "[38]\tvalidation_0-merror:0.37709\n",
      "[39]\tvalidation_0-merror:0.37709\n",
      "[40]\tvalidation_0-merror:0.37709\n",
      "[41]\tvalidation_0-merror:0.37948\n",
      "[42]\tvalidation_0-merror:0.37948\n",
      "[43]\tvalidation_0-merror:0.37709\n",
      "[44]\tvalidation_0-merror:0.37709\n",
      "[45]\tvalidation_0-merror:0.37470\n",
      "[46]\tvalidation_0-merror:0.37709\n",
      "[47]\tvalidation_0-merror:0.37470\n",
      "[48]\tvalidation_0-merror:0.37470\n",
      "[49]\tvalidation_0-merror:0.37232\n",
      "[50]\tvalidation_0-merror:0.37232\n",
      "[51]\tvalidation_0-merror:0.36993\n",
      "[52]\tvalidation_0-merror:0.36993\n",
      "[53]\tvalidation_0-merror:0.36993\n",
      "[54]\tvalidation_0-merror:0.36993\n",
      "[55]\tvalidation_0-merror:0.37232\n",
      "[56]\tvalidation_0-merror:0.37470\n",
      "[57]\tvalidation_0-merror:0.37232\n",
      "[58]\tvalidation_0-merror:0.37232\n",
      "[59]\tvalidation_0-merror:0.37470\n",
      "[60]\tvalidation_0-merror:0.37470\n",
      "[61]\tvalidation_0-merror:0.37232\n",
      "[62]\tvalidation_0-merror:0.37232\n",
      "[63]\tvalidation_0-merror:0.37232\n",
      "[64]\tvalidation_0-merror:0.36993\n",
      "[65]\tvalidation_0-merror:0.36993\n",
      "[66]\tvalidation_0-merror:0.36993\n",
      "[67]\tvalidation_0-merror:0.36993\n",
      "[68]\tvalidation_0-merror:0.37232\n",
      "[69]\tvalidation_0-merror:0.37232\n",
      "[70]\tvalidation_0-merror:0.37232\n",
      "[71]\tvalidation_0-merror:0.37232\n",
      "[72]\tvalidation_0-merror:0.36993\n",
      "[73]\tvalidation_0-merror:0.36993\n",
      "[74]\tvalidation_0-merror:0.36993\n",
      "[75]\tvalidation_0-merror:0.36993\n",
      "[76]\tvalidation_0-merror:0.36993\n",
      "[77]\tvalidation_0-merror:0.37232\n",
      "[78]\tvalidation_0-merror:0.37232\n",
      "[79]\tvalidation_0-merror:0.37232\n",
      "[80]\tvalidation_0-merror:0.37232\n",
      "[81]\tvalidation_0-merror:0.37232\n",
      "[82]\tvalidation_0-merror:0.37470\n",
      "[83]\tvalidation_0-merror:0.37470\n",
      "[84]\tvalidation_0-merror:0.37232\n",
      "[85]\tvalidation_0-merror:0.37232\n",
      "[86]\tvalidation_0-merror:0.37232\n",
      "[87]\tvalidation_0-merror:0.37470\n",
      "[88]\tvalidation_0-merror:0.37232\n",
      "[89]\tvalidation_0-merror:0.37232\n",
      "[90]\tvalidation_0-merror:0.37232\n",
      "[91]\tvalidation_0-merror:0.37470\n",
      "[92]\tvalidation_0-merror:0.37470\n",
      "[93]\tvalidation_0-merror:0.37232\n",
      "[94]\tvalidation_0-merror:0.37232\n",
      "[95]\tvalidation_0-merror:0.37470\n",
      "[96]\tvalidation_0-merror:0.37470\n",
      "[97]\tvalidation_0-merror:0.37709\n",
      "[98]\tvalidation_0-merror:0.37470\n",
      "[99]\tvalidation_0-merror:0.37470\n",
      "[100]\tvalidation_0-merror:0.37709\n"
     ]
    },
    {
     "data": {
      "text/plain": [
       "XGBClassifier(base_score=0.5, booster='gbtree', colsample_bylevel=1,\n",
       "              colsample_bynode=1, colsample_bytree=1, enable_categorical=False,\n",
       "              gamma=0, gpu_id=-1, importance_type=None,\n",
       "              interaction_constraints='', learning_rate=0.1, max_delta_step=0,\n",
       "              max_depth=6, min_child_weight=1, missing=nan,\n",
       "              monotone_constraints='()', n_estimators=400, n_jobs=4,\n",
       "              num_parallel_tree=1, objective='multi:softprob', predictor='auto',\n",
       "              random_state=2022, reg_alpha=0, reg_lambda=1,\n",
       "              scale_pos_weight=None, subsample=1, tree_method='exact',\n",
       "              validate_parameters=1, verbosity=None)"
      ]
     },
     "execution_count": 61,
     "metadata": {},
     "output_type": "execute_result"
    }
   ],
   "source": [
    "evals = [(X_test, y_test)]\n",
    "xgb.fit(X_train, y_train, early_stopping_rounds = 100, eval_metric='merror', eval_set=evals , verbose=True)"
   ]
  },
  {
   "cell_type": "code",
   "execution_count": 63,
   "id": "6594e7ce",
   "metadata": {
    "scrolled": true
   },
   "outputs": [
    {
     "data": {
      "text/plain": [
       "array([1, 1, 1, 1, 2, 1, 1, 1, 1, 1, 1, 1, 1, 1, 1, 1, 1, 1, 1, 1, 1, 1,\n",
       "       1, 1, 1, 1, 3, 1, 1, 1, 3, 1, 1, 1, 1, 1, 1, 1, 1, 1, 1, 1, 1, 1,\n",
       "       1, 2, 1, 1, 1, 1, 2, 1, 1, 1, 1, 1, 4, 1, 1, 1, 1, 1, 1, 1, 1, 1,\n",
       "       1, 1, 1, 1, 1, 1, 1, 1, 4, 1, 1, 1, 1, 1, 1, 3, 1, 1, 1, 1, 1, 1,\n",
       "       1, 1, 1, 1, 1, 1, 1, 1, 1, 1, 1, 1, 1, 1, 1, 5, 3, 3, 1, 1, 1, 1,\n",
       "       4, 1, 1, 1, 1, 1, 1, 1, 1, 1, 1, 1, 1, 1, 1, 1, 1, 1, 1, 1, 3, 1,\n",
       "       4, 1, 4, 2, 1, 2, 1, 1, 1, 1, 1, 1, 1, 1, 1, 1, 1, 1, 1, 1, 2, 1,\n",
       "       1, 1, 1, 1, 1, 1, 1, 1, 1, 1, 1, 1, 1, 1, 1, 1, 1, 1, 1, 1, 1, 1,\n",
       "       1, 1, 1, 1, 1, 1, 1, 1, 1, 1, 1, 1, 1, 1, 1, 1, 1, 1, 1, 1, 1, 1,\n",
       "       1, 1, 1, 1, 1, 1, 1, 1, 1, 1, 1, 1, 1, 1, 1, 4, 1, 1, 1, 1, 1, 4,\n",
       "       1, 5, 4, 1, 1, 5, 1, 1, 1, 1, 1, 1, 1, 1, 1, 1, 1, 1, 1, 1, 1, 1,\n",
       "       1, 1, 1, 1, 1, 1, 1, 1, 1, 1, 1, 1, 1, 1, 1, 1, 1, 1, 1, 1, 1, 1,\n",
       "       1, 1, 5, 2, 1, 2, 1, 1, 1, 1, 1, 1, 1, 1, 1, 1, 1, 3, 1, 1, 1, 1,\n",
       "       1, 1, 1, 1, 1, 4, 1, 1, 1, 1, 1, 1, 1, 1, 1, 1, 1, 1, 1, 1, 1, 1,\n",
       "       1, 1, 1, 1, 1, 1, 1, 1, 1, 1, 1, 1, 1, 4, 1, 1, 1, 1, 1, 1, 1, 1,\n",
       "       1, 1, 1, 1, 1, 1, 1, 1, 1, 1, 1, 1, 1, 1, 1, 1, 1, 1, 1, 1, 1, 1,\n",
       "       3, 1, 1, 1, 4, 1, 1, 1, 1, 1, 1, 1, 5, 1, 1, 1, 1, 1, 1, 1, 1, 1,\n",
       "       1, 1, 1, 1, 1, 1, 1, 1, 2, 1, 1, 1, 1, 1, 1, 3, 1, 1, 1, 1, 1, 1,\n",
       "       1, 1, 1, 1, 1, 1, 1, 1, 1, 1, 1, 1, 1, 1, 1, 1, 1, 1, 3, 1, 1, 1,\n",
       "       1], dtype=int64)"
      ]
     },
     "execution_count": 63,
     "metadata": {},
     "output_type": "execute_result"
    }
   ],
   "source": [
    "predict_test = xgb.predict(X_test)\n",
    "predict_test"
   ]
  },
  {
   "cell_type": "code",
   "execution_count": 64,
   "id": "bd896022",
   "metadata": {},
   "outputs": [
    {
     "data": {
      "text/plain": [
       "{'연령': 4069.0,\n",
       " '종교': 2106.0,\n",
       " '직업': 1849.0,\n",
       " '혼인상태': 1015.0,\n",
       " '교육수준': 1182.0,\n",
       " '건강상태': 496.0,\n",
       " '전체 만족도': 703.0,\n",
       " '소득수준': 1197.0,\n",
       " '활동성': 1528.0}"
      ]
     },
     "execution_count": 64,
     "metadata": {},
     "output_type": "execute_result"
    }
   ],
   "source": [
    "fscore = xgb.get_booster().get_fscore()\n",
    "fscore"
   ]
  },
  {
   "cell_type": "code",
   "execution_count": 65,
   "id": "cbcc8cab",
   "metadata": {},
   "outputs": [
    {
     "data": {
      "text/plain": [
       "0.6348448687350835"
      ]
     },
     "execution_count": 65,
     "metadata": {},
     "output_type": "execute_result"
    }
   ],
   "source": [
    "xgb.score(X_test, y_test)"
   ]
  },
  {
   "cell_type": "code",
   "execution_count": 67,
   "id": "0b61b148",
   "metadata": {},
   "outputs": [
    {
     "data": {
      "text/plain": [
       "<AxesSubplot:title={'center':'Feature importance'}, xlabel='F score', ylabel='Features'>"
      ]
     },
     "execution_count": 67,
     "metadata": {},
     "output_type": "execute_result"
    },
    {
     "data": {
      "image/png": "[encoded data removed]",
      "text/plain": [
       "<Figure size 432x288 with 1 Axes>"
      ]
     },
     "metadata": {
      "needs_background": "light"
     },
     "output_type": "display_data"
    }
   ],
   "source": [
    "from xgboost import plot_importance\n",
    "import matplotlib\n",
    "matplotlib.rcParams['font.family'] ='Malgun Gothic'\n",
    "matplotlib.rcParams['axes.unicode_minus'] =False\n",
    "\n",
    "plot_importance(xgb)"
   ]
  },
  {
   "cell_type": "markdown",
   "id": "53b873e4",
   "metadata": {},
   "source": [
    "#### 하이퍼파라미터 튜닝"
   ]
  },
  {
   "cell_type": "code",
   "execution_count": 33,
   "id": "59d6cddc",
   "metadata": {},
   "outputs": [],
   "source": [
    "# !pip install bayesian-optimization"
   ]
  },
  {
   "cell_type": "code",
   "execution_count": 68,
   "id": "83c757e6",
   "metadata": {},
   "outputs": [],
   "source": [
    "from bayes_opt import BayesianOptimization\n",
    "\n",
    "pbounds = {'max_depth': (3, 7),\n",
    "                'learning_rate': (0.1, 0.3),\n",
    "                'n_estimators': (500, 1000),\n",
    "                'gamma': (0, 10),\n",
    "                'min_child_weight': (0, 1),\n",
    "                'subsample': (0.5, 1)\n",
    "          }"
   ]
  },
  {
   "cell_type": "code",
   "execution_count": 69,
   "id": "f4ff4eb7",
   "metadata": {},
   "outputs": [],
   "source": [
    "def XGB_cv(max_depth,learning_rate, n_estimators, gamma\n",
    "             ,min_child_weight, subsample):\n",
    "    \n",
    "    model = XGBClassifier(max_depth=int(max_depth),\n",
    "                            learning_rate=learning_rate,\n",
    "                            n_estimators=int(n_estimators),\n",
    "                            gamma=gamma,\n",
    "                            min_child_weight=min_child_weight,\n",
    "                            subsample=subsample,\n",
    "                            ramdom_state=2022)\n",
    "    \n",
    "    X_train, X_test, y_train, y_test = train_test_split(\n",
    "        df.iloc[:,:-1], df.iloc[:,-1], test_size=0.2, random_state=2022)\n",
    "    \n",
    "    model.fit(X_train, y_train, eval_metric='merror')\n",
    "    score = model.score(X_test, y_test)\n",
    "    \n",
    "    return score"
   ]
  },
  {
   "cell_type": "code",
   "execution_count": 70,
   "id": "8cf521a7",
   "metadata": {},
   "outputs": [],
   "source": [
    "# Bayesian optimization 객체 생성\n",
    "\n",
    "bo=BayesianOptimization(f=XGB_cv, pbounds=pbounds)"
   ]
  },
  {
   "cell_type": "code",
   "execution_count": 71,
   "id": "89baec75",
   "metadata": {},
   "outputs": [
    {
     "name": "stdout",
     "output_type": "stream",
     "text": [
      "|   iter    |  target   |   gamma   | learni... | max_depth | min_ch... | n_esti... | subsample |\n",
      "-------------------------------------------------------------------------------------------------\n",
      "[16:31:17] WARNING: ..\\src\\learner.cc:576: \n",
      "Parameters: { \"ramdom_state\" } might not be used.\n",
      "\n",
      "  This could be a false alarm, with some parameters getting used by language bindings but\n",
      "  then being mistakenly passed down to XGBoost core, or some parameter actually being used\n",
      "  but getting flagged wrongly here. Please open an issue if you find any such cases.\n",
      "\n",
      "\n",
      "| \u001b[0m 1       \u001b[0m | \u001b[0m 0.5609  \u001b[0m | \u001b[0m 0.4977  \u001b[0m | \u001b[0m 0.1319  \u001b[0m | \u001b[0m 6.988   \u001b[0m | \u001b[0m 0.07938 \u001b[0m | \u001b[0m 953.1   \u001b[0m | \u001b[0m 0.8294  \u001b[0m |\n",
      "[16:31:25] WARNING: ..\\src\\learner.cc:576: \n",
      "Parameters: { \"ramdom_state\" } might not be used.\n",
      "\n",
      "  This could be a false alarm, with some parameters getting used by language bindings but\n",
      "  then being mistakenly passed down to XGBoost core, or some parameter actually being used\n",
      "  but getting flagged wrongly here. Please open an issue if you find any such cases.\n",
      "\n",
      "\n",
      "| \u001b[95m 2       \u001b[0m | \u001b[95m 0.6396  \u001b[0m | \u001b[95m 2.995   \u001b[0m | \u001b[95m 0.1697  \u001b[0m | \u001b[95m 6.938   \u001b[0m | \u001b[95m 0.08717 \u001b[0m | \u001b[95m 920.5   \u001b[0m | \u001b[95m 0.9987  \u001b[0m |\n",
      "[16:31:33] WARNING: ..\\src\\learner.cc:576: \n",
      "Parameters: { \"ramdom_state\" } might not be used.\n",
      "\n",
      "  This could be a false alarm, with some parameters getting used by language bindings but\n",
      "  then being mistakenly passed down to XGBoost core, or some parameter actually being used\n",
      "  but getting flagged wrongly here. Please open an issue if you find any such cases.\n",
      "\n",
      "\n",
      "| \u001b[0m 3       \u001b[0m | \u001b[0m 0.6396  \u001b[0m | \u001b[0m 2.859   \u001b[0m | \u001b[0m 0.2205  \u001b[0m | \u001b[0m 6.87    \u001b[0m | \u001b[0m 0.6611  \u001b[0m | \u001b[0m 921.4   \u001b[0m | \u001b[0m 0.8666  \u001b[0m |\n",
      "[16:31:41] WARNING: ..\\src\\learner.cc:576: \n",
      "Parameters: { \"ramdom_state\" } might not be used.\n",
      "\n",
      "  This could be a false alarm, with some parameters getting used by language bindings but\n",
      "  then being mistakenly passed down to XGBoost core, or some parameter actually being used\n",
      "  but getting flagged wrongly here. Please open an issue if you find any such cases.\n",
      "\n",
      "\n",
      "| \u001b[0m 4       \u001b[0m | \u001b[0m 0.6158  \u001b[0m | \u001b[0m 2.365   \u001b[0m | \u001b[0m 0.3     \u001b[0m | \u001b[0m 3.0     \u001b[0m | \u001b[0m 1.0     \u001b[0m | \u001b[0m 894.6   \u001b[0m | \u001b[0m 0.5     \u001b[0m |\n",
      "[16:31:45] WARNING: ..\\src\\learner.cc:576: \n",
      "Parameters: { \"ramdom_state\" } might not be used.\n",
      "\n",
      "  This could be a false alarm, with some parameters getting used by language bindings but\n",
      "  then being mistakenly passed down to XGBoost core, or some parameter actually being used\n",
      "  but getting flagged wrongly here. Please open an issue if you find any such cases.\n",
      "\n",
      "\n",
      "| \u001b[0m 5       \u001b[0m | \u001b[0m 0.6396  \u001b[0m | \u001b[0m 4.242   \u001b[0m | \u001b[0m 0.2651  \u001b[0m | \u001b[0m 3.57    \u001b[0m | \u001b[0m 0.4539  \u001b[0m | \u001b[0m 500.2   \u001b[0m | \u001b[0m 0.9984  \u001b[0m |\n",
      "[16:31:48] WARNING: ..\\src\\learner.cc:576: \n",
      "Parameters: { \"ramdom_state\" } might not be used.\n",
      "\n",
      "  This could be a false alarm, with some parameters getting used by language bindings but\n",
      "  then being mistakenly passed down to XGBoost core, or some parameter actually being used\n",
      "  but getting flagged wrongly here. Please open an issue if you find any such cases.\n",
      "\n",
      "\n",
      "| \u001b[95m 6       \u001b[0m | \u001b[95m 0.642   \u001b[0m | \u001b[95m 8.447   \u001b[0m | \u001b[95m 0.1297  \u001b[0m | \u001b[95m 4.535   \u001b[0m | \u001b[95m 0.3332  \u001b[0m | \u001b[95m 519.3   \u001b[0m | \u001b[95m 0.8045  \u001b[0m |\n",
      "[16:31:51] WARNING: ..\\src\\learner.cc:576: \n",
      "Parameters: { \"ramdom_state\" } might not be used.\n",
      "\n",
      "  This could be a false alarm, with some parameters getting used by language bindings but\n",
      "  then being mistakenly passed down to XGBoost core, or some parameter actually being used\n",
      "  but getting flagged wrongly here. Please open an issue if you find any such cases.\n",
      "\n",
      "\n",
      "| \u001b[0m 7       \u001b[0m | \u001b[0m 0.6038  \u001b[0m | \u001b[0m 0.3921  \u001b[0m | \u001b[0m 0.2468  \u001b[0m | \u001b[0m 3.905   \u001b[0m | \u001b[0m 0.1403  \u001b[0m | \u001b[0m 542.0   \u001b[0m | \u001b[0m 0.9444  \u001b[0m |\n",
      "[16:31:54] WARNING: ..\\src\\learner.cc:576: \n",
      "Parameters: { \"ramdom_state\" } might not be used.\n",
      "\n",
      "  This could be a false alarm, with some parameters getting used by language bindings but\n",
      "  then being mistakenly passed down to XGBoost core, or some parameter actually being used\n",
      "  but getting flagged wrongly here. Please open an issue if you find any such cases.\n",
      "\n",
      "\n",
      "| \u001b[0m 8       \u001b[0m | \u001b[0m 0.5322  \u001b[0m | \u001b[0m 0.4282  \u001b[0m | \u001b[0m 0.1334  \u001b[0m | \u001b[0m 6.028   \u001b[0m | \u001b[0m 0.6451  \u001b[0m | \u001b[0m 510.8   \u001b[0m | \u001b[0m 0.5946  \u001b[0m |\n",
      "[16:31:58] WARNING: ..\\src\\learner.cc:576: \n",
      "Parameters: { \"ramdom_state\" } might not be used.\n",
      "\n",
      "  This could be a false alarm, with some parameters getting used by language bindings but\n",
      "  then being mistakenly passed down to XGBoost core, or some parameter actually being used\n",
      "  but getting flagged wrongly here. Please open an issue if you find any such cases.\n",
      "\n",
      "\n",
      "| \u001b[0m 9       \u001b[0m | \u001b[0m 0.642   \u001b[0m | \u001b[0m 9.941   \u001b[0m | \u001b[0m 0.2616  \u001b[0m | \u001b[0m 3.627   \u001b[0m | \u001b[0m 0.01854 \u001b[0m | \u001b[0m 523.2   \u001b[0m | \u001b[0m 0.8772  \u001b[0m |\n",
      "[16:32:01] WARNING: ..\\src\\learner.cc:576: \n",
      "Parameters: { \"ramdom_state\" } might not be used.\n",
      "\n",
      "  This could be a false alarm, with some parameters getting used by language bindings but\n",
      "  then being mistakenly passed down to XGBoost core, or some parameter actually being used\n",
      "  but getting flagged wrongly here. Please open an issue if you find any such cases.\n",
      "\n",
      "\n",
      "| \u001b[0m 10      \u001b[0m | \u001b[0m 0.642   \u001b[0m | \u001b[0m 6.634   \u001b[0m | \u001b[0m 0.1     \u001b[0m | \u001b[0m 7.0     \u001b[0m | \u001b[0m 1.0     \u001b[0m | \u001b[0m 523.9   \u001b[0m | \u001b[0m 0.5     \u001b[0m |\n",
      "[16:32:07] WARNING: ..\\src\\learner.cc:576: \n",
      "Parameters: { \"ramdom_state\" } might not be used.\n",
      "\n",
      "  This could be a false alarm, with some parameters getting used by language bindings but\n",
      "  then being mistakenly passed down to XGBoost core, or some parameter actually being used\n",
      "  but getting flagged wrongly here. Please open an issue if you find any such cases.\n",
      "\n",
      "\n",
      "| \u001b[0m 11      \u001b[0m | \u001b[0m 0.642   \u001b[0m | \u001b[0m 9.748   \u001b[0m | \u001b[0m 0.2061  \u001b[0m | \u001b[0m 4.491   \u001b[0m | \u001b[0m 0.2788  \u001b[0m | \u001b[0m 500.5   \u001b[0m | \u001b[0m 0.8604  \u001b[0m |\n",
      "[16:32:10] WARNING: ..\\src\\learner.cc:576: \n",
      "Parameters: { \"ramdom_state\" } might not be used.\n",
      "\n",
      "  This could be a false alarm, with some parameters getting used by language bindings but\n",
      "  then being mistakenly passed down to XGBoost core, or some parameter actually being used\n",
      "  but getting flagged wrongly here. Please open an issue if you find any such cases.\n",
      "\n",
      "\n",
      "| \u001b[0m 12      \u001b[0m | \u001b[0m 0.642   \u001b[0m | \u001b[0m 10.0    \u001b[0m | \u001b[0m 0.3     \u001b[0m | \u001b[0m 3.0     \u001b[0m | \u001b[0m 1.0     \u001b[0m | \u001b[0m 921.2   \u001b[0m | \u001b[0m 0.5     \u001b[0m |\n",
      "=================================================================================================\n",
      "{'target': 0.6420047732696897, 'params': {'gamma': 8.447324944211973, 'learning_rate': 0.12967091828772725, 'max_depth': 4.535035974389643, 'min_child_weight': 0.33320279959156474, 'n_estimators': 519.2809263252749, 'subsample': 0.8045370407086871}}\n"
     ]
    }
   ],
   "source": [
    "# 메소드를 이용해 최대화 과정 수행\n",
    "# init_points :  초기 Random Search 갯수\n",
    "# n_iter : 반복 횟수 (몇개의 입력값-함숫값 점들을 확인할지! 많을 수록 정확한 값을 얻을 수 있다.)\n",
    "# acq : Acquisition Function들 중 Expected Improvement(EI) 를 사용\n",
    "# xi : exploration 강도 (기본값은 0.0)\n",
    "\n",
    "bo.maximize(init_points=2, n_iter=10, acq='ei', xi=0.01)\n",
    "print(bo.max)"
   ]
  },
  {
   "cell_type": "code",
   "execution_count": 72,
   "id": "bc503470",
   "metadata": {
    "scrolled": true
   },
   "outputs": [
    {
     "name": "stdout",
     "output_type": "stream",
     "text": [
      "[0]\tvalidation_0-merror:0.36754\n",
      "[1]\tvalidation_0-merror:0.36277\n",
      "[2]\tvalidation_0-merror:0.36277\n",
      "[3]\tvalidation_0-merror:0.36277\n",
      "[4]\tvalidation_0-merror:0.36277\n",
      "[5]\tvalidation_0-merror:0.36038\n",
      "[6]\tvalidation_0-merror:0.36038\n",
      "[7]\tvalidation_0-merror:0.36038\n",
      "[8]\tvalidation_0-merror:0.35561\n",
      "[9]\tvalidation_0-merror:0.35800\n",
      "[10]\tvalidation_0-merror:0.35800\n",
      "[11]\tvalidation_0-merror:0.35800\n",
      "[12]\tvalidation_0-merror:0.35800\n",
      "[13]\tvalidation_0-merror:0.36277\n",
      "[14]\tvalidation_0-merror:0.36277\n",
      "[15]\tvalidation_0-merror:0.36277\n",
      "[16]\tvalidation_0-merror:0.36038\n",
      "[17]\tvalidation_0-merror:0.36038\n",
      "[18]\tvalidation_0-merror:0.36277\n",
      "[19]\tvalidation_0-merror:0.36038\n",
      "[20]\tvalidation_0-merror:0.36038\n",
      "[21]\tvalidation_0-merror:0.35800\n",
      "[22]\tvalidation_0-merror:0.35800\n",
      "[23]\tvalidation_0-merror:0.35800\n",
      "[24]\tvalidation_0-merror:0.36516\n",
      "[25]\tvalidation_0-merror:0.36277\n",
      "[26]\tvalidation_0-merror:0.36277\n",
      "[27]\tvalidation_0-merror:0.36038\n",
      "[28]\tvalidation_0-merror:0.36038\n",
      "[29]\tvalidation_0-merror:0.36038\n",
      "[30]\tvalidation_0-merror:0.36038\n",
      "[31]\tvalidation_0-merror:0.36038\n",
      "[32]\tvalidation_0-merror:0.36038\n",
      "[33]\tvalidation_0-merror:0.36038\n",
      "[34]\tvalidation_0-merror:0.36038\n",
      "[35]\tvalidation_0-merror:0.36038\n",
      "[36]\tvalidation_0-merror:0.36038\n",
      "[37]\tvalidation_0-merror:0.36038\n",
      "[38]\tvalidation_0-merror:0.36038\n",
      "[39]\tvalidation_0-merror:0.36038\n",
      "[40]\tvalidation_0-merror:0.36038\n",
      "[41]\tvalidation_0-merror:0.36038\n",
      "[42]\tvalidation_0-merror:0.36038\n",
      "[43]\tvalidation_0-merror:0.36038\n",
      "[44]\tvalidation_0-merror:0.36038\n",
      "[45]\tvalidation_0-merror:0.36038\n",
      "[46]\tvalidation_0-merror:0.36038\n",
      "[47]\tvalidation_0-merror:0.36038\n",
      "[48]\tvalidation_0-merror:0.36038\n",
      "[49]\tvalidation_0-merror:0.36038\n",
      "[50]\tvalidation_0-merror:0.36038\n",
      "[51]\tvalidation_0-merror:0.36038\n",
      "[52]\tvalidation_0-merror:0.36038\n",
      "[53]\tvalidation_0-merror:0.36038\n",
      "[54]\tvalidation_0-merror:0.36038\n",
      "[55]\tvalidation_0-merror:0.36038\n",
      "[56]\tvalidation_0-merror:0.36038\n",
      "[57]\tvalidation_0-merror:0.36038\n",
      "[58]\tvalidation_0-merror:0.36038\n",
      "[59]\tvalidation_0-merror:0.36038\n",
      "[60]\tvalidation_0-merror:0.36038\n",
      "[61]\tvalidation_0-merror:0.36038\n",
      "[62]\tvalidation_0-merror:0.36038\n",
      "[63]\tvalidation_0-merror:0.36038\n",
      "[64]\tvalidation_0-merror:0.36038\n",
      "[65]\tvalidation_0-merror:0.36038\n",
      "[66]\tvalidation_0-merror:0.36038\n",
      "[67]\tvalidation_0-merror:0.36038\n",
      "[68]\tvalidation_0-merror:0.36038\n",
      "[69]\tvalidation_0-merror:0.36038\n",
      "[70]\tvalidation_0-merror:0.36038\n",
      "[71]\tvalidation_0-merror:0.36038\n",
      "[72]\tvalidation_0-merror:0.36038\n",
      "[73]\tvalidation_0-merror:0.36038\n",
      "[74]\tvalidation_0-merror:0.36038\n",
      "[75]\tvalidation_0-merror:0.36038\n",
      "[76]\tvalidation_0-merror:0.36038\n",
      "[77]\tvalidation_0-merror:0.36038\n",
      "[78]\tvalidation_0-merror:0.36038\n",
      "[79]\tvalidation_0-merror:0.36038\n",
      "[80]\tvalidation_0-merror:0.36038\n",
      "[81]\tvalidation_0-merror:0.36038\n",
      "[82]\tvalidation_0-merror:0.36038\n",
      "[83]\tvalidation_0-merror:0.36038\n",
      "[84]\tvalidation_0-merror:0.35800\n",
      "[85]\tvalidation_0-merror:0.35800\n",
      "[86]\tvalidation_0-merror:0.35800\n",
      "[87]\tvalidation_0-merror:0.35800\n",
      "[88]\tvalidation_0-merror:0.35561\n",
      "[89]\tvalidation_0-merror:0.35561\n",
      "[90]\tvalidation_0-merror:0.35561\n",
      "[91]\tvalidation_0-merror:0.35561\n",
      "[92]\tvalidation_0-merror:0.35561\n",
      "[93]\tvalidation_0-merror:0.35561\n",
      "[94]\tvalidation_0-merror:0.35561\n",
      "[95]\tvalidation_0-merror:0.35561\n",
      "[96]\tvalidation_0-merror:0.35561\n",
      "[97]\tvalidation_0-merror:0.35561\n",
      "[98]\tvalidation_0-merror:0.35561\n",
      "[99]\tvalidation_0-merror:0.35561\n",
      "[100]\tvalidation_0-merror:0.35561\n",
      "[101]\tvalidation_0-merror:0.35561\n",
      "[102]\tvalidation_0-merror:0.35800\n",
      "[103]\tvalidation_0-merror:0.35561\n",
      "[104]\tvalidation_0-merror:0.35322\n",
      "[105]\tvalidation_0-merror:0.35322\n",
      "[106]\tvalidation_0-merror:0.35322\n",
      "[107]\tvalidation_0-merror:0.35322\n",
      "[108]\tvalidation_0-merror:0.35561\n",
      "[109]\tvalidation_0-merror:0.35322\n",
      "[110]\tvalidation_0-merror:0.35322\n",
      "[111]\tvalidation_0-merror:0.35322\n",
      "[112]\tvalidation_0-merror:0.35322\n",
      "[113]\tvalidation_0-merror:0.35322\n",
      "[114]\tvalidation_0-merror:0.35322\n",
      "[115]\tvalidation_0-merror:0.35322\n",
      "[116]\tvalidation_0-merror:0.35322\n",
      "[117]\tvalidation_0-merror:0.35084\n",
      "[118]\tvalidation_0-merror:0.35322\n",
      "[119]\tvalidation_0-merror:0.35322\n",
      "[120]\tvalidation_0-merror:0.35322\n",
      "[121]\tvalidation_0-merror:0.35084\n",
      "[122]\tvalidation_0-merror:0.35322\n",
      "[123]\tvalidation_0-merror:0.35322\n",
      "[124]\tvalidation_0-merror:0.35322\n",
      "[125]\tvalidation_0-merror:0.35322\n",
      "[126]\tvalidation_0-merror:0.35322\n",
      "[127]\tvalidation_0-merror:0.35322\n",
      "[128]\tvalidation_0-merror:0.35322\n",
      "[129]\tvalidation_0-merror:0.35084\n",
      "[130]\tvalidation_0-merror:0.35084\n",
      "[131]\tvalidation_0-merror:0.35322\n",
      "[132]\tvalidation_0-merror:0.35322\n",
      "[133]\tvalidation_0-merror:0.35322\n",
      "[134]\tvalidation_0-merror:0.35322\n",
      "[135]\tvalidation_0-merror:0.35322\n",
      "[136]\tvalidation_0-merror:0.35322\n",
      "[137]\tvalidation_0-merror:0.35322\n",
      "[138]\tvalidation_0-merror:0.35322\n",
      "[139]\tvalidation_0-merror:0.35322\n",
      "[140]\tvalidation_0-merror:0.35322\n",
      "[141]\tvalidation_0-merror:0.35561\n",
      "[142]\tvalidation_0-merror:0.35561\n",
      "[143]\tvalidation_0-merror:0.35561\n",
      "[144]\tvalidation_0-merror:0.35561\n",
      "[145]\tvalidation_0-merror:0.35561\n",
      "[146]\tvalidation_0-merror:0.35561\n",
      "[147]\tvalidation_0-merror:0.35561\n",
      "[148]\tvalidation_0-merror:0.35561\n",
      "[149]\tvalidation_0-merror:0.35561\n",
      "[150]\tvalidation_0-merror:0.35561\n",
      "[151]\tvalidation_0-merror:0.35561\n",
      "[152]\tvalidation_0-merror:0.35561\n",
      "[153]\tvalidation_0-merror:0.35561\n",
      "[154]\tvalidation_0-merror:0.35561\n",
      "[155]\tvalidation_0-merror:0.35561\n",
      "[156]\tvalidation_0-merror:0.35561\n",
      "[157]\tvalidation_0-merror:0.35561\n",
      "[158]\tvalidation_0-merror:0.35561\n",
      "[159]\tvalidation_0-merror:0.35561\n",
      "[160]\tvalidation_0-merror:0.35561\n",
      "[161]\tvalidation_0-merror:0.35561\n",
      "[162]\tvalidation_0-merror:0.35561\n",
      "[163]\tvalidation_0-merror:0.35561\n",
      "[164]\tvalidation_0-merror:0.35800\n",
      "[165]\tvalidation_0-merror:0.35561\n",
      "[166]\tvalidation_0-merror:0.35561\n",
      "[167]\tvalidation_0-merror:0.35561\n",
      "[168]\tvalidation_0-merror:0.35561\n",
      "[169]\tvalidation_0-merror:0.35561\n",
      "[170]\tvalidation_0-merror:0.35561\n",
      "[171]\tvalidation_0-merror:0.35561\n",
      "[172]\tvalidation_0-merror:0.35561\n",
      "[173]\tvalidation_0-merror:0.35561\n",
      "[174]\tvalidation_0-merror:0.35561\n",
      "[175]\tvalidation_0-merror:0.35561\n",
      "[176]\tvalidation_0-merror:0.35561\n",
      "[177]\tvalidation_0-merror:0.35561\n",
      "[178]\tvalidation_0-merror:0.35561\n",
      "[179]\tvalidation_0-merror:0.35561\n",
      "[180]\tvalidation_0-merror:0.35561\n",
      "[181]\tvalidation_0-merror:0.35561\n",
      "[182]\tvalidation_0-merror:0.35800\n",
      "[183]\tvalidation_0-merror:0.35561\n",
      "[184]\tvalidation_0-merror:0.35561\n",
      "[185]\tvalidation_0-merror:0.35561\n",
      "[186]\tvalidation_0-merror:0.35561\n",
      "[187]\tvalidation_0-merror:0.35561\n",
      "[188]\tvalidation_0-merror:0.35800\n",
      "[189]\tvalidation_0-merror:0.35561\n",
      "[190]\tvalidation_0-merror:0.35561\n",
      "[191]\tvalidation_0-merror:0.35561\n",
      "[192]\tvalidation_0-merror:0.35561\n",
      "[193]\tvalidation_0-merror:0.35561\n",
      "[194]\tvalidation_0-merror:0.35561\n",
      "[195]\tvalidation_0-merror:0.35561\n",
      "[196]\tvalidation_0-merror:0.35800\n",
      "[197]\tvalidation_0-merror:0.35800\n",
      "[198]\tvalidation_0-merror:0.35800\n",
      "[199]\tvalidation_0-merror:0.35800\n",
      "[200]\tvalidation_0-merror:0.35800\n",
      "[201]\tvalidation_0-merror:0.35800\n",
      "[202]\tvalidation_0-merror:0.35800\n",
      "[203]\tvalidation_0-merror:0.35800\n",
      "[204]\tvalidation_0-merror:0.35800\n",
      "[205]\tvalidation_0-merror:0.35800\n",
      "[206]\tvalidation_0-merror:0.35800\n",
      "[207]\tvalidation_0-merror:0.35800\n",
      "[208]\tvalidation_0-merror:0.35800\n",
      "[209]\tvalidation_0-merror:0.35800\n",
      "[210]\tvalidation_0-merror:0.35800\n",
      "[211]\tvalidation_0-merror:0.35800\n",
      "[212]\tvalidation_0-merror:0.35800\n",
      "[213]\tvalidation_0-merror:0.35800\n",
      "[214]\tvalidation_0-merror:0.35800\n",
      "[215]\tvalidation_0-merror:0.35800\n",
      "[216]\tvalidation_0-merror:0.35800\n",
      "[217]\tvalidation_0-merror:0.35800\n"
     ]
    },
    {
     "data": {
      "text/plain": [
       "0.649164677804296"
      ]
     },
     "execution_count": 72,
     "metadata": {},
     "output_type": "execute_result"
    }
   ],
   "source": [
    "xgb_tune =XGBClassifier(gamma = 3.250759007130376,\n",
    "                        learning_rate = 0.16582652863656727,\n",
    "                        max_depth = 5, \n",
    "                        min_child_weight = 0.6076100653159745,\n",
    "                        n_estimators = 808, \n",
    "                        subsample = 0.7850592982695779)\n",
    "xgb_tune.fit(X_train, y_train, early_stopping_rounds = 100, eval_metric='merror', eval_set=evals , verbose=True)\n",
    "xgb_tune.score(X_test, y_test)"
   ]
  },
  {
   "cell_type": "code",
   "execution_count": 79,
   "id": "5e7e4bb8",
   "metadata": {},
   "outputs": [
    {
     "data": {
      "text/plain": [
       "0.6348448687350835"
      ]
     },
     "execution_count": 79,
     "metadata": {},
     "output_type": "execute_result"
    }
   ],
   "source": [
    "from sklearn.metrics import accuracy_score\n",
    "accuracy_score(y_test, xgb.predict(X_test))"
   ]
  },
  {
   "cell_type": "code",
   "execution_count": 80,
   "id": "79917355",
   "metadata": {},
   "outputs": [
    {
     "data": {
      "text/plain": [
       "0.649164677804296"
      ]
     },
     "execution_count": 80,
     "metadata": {},
     "output_type": "execute_result"
    }
   ],
   "source": [
    "accuracy_score(y_test, xgb_tune.predict(X_test))"
   ]
  },
  {
   "cell_type": "markdown",
   "id": "f06be82b",
   "metadata": {},
   "source": [
    "#### 에러 측정"
   ]
  },
  {
   "cell_type": "code",
   "execution_count": 86,
   "id": "687f8e43",
   "metadata": {},
   "outputs": [],
   "source": [
    "predict_test_tune = xgb_tune.predict(X_test)"
   ]
  },
  {
   "cell_type": "code",
   "execution_count": 87,
   "id": "3ae139b3",
   "metadata": {},
   "outputs": [],
   "source": [
    "mse = mean_squared_error(y_test, predict_test)\n",
    "mse_tune = mean_squared_error(y_test, predict_test_tune)\n",
    "\n",
    "r2 = r2_score(y_test, predict_test)\n",
    "r2_tune = r2_score(y_test, predict_test_tune)"
   ]
  },
  {
   "cell_type": "code",
   "execution_count": 88,
   "id": "a5db02c4",
   "metadata": {},
   "outputs": [
    {
     "name": "stdout",
     "output_type": "stream",
     "text": [
      "Mean squared error:  2.4749403341288785 / 2.4821002386634845\n",
      "R2 score:  -0.3432061134777207 / -0.34709195565750206\n"
     ]
    }
   ],
   "source": [
    "print('Mean squared error: ', mse ,'/', mse_tune)\n",
    "print('R2 score: ', r2 ,'/', r2_tune)"
   ]
  },
  {
   "cell_type": "code",
   "execution_count": 89,
   "id": "23cd524f",
   "metadata": {},
   "outputs": [],
   "source": [
    "# 전처리한 데이터 csv로 저장\n",
    "df.to_csv(\"./processed_df.csv\", index=False)"
   ]
  },
  {
   "cell_type": "code",
   "execution_count": null,
   "id": "1bd64c80",
   "metadata": {},
   "outputs": [],
   "source": []
  }
 ],
 "metadata": {
  "kernelspec": {
   "display_name": "Python 3 (ipykernel)",
   "language": "python",
   "name": "python3"
  },
  "language_info": {
   "codemirror_mode": {
    "name": "ipython",
    "version": 3
   },
   "file_extension": ".py",
   "mimetype": "text/x-python",
   "name": "python",
   "nbconvert_exporter": "python",
   "pygments_lexer": "ipython3",
   "version": "3.9.7"
  }
 },
 "nbformat": 4,
 "nbformat_minor": 5
}
