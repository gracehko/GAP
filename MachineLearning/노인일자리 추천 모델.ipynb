{
 "cells": [
  {
   "cell_type": "code",
   "execution_count": 1,
   "id": "d812bfa1",
   "metadata": {},
   "outputs": [],
   "source": [
    "import pandas as pd\n",
    "import warnings\n",
    "warnings.filterwarnings('ignore')"
   ]
  },
  {
   "cell_type": "markdown",
   "id": "5a0e3731",
   "metadata": {},
   "source": [
    "## 0. 데이터 불러오기\n",
    "- D1_노인실태조사\n",
    "- D2_고령화연구패널"
   ]
  },
  {
   "cell_type": "code",
   "execution_count": 2,
   "id": "0da20323",
   "metadata": {},
   "outputs": [],
   "source": [
    "df1 = pd.read_csv('./D1_노인실태조사.csv')\n",
    "df2 = pd.read_csv('./D2_고령화연구패널.csv')"
   ]
  },
  {
   "cell_type": "markdown",
   "id": "bbf3b4f4",
   "metadata": {},
   "source": [
    "## 1. 데이터 전처리"
   ]
  },
  {
   "cell_type": "markdown",
   "id": "898981d4",
   "metadata": {},
   "source": [
    "- D1_노인실태조사"
   ]
  },
  {
   "cell_type": "code",
   "execution_count": 3,
   "id": "db0d17eb",
   "metadata": {},
   "outputs": [
    {
     "data": {
      "text/html": [
       "<div>\n",
       "<style scoped>\n",
       "    .dataframe tbody tr th:only-of-type {\n",
       "        vertical-align: middle;\n",
       "    }\n",
       "\n",
       "    .dataframe tbody tr th {\n",
       "        vertical-align: top;\n",
       "    }\n",
       "\n",
       "    .dataframe thead th {\n",
       "        text-align: right;\n",
       "    }\n",
       "</style>\n",
       "<table border=\"1\" class=\"dataframe\">\n",
       "  <thead>\n",
       "    <tr style=\"text-align: right;\">\n",
       "      <th></th>\n",
       "      <th>연령</th>\n",
       "      <th>혼인상태</th>\n",
       "      <th>동거인수</th>\n",
       "      <th>교육수준</th>\n",
       "      <th>경제상태 만족도</th>\n",
       "      <th>삶 만족도</th>\n",
       "      <th>희망 노인일자리</th>\n",
       "    </tr>\n",
       "  </thead>\n",
       "  <tbody>\n",
       "    <tr>\n",
       "      <th>0</th>\n",
       "      <td>67</td>\n",
       "      <td>1</td>\n",
       "      <td>1</td>\n",
       "      <td>4</td>\n",
       "      <td>3</td>\n",
       "      <td>3</td>\n",
       "      <td>1</td>\n",
       "    </tr>\n",
       "    <tr>\n",
       "      <th>1</th>\n",
       "      <td>68</td>\n",
       "      <td>3</td>\n",
       "      <td>1</td>\n",
       "      <td>2</td>\n",
       "      <td>3</td>\n",
       "      <td>2</td>\n",
       "      <td>1</td>\n",
       "    </tr>\n",
       "    <tr>\n",
       "      <th>2</th>\n",
       "      <td>66</td>\n",
       "      <td>2</td>\n",
       "      <td>2</td>\n",
       "      <td>5</td>\n",
       "      <td>3</td>\n",
       "      <td>3</td>\n",
       "      <td>1</td>\n",
       "    </tr>\n",
       "    <tr>\n",
       "      <th>3</th>\n",
       "      <td>66</td>\n",
       "      <td>2</td>\n",
       "      <td>2</td>\n",
       "      <td>5</td>\n",
       "      <td>3</td>\n",
       "      <td>3</td>\n",
       "      <td>9</td>\n",
       "    </tr>\n",
       "    <tr>\n",
       "      <th>4</th>\n",
       "      <td>68</td>\n",
       "      <td>3</td>\n",
       "      <td>1</td>\n",
       "      <td>3</td>\n",
       "      <td>4</td>\n",
       "      <td>3</td>\n",
       "      <td>3</td>\n",
       "    </tr>\n",
       "    <tr>\n",
       "      <th>...</th>\n",
       "      <td>...</td>\n",
       "      <td>...</td>\n",
       "      <td>...</td>\n",
       "      <td>...</td>\n",
       "      <td>...</td>\n",
       "      <td>...</td>\n",
       "      <td>...</td>\n",
       "    </tr>\n",
       "    <tr>\n",
       "      <th>10092</th>\n",
       "      <td>66</td>\n",
       "      <td>3</td>\n",
       "      <td>2</td>\n",
       "      <td>3</td>\n",
       "      <td>4</td>\n",
       "      <td>4</td>\n",
       "      <td>9</td>\n",
       "    </tr>\n",
       "    <tr>\n",
       "      <th>10093</th>\n",
       "      <td>68</td>\n",
       "      <td>3</td>\n",
       "      <td>2</td>\n",
       "      <td>3</td>\n",
       "      <td>3</td>\n",
       "      <td>3</td>\n",
       "      <td>9</td>\n",
       "    </tr>\n",
       "    <tr>\n",
       "      <th>10094</th>\n",
       "      <td>67</td>\n",
       "      <td>3</td>\n",
       "      <td>2</td>\n",
       "      <td>3</td>\n",
       "      <td>2</td>\n",
       "      <td>2</td>\n",
       "      <td>9</td>\n",
       "    </tr>\n",
       "    <tr>\n",
       "      <th>10095</th>\n",
       "      <td>66</td>\n",
       "      <td>2</td>\n",
       "      <td>2</td>\n",
       "      <td>5</td>\n",
       "      <td>1</td>\n",
       "      <td>2</td>\n",
       "      <td>9</td>\n",
       "    </tr>\n",
       "    <tr>\n",
       "      <th>10096</th>\n",
       "      <td>68</td>\n",
       "      <td>2</td>\n",
       "      <td>3</td>\n",
       "      <td>4</td>\n",
       "      <td>2</td>\n",
       "      <td>3</td>\n",
       "      <td>9</td>\n",
       "    </tr>\n",
       "  </tbody>\n",
       "</table>\n",
       "<p>10097 rows × 7 columns</p>\n",
       "</div>"
      ],
      "text/plain": [
       "       연령  혼인상태  동거인수  교육수준  경제상태 만족도  삶 만족도  희망 노인일자리\n",
       "0      67     1     1     4         3      3         1\n",
       "1      68     3     1     2         3      2         1\n",
       "2      66     2     2     5         3      3         1\n",
       "3      66     2     2     5         3      3         9\n",
       "4      68     3     1     3         4      3         3\n",
       "...    ..   ...   ...   ...       ...    ...       ...\n",
       "10092  66     3     2     3         4      4         9\n",
       "10093  68     3     2     3         3      3         9\n",
       "10094  67     3     2     3         2      2         9\n",
       "10095  66     2     2     5         1      2         9\n",
       "10096  68     2     3     4         2      3         9\n",
       "\n",
       "[10097 rows x 7 columns]"
      ]
     },
     "execution_count": 3,
     "metadata": {},
     "output_type": "execute_result"
    }
   ],
   "source": [
    "df1 = df1[['RES_AGE', 'RES_MAR', 'S5_1', 'RES_EDU1', 'H16_2', 'H16_7', 'E5_1']]\n",
    "df1.columns = ['연령', '혼인상태', '동거인수', '교육수준', '경제상태 만족도', '삶 만족도', '희망 노인일자리']\n",
    "\n",
    "# 혼인상태 - 1미혼 2기혼 3사별 4이혼 5별거 6기타\n",
    "# 교육수준 - 0미취학 1무학(글자 모름) 2무학(글자 해독) 3초등학교 4중학교 5고등학교 6대학교 7대학교이상 9비해당\n",
    "# 경제상태 만족도/삶 만족도 - 1매우만족함 2만족함 3그저그렇다 4만족하지않음 5전혀만족하지않음 9비해당\n",
    "\n",
    "### 희망 노인일자리(y값) ### 1공익형 2시장형 3취업형 4재능나눔형 5사회서비스형 9비해당\n",
    "\n",
    "df1"
   ]
  },
  {
   "cell_type": "code",
   "execution_count": 4,
   "id": "6d292f87",
   "metadata": {},
   "outputs": [],
   "source": [
    "# 결측치 처리 - 혼인상태6, 교육수준9, 경제상태 만족도9, 삶 만족도9, 희망 노인일자리9 제거\n",
    "df1 = df1[(df1['혼인상태'] != 6) & (df1['교육수준'] != 9) &\n",
    "          (df1['경제상태 만족도'] != 9) & (df1['삶 만족도'] != 9) &\n",
    "          (df1['희망 노인일자리'] != 9)]"
   ]
  },
  {
   "cell_type": "code",
   "execution_count": 5,
   "id": "f2006a44",
   "metadata": {},
   "outputs": [
    {
     "data": {
      "text/html": [
       "<div>\n",
       "<style scoped>\n",
       "    .dataframe tbody tr th:only-of-type {\n",
       "        vertical-align: middle;\n",
       "    }\n",
       "\n",
       "    .dataframe tbody tr th {\n",
       "        vertical-align: top;\n",
       "    }\n",
       "\n",
       "    .dataframe thead th {\n",
       "        text-align: right;\n",
       "    }\n",
       "</style>\n",
       "<table border=\"1\" class=\"dataframe\">\n",
       "  <thead>\n",
       "    <tr style=\"text-align: right;\">\n",
       "      <th></th>\n",
       "      <th>연령</th>\n",
       "      <th>혼인상태</th>\n",
       "      <th>동거인수</th>\n",
       "      <th>교육수준</th>\n",
       "      <th>경제상태 만족도</th>\n",
       "      <th>삶 만족도</th>\n",
       "    </tr>\n",
       "    <tr>\n",
       "      <th>희망 노인일자리</th>\n",
       "      <th></th>\n",
       "      <th></th>\n",
       "      <th></th>\n",
       "      <th></th>\n",
       "      <th></th>\n",
       "      <th></th>\n",
       "    </tr>\n",
       "  </thead>\n",
       "  <tbody>\n",
       "    <tr>\n",
       "      <th>1</th>\n",
       "      <td>1294</td>\n",
       "      <td>1294</td>\n",
       "      <td>1294</td>\n",
       "      <td>1294</td>\n",
       "      <td>1294</td>\n",
       "      <td>1294</td>\n",
       "    </tr>\n",
       "    <tr>\n",
       "      <th>2</th>\n",
       "      <td>199</td>\n",
       "      <td>199</td>\n",
       "      <td>199</td>\n",
       "      <td>199</td>\n",
       "      <td>199</td>\n",
       "      <td>199</td>\n",
       "    </tr>\n",
       "    <tr>\n",
       "      <th>3</th>\n",
       "      <td>268</td>\n",
       "      <td>268</td>\n",
       "      <td>268</td>\n",
       "      <td>268</td>\n",
       "      <td>268</td>\n",
       "      <td>268</td>\n",
       "    </tr>\n",
       "    <tr>\n",
       "      <th>4</th>\n",
       "      <td>123</td>\n",
       "      <td>123</td>\n",
       "      <td>123</td>\n",
       "      <td>123</td>\n",
       "      <td>123</td>\n",
       "      <td>123</td>\n",
       "    </tr>\n",
       "    <tr>\n",
       "      <th>5</th>\n",
       "      <td>209</td>\n",
       "      <td>209</td>\n",
       "      <td>209</td>\n",
       "      <td>209</td>\n",
       "      <td>209</td>\n",
       "      <td>209</td>\n",
       "    </tr>\n",
       "  </tbody>\n",
       "</table>\n",
       "</div>"
      ],
      "text/plain": [
       "            연령  혼인상태  동거인수  교육수준  경제상태 만족도  삶 만족도\n",
       "희망 노인일자리                                         \n",
       "1         1294  1294  1294  1294      1294   1294\n",
       "2          199   199   199   199       199    199\n",
       "3          268   268   268   268       268    268\n",
       "4          123   123   123   123       123    123\n",
       "5          209   209   209   209       209    209"
      ]
     },
     "execution_count": 5,
     "metadata": {},
     "output_type": "execute_result"
    }
   ],
   "source": [
    "df1.groupby('희망 노인일자리').count()"
   ]
  },
  {
   "cell_type": "markdown",
   "id": "0bc96552",
   "metadata": {},
   "source": [
    "- D2_고령화연구패널"
   ]
  },
  {
   "cell_type": "code",
   "execution_count": 6,
   "id": "daf6a6ce",
   "metadata": {},
   "outputs": [
    {
     "data": {
      "text/html": [
       "<div>\n",
       "<style scoped>\n",
       "    .dataframe tbody tr th:only-of-type {\n",
       "        vertical-align: middle;\n",
       "    }\n",
       "\n",
       "    .dataframe tbody tr th {\n",
       "        vertical-align: top;\n",
       "    }\n",
       "\n",
       "    .dataframe thead th {\n",
       "        text-align: right;\n",
       "    }\n",
       "</style>\n",
       "<table border=\"1\" class=\"dataframe\">\n",
       "  <thead>\n",
       "    <tr style=\"text-align: right;\">\n",
       "      <th></th>\n",
       "      <th>연령</th>\n",
       "      <th>혼인상태</th>\n",
       "      <th>동거인수</th>\n",
       "      <th>교육수준</th>\n",
       "      <th>경제상태 만족도</th>\n",
       "      <th>삶 만족도</th>\n",
       "    </tr>\n",
       "  </thead>\n",
       "  <tbody>\n",
       "    <tr>\n",
       "      <th>0</th>\n",
       "      <td>87</td>\n",
       "      <td>4</td>\n",
       "      <td>1</td>\n",
       "      <td>2</td>\n",
       "      <td>60</td>\n",
       "      <td>70</td>\n",
       "    </tr>\n",
       "    <tr>\n",
       "      <th>1</th>\n",
       "      <td>65</td>\n",
       "      <td>1</td>\n",
       "      <td>4</td>\n",
       "      <td>4</td>\n",
       "      <td>40</td>\n",
       "      <td>30</td>\n",
       "    </tr>\n",
       "    <tr>\n",
       "      <th>2</th>\n",
       "      <td>66</td>\n",
       "      <td>1</td>\n",
       "      <td>4</td>\n",
       "      <td>4</td>\n",
       "      <td>50</td>\n",
       "      <td>60</td>\n",
       "    </tr>\n",
       "    <tr>\n",
       "      <th>3</th>\n",
       "      <td>84</td>\n",
       "      <td>1</td>\n",
       "      <td>2</td>\n",
       "      <td>1</td>\n",
       "      <td>60</td>\n",
       "      <td>60</td>\n",
       "    </tr>\n",
       "    <tr>\n",
       "      <th>4</th>\n",
       "      <td>85</td>\n",
       "      <td>1</td>\n",
       "      <td>2</td>\n",
       "      <td>3</td>\n",
       "      <td>60</td>\n",
       "      <td>60</td>\n",
       "    </tr>\n",
       "    <tr>\n",
       "      <th>...</th>\n",
       "      <td>...</td>\n",
       "      <td>...</td>\n",
       "      <td>...</td>\n",
       "      <td>...</td>\n",
       "      <td>...</td>\n",
       "      <td>...</td>\n",
       "    </tr>\n",
       "    <tr>\n",
       "      <th>5712</th>\n",
       "      <td>88</td>\n",
       "      <td>4</td>\n",
       "      <td>1</td>\n",
       "      <td>1</td>\n",
       "      <td>30</td>\n",
       "      <td>50</td>\n",
       "    </tr>\n",
       "    <tr>\n",
       "      <th>5713</th>\n",
       "      <td>82</td>\n",
       "      <td>4</td>\n",
       "      <td>1</td>\n",
       "      <td>1</td>\n",
       "      <td>30</td>\n",
       "      <td>50</td>\n",
       "    </tr>\n",
       "    <tr>\n",
       "      <th>5714</th>\n",
       "      <td>83</td>\n",
       "      <td>4</td>\n",
       "      <td>1</td>\n",
       "      <td>1</td>\n",
       "      <td>50</td>\n",
       "      <td>50</td>\n",
       "    </tr>\n",
       "    <tr>\n",
       "      <th>5715</th>\n",
       "      <td>93</td>\n",
       "      <td>4</td>\n",
       "      <td>1</td>\n",
       "      <td>1</td>\n",
       "      <td>50</td>\n",
       "      <td>80</td>\n",
       "    </tr>\n",
       "    <tr>\n",
       "      <th>5716</th>\n",
       "      <td>89</td>\n",
       "      <td>4</td>\n",
       "      <td>1</td>\n",
       "      <td>1</td>\n",
       "      <td>50</td>\n",
       "      <td>50</td>\n",
       "    </tr>\n",
       "  </tbody>\n",
       "</table>\n",
       "<p>5717 rows × 6 columns</p>\n",
       "</div>"
      ],
      "text/plain": [
       "      연령  혼인상태  동거인수  교육수준  경제상태 만족도  삶 만족도\n",
       "0     87     4     1     2        60     70\n",
       "1     65     1     4     4        40     30\n",
       "2     66     1     4     4        50     60\n",
       "3     84     1     2     1        60     60\n",
       "4     85     1     2     3        60     60\n",
       "...   ..   ...   ...   ...       ...    ...\n",
       "5712  88     4     1     1        30     50\n",
       "5713  82     4     1     1        30     50\n",
       "5714  83     4     1     1        50     50\n",
       "5715  93     4     1     1        50     80\n",
       "5716  89     4     1     1        50     50\n",
       "\n",
       "[5717 rows x 6 columns]"
      ]
     },
     "execution_count": 6,
     "metadata": {},
     "output_type": "execute_result"
    }
   ],
   "source": [
    "df2 = df2[['w08A002_age', 'w08marital', 'w08hhsize', 'w08edu', 'w08G027', 'w08G030']]\n",
    "df2.columns = ['연령', '혼인상태', '동거인수', '교육수준', '경제상태 만족도', '삶 만족도']\n",
    "\n",
    "# 혼인상태 - 1혼인중 2별거 3이혼 4사별또는실종 5결혼한적없음\n",
    "# 교육수준 - 1초졸이하 2중졸 3고졸 4대졸이상\n",
    "# 경제상태 만족도/삶 만족도 - 0 10 20 ... 90 100 -9비해당\n",
    "\n",
    "df2"
   ]
  },
  {
   "cell_type": "code",
   "execution_count": 7,
   "id": "babdeaeb",
   "metadata": {},
   "outputs": [],
   "source": [
    "# 결측치 처리 - 경제상태 만족도-9, 삶 만족도-9 제거\n",
    "df2 = df2[(df2['경제상태 만족도'] != -9) & (df2['삶 만족도'] != -9)]"
   ]
  },
  {
   "cell_type": "markdown",
   "id": "1c5f9237",
   "metadata": {},
   "source": [
    "- D1, D2 데이터값 맞추기"
   ]
  },
  {
   "cell_type": "code",
   "execution_count": 8,
   "id": "58ff968f",
   "metadata": {},
   "outputs": [],
   "source": [
    "# D1\n",
    "# 혼인상태 - 1미혼 3사별 4이혼 5별거 -> 0 / 2기혼 -> 1로 변경\n",
    "df1['혼인상태'] = df1['혼인상태'].replace([1, 3, 4, 5], 0)\n",
    "df1['혼인상태'] = df1['혼인상태'].replace(2, 1)\n",
    "\n",
    "# 교육수준 - 0미취학 1무학(글자 모름) 2무학(글자 해독) 3초등학교 -> 1 / 4중학교 -> 2 / 5고등학교 -> 3 / 6대학교 7대학교이상 -> 4로 변경\n",
    "df1['교육수준'] = df1['교육수준'].replace([0, 1, 2, 3], 1)\n",
    "df1['교육수준'] = df1['교육수준'].replace(4, 2)\n",
    "df1['교육수준'] = df1['교육수준'].replace(5, 3)\n",
    "df1['교육수준'] = df1['교육수준'].replace([6, 7], 4)"
   ]
  },
  {
   "cell_type": "code",
   "execution_count": 9,
   "id": "5b106ea1",
   "metadata": {},
   "outputs": [],
   "source": [
    "# D2\n",
    "# 혼인상태 - 2별거 3이혼 4사별또는실종 5결혼한적없음 -> 0으로 변경\n",
    "df2['혼인상태'] = df2['혼인상태'].replace([2, 3, 4, 5], 0)\n",
    "\n",
    "# 경제상태 만족도 - 0 10 -> 5 / 20 30 -> 4 / 40 50 -> 3 / 60 70 80 -> 2 / 90 100 ->1로 변경\n",
    "df2['경제상태 만족도'] = df2['경제상태 만족도'].replace([0, 10], 5)\n",
    "df2['경제상태 만족도'] = df2['경제상태 만족도'].replace([20, 30], 4)\n",
    "df2['경제상태 만족도'] = df2['경제상태 만족도'].replace([40, 50], 3)\n",
    "df2['경제상태 만족도'] = df2['경제상태 만족도'].replace([60, 70, 80], 2)\n",
    "df2['경제상태 만족도'] = df2['경제상태 만족도'].replace([90, 100], 1)\n",
    "\n",
    "# 삶 만족도 - 0 10 -> 5 / 20 30 -> 4 / 40 50 -> 3 / 60 70 80 -> 2 / 90 100 ->1로 변경\n",
    "df2['삶 만족도'] = df2['삶 만족도'].replace([0, 10], 5)\n",
    "df2['삶 만족도'] = df2['삶 만족도'].replace([20, 30], 4)\n",
    "df2['삶 만족도'] = df2['삶 만족도'].replace([40, 50], 3)\n",
    "df2['삶 만족도'] = df2['삶 만족도'].replace([60, 70, 80], 2)\n",
    "df2['삶 만족도'] = df2['삶 만족도'].replace([90, 100], 1)"
   ]
  },
  {
   "cell_type": "markdown",
   "id": "beb7326f",
   "metadata": {},
   "source": [
    "## 2. D1_노인실태조사 데이터로 모델 생성"
   ]
  },
  {
   "cell_type": "markdown",
   "id": "68a8a0c8",
   "metadata": {},
   "source": [
    "### (1) 데이터 분리(Train/Test)"
   ]
  },
  {
   "cell_type": "code",
   "execution_count": 10,
   "id": "b937862a",
   "metadata": {},
   "outputs": [
    {
     "data": {
      "text/plain": [
       "((2093, 6), (2093,))"
      ]
     },
     "execution_count": 10,
     "metadata": {},
     "output_type": "execute_result"
    }
   ],
   "source": [
    "X = df1.iloc[:, :-1].values\n",
    "y = df1.iloc[:, -1].values\n",
    "X.shape, y.shape"
   ]
  },
  {
   "cell_type": "code",
   "execution_count": 11,
   "id": "941cf72a",
   "metadata": {
    "scrolled": true
   },
   "outputs": [
    {
     "data": {
      "text/plain": [
       "((1674, 6), (419, 6), (1674,), (419,))"
      ]
     },
     "execution_count": 11,
     "metadata": {},
     "output_type": "execute_result"
    }
   ],
   "source": [
    "from sklearn.model_selection import train_test_split\n",
    "X_train, X_test, y_train, y_test = train_test_split(X, y, stratify = y, test_size = 0.2)\n",
    "X_train.shape, X_test.shape, y_train.shape, y_test.shape"
   ]
  },
  {
   "cell_type": "markdown",
   "id": "b3518ca8",
   "metadata": {},
   "source": [
    "### (2) 앙상블 학습\n",
    "- LogisticRegression\n",
    "- RandomForest\n",
    "- SVM"
   ]
  },
  {
   "cell_type": "code",
   "execution_count": 12,
   "id": "ff29cb22",
   "metadata": {},
   "outputs": [],
   "source": [
    "# 개별 분류기 생성\n",
    "\n",
    "from sklearn.linear_model import LogisticRegression\n",
    "from sklearn.ensemble import RandomForestClassifier\n",
    "from sklearn.svm import SVC\n",
    "\n",
    "lrc = LogisticRegression()\n",
    "rf = RandomForestClassifier()\n",
    "svc = SVC()"
   ]
  },
  {
   "cell_type": "code",
   "execution_count": 13,
   "id": "cc114c2c",
   "metadata": {},
   "outputs": [
    {
     "data": {
      "text/plain": [
       "(0.6205250596658711, 0.5322195704057279, 0.6181384248210023)"
      ]
     },
     "execution_count": 13,
     "metadata": {},
     "output_type": "execute_result"
    }
   ],
   "source": [
    "# 개별 분류기 성능 확인\n",
    "lrc.fit(X_train, y_train)\n",
    "rf.fit(X_train, y_train)\n",
    "svc.fit(X_train, y_train)\n",
    "lrc.score(X_test, y_test), rf.score(X_test, y_test), svc.score(X_test, y_test)"
   ]
  },
  {
   "cell_type": "code",
   "execution_count": 14,
   "id": "50471af1",
   "metadata": {},
   "outputs": [],
   "source": [
    "# Hard Voting을 위한 앙상블 분류기 생성\n",
    "from sklearn.ensemble import VotingClassifier\n",
    "voc = VotingClassifier([('LRC', lrc), ('RF', rf), ('SVC', svc)], voting='hard')"
   ]
  },
  {
   "cell_type": "code",
   "execution_count": 15,
   "id": "b4a2790f",
   "metadata": {},
   "outputs": [
    {
     "data": {
      "text/plain": [
       "0.6205250596658711"
      ]
     },
     "execution_count": 15,
     "metadata": {},
     "output_type": "execute_result"
    }
   ],
   "source": [
    "# 앙상블 분류기 성능 확인\n",
    "voc.fit(X_train, y_train)\n",
    "voc.score(X_test, y_test)"
   ]
  },
  {
   "cell_type": "markdown",
   "id": "58d47b4a",
   "metadata": {},
   "source": [
    "### (3) GridSearchCV"
   ]
  },
  {
   "cell_type": "code",
   "execution_count": 39,
   "id": "4b8caf27",
   "metadata": {},
   "outputs": [],
   "source": [
    "params = {'LRC__C': [0.1, 1, 10],\n",
    "          'RF__min_samples_split': [2, 4, 6, 8],\n",
    "          'SVC__C': [0.1, 1, 10]}"
   ]
  },
  {
   "cell_type": "code",
   "execution_count": 40,
   "id": "476a90a6",
   "metadata": {},
   "outputs": [],
   "source": [
    "from sklearn.model_selection import GridSearchCV\n",
    "grid_voc = GridSearchCV(voc, params, scoring='accuracy', cv=5)"
   ]
  },
  {
   "cell_type": "code",
   "execution_count": 41,
   "id": "382902e1",
   "metadata": {},
   "outputs": [
    {
     "name": "stdout",
     "output_type": "stream",
     "text": [
      "CPU times: user 25 s, sys: 209 ms, total: 25.2 s\n",
      "Wall time: 25.2 s\n"
     ]
    },
    {
     "data": {
      "text/plain": [
       "GridSearchCV(cv=5,\n",
       "             estimator=VotingClassifier(estimators=[('LRC',\n",
       "                                                     LogisticRegression()),\n",
       "                                                    ('RF',\n",
       "                                                     RandomForestClassifier()),\n",
       "                                                    ('SVC', SVC())]),\n",
       "             param_grid={'LRC__C': [0.1, 1, 10],\n",
       "                         'RF__min_samples_split': [2, 4, 6, 8],\n",
       "                         'SVC__C': [0.1, 1, 10]},\n",
       "             scoring='accuracy')"
      ]
     },
     "execution_count": 41,
     "metadata": {},
     "output_type": "execute_result"
    }
   ],
   "source": [
    "%time grid_voc.fit(X_train, y_train)"
   ]
  },
  {
   "cell_type": "code",
   "execution_count": 42,
   "id": "8f49a34c",
   "metadata": {},
   "outputs": [
    {
     "data": {
      "text/plain": [
       "{'LRC__C': 0.1, 'RF__min_samples_split': 2, 'SVC__C': 0.1}"
      ]
     },
     "execution_count": 42,
     "metadata": {},
     "output_type": "execute_result"
    }
   ],
   "source": [
    "grid_voc.best_params_"
   ]
  },
  {
   "cell_type": "code",
   "execution_count": 43,
   "id": "c0bd4848",
   "metadata": {},
   "outputs": [],
   "source": [
    "params = {'LRC__C': [0.01, 0.05, 0.1, 0.2],\n",
    "          'RF__min_samples_split': [2, 3, 4],\n",
    "          'SVC__C': [0.01, 0.05, 0.1, 0.2]}"
   ]
  },
  {
   "cell_type": "code",
   "execution_count": 44,
   "id": "a5bf04e8",
   "metadata": {},
   "outputs": [
    {
     "data": {
      "text/plain": [
       "{'LRC__C': 0.1, 'RF__min_samples_split': 2, 'SVC__C': 0.1}"
      ]
     },
     "execution_count": 44,
     "metadata": {},
     "output_type": "execute_result"
    }
   ],
   "source": [
    "grid_voc.best_params_"
   ]
  },
  {
   "cell_type": "code",
   "execution_count": 45,
   "id": "a12f1294",
   "metadata": {},
   "outputs": [
    {
     "data": {
      "text/plain": [
       "0.6205250596658711"
      ]
     },
     "execution_count": 45,
     "metadata": {},
     "output_type": "execute_result"
    }
   ],
   "source": [
    "best_voc = grid_voc.best_estimator_\n",
    "best_voc.score(X_test, y_test)"
   ]
  },
  {
   "cell_type": "markdown",
   "id": "7bd80535",
   "metadata": {},
   "source": [
    "## 3. D2_고령화패널 데이터를 모델에 적용"
   ]
  },
  {
   "cell_type": "code",
   "execution_count": 46,
   "id": "1157b89e",
   "metadata": {},
   "outputs": [
    {
     "data": {
      "text/plain": [
       "(5716, 6)"
      ]
     },
     "execution_count": 46,
     "metadata": {},
     "output_type": "execute_result"
    }
   ],
   "source": [
    "X_train_2 = df2.values\n",
    "X_train_2.shape"
   ]
  },
  {
   "cell_type": "code",
   "execution_count": 47,
   "id": "a1ff005c",
   "metadata": {},
   "outputs": [
    {
     "data": {
      "text/html": [
       "<div>\n",
       "<style scoped>\n",
       "    .dataframe tbody tr th:only-of-type {\n",
       "        vertical-align: middle;\n",
       "    }\n",
       "\n",
       "    .dataframe tbody tr th {\n",
       "        vertical-align: top;\n",
       "    }\n",
       "\n",
       "    .dataframe thead th {\n",
       "        text-align: right;\n",
       "    }\n",
       "</style>\n",
       "<table border=\"1\" class=\"dataframe\">\n",
       "  <thead>\n",
       "    <tr style=\"text-align: right;\">\n",
       "      <th></th>\n",
       "      <th>연령</th>\n",
       "      <th>혼인상태</th>\n",
       "      <th>동거인수</th>\n",
       "      <th>교육수준</th>\n",
       "      <th>경제상태 만족도</th>\n",
       "      <th>삶 만족도</th>\n",
       "      <th>희망 노인일자리 예측</th>\n",
       "    </tr>\n",
       "  </thead>\n",
       "  <tbody>\n",
       "    <tr>\n",
       "      <th>0</th>\n",
       "      <td>87</td>\n",
       "      <td>0</td>\n",
       "      <td>1</td>\n",
       "      <td>2</td>\n",
       "      <td>2</td>\n",
       "      <td>2</td>\n",
       "      <td>1</td>\n",
       "    </tr>\n",
       "    <tr>\n",
       "      <th>1</th>\n",
       "      <td>65</td>\n",
       "      <td>1</td>\n",
       "      <td>4</td>\n",
       "      <td>4</td>\n",
       "      <td>3</td>\n",
       "      <td>4</td>\n",
       "      <td>1</td>\n",
       "    </tr>\n",
       "    <tr>\n",
       "      <th>2</th>\n",
       "      <td>66</td>\n",
       "      <td>1</td>\n",
       "      <td>4</td>\n",
       "      <td>4</td>\n",
       "      <td>3</td>\n",
       "      <td>2</td>\n",
       "      <td>1</td>\n",
       "    </tr>\n",
       "    <tr>\n",
       "      <th>3</th>\n",
       "      <td>84</td>\n",
       "      <td>1</td>\n",
       "      <td>2</td>\n",
       "      <td>1</td>\n",
       "      <td>2</td>\n",
       "      <td>2</td>\n",
       "      <td>1</td>\n",
       "    </tr>\n",
       "    <tr>\n",
       "      <th>4</th>\n",
       "      <td>85</td>\n",
       "      <td>1</td>\n",
       "      <td>2</td>\n",
       "      <td>3</td>\n",
       "      <td>2</td>\n",
       "      <td>2</td>\n",
       "      <td>1</td>\n",
       "    </tr>\n",
       "    <tr>\n",
       "      <th>...</th>\n",
       "      <td>...</td>\n",
       "      <td>...</td>\n",
       "      <td>...</td>\n",
       "      <td>...</td>\n",
       "      <td>...</td>\n",
       "      <td>...</td>\n",
       "      <td>...</td>\n",
       "    </tr>\n",
       "    <tr>\n",
       "      <th>5712</th>\n",
       "      <td>88</td>\n",
       "      <td>0</td>\n",
       "      <td>1</td>\n",
       "      <td>1</td>\n",
       "      <td>4</td>\n",
       "      <td>3</td>\n",
       "      <td>1</td>\n",
       "    </tr>\n",
       "    <tr>\n",
       "      <th>5713</th>\n",
       "      <td>82</td>\n",
       "      <td>0</td>\n",
       "      <td>1</td>\n",
       "      <td>1</td>\n",
       "      <td>4</td>\n",
       "      <td>3</td>\n",
       "      <td>1</td>\n",
       "    </tr>\n",
       "    <tr>\n",
       "      <th>5714</th>\n",
       "      <td>83</td>\n",
       "      <td>0</td>\n",
       "      <td>1</td>\n",
       "      <td>1</td>\n",
       "      <td>3</td>\n",
       "      <td>3</td>\n",
       "      <td>1</td>\n",
       "    </tr>\n",
       "    <tr>\n",
       "      <th>5715</th>\n",
       "      <td>93</td>\n",
       "      <td>0</td>\n",
       "      <td>1</td>\n",
       "      <td>1</td>\n",
       "      <td>3</td>\n",
       "      <td>2</td>\n",
       "      <td>1</td>\n",
       "    </tr>\n",
       "    <tr>\n",
       "      <th>5716</th>\n",
       "      <td>89</td>\n",
       "      <td>0</td>\n",
       "      <td>1</td>\n",
       "      <td>1</td>\n",
       "      <td>3</td>\n",
       "      <td>3</td>\n",
       "      <td>1</td>\n",
       "    </tr>\n",
       "  </tbody>\n",
       "</table>\n",
       "<p>5716 rows × 7 columns</p>\n",
       "</div>"
      ],
      "text/plain": [
       "      연령  혼인상태  동거인수  교육수준  경제상태 만족도  삶 만족도  희망 노인일자리 예측\n",
       "0     87     0     1     2         2      2            1\n",
       "1     65     1     4     4         3      4            1\n",
       "2     66     1     4     4         3      2            1\n",
       "3     84     1     2     1         2      2            1\n",
       "4     85     1     2     3         2      2            1\n",
       "...   ..   ...   ...   ...       ...    ...          ...\n",
       "5712  88     0     1     1         4      3            1\n",
       "5713  82     0     1     1         4      3            1\n",
       "5714  83     0     1     1         3      3            1\n",
       "5715  93     0     1     1         3      2            1\n",
       "5716  89     0     1     1         3      3            1\n",
       "\n",
       "[5716 rows x 7 columns]"
      ]
     },
     "execution_count": 47,
     "metadata": {},
     "output_type": "execute_result"
    }
   ],
   "source": [
    "df2['희망 노인일자리 예측'] = best_voc.predict(X_train_2)\n",
    "df2"
   ]
  },
  {
   "cell_type": "code",
   "execution_count": 48,
   "id": "bf0c1a23",
   "metadata": {},
   "outputs": [
    {
     "data": {
      "text/html": [
       "<div>\n",
       "<style scoped>\n",
       "    .dataframe tbody tr th:only-of-type {\n",
       "        vertical-align: middle;\n",
       "    }\n",
       "\n",
       "    .dataframe tbody tr th {\n",
       "        vertical-align: top;\n",
       "    }\n",
       "\n",
       "    .dataframe thead th {\n",
       "        text-align: right;\n",
       "    }\n",
       "</style>\n",
       "<table border=\"1\" class=\"dataframe\">\n",
       "  <thead>\n",
       "    <tr style=\"text-align: right;\">\n",
       "      <th></th>\n",
       "      <th>연령</th>\n",
       "      <th>혼인상태</th>\n",
       "      <th>동거인수</th>\n",
       "      <th>교육수준</th>\n",
       "      <th>경제상태 만족도</th>\n",
       "      <th>삶 만족도</th>\n",
       "    </tr>\n",
       "    <tr>\n",
       "      <th>희망 노인일자리 예측</th>\n",
       "      <th></th>\n",
       "      <th></th>\n",
       "      <th></th>\n",
       "      <th></th>\n",
       "      <th></th>\n",
       "      <th></th>\n",
       "    </tr>\n",
       "  </thead>\n",
       "  <tbody>\n",
       "    <tr>\n",
       "      <th>1</th>\n",
       "      <td>5685</td>\n",
       "      <td>5685</td>\n",
       "      <td>5685</td>\n",
       "      <td>5685</td>\n",
       "      <td>5685</td>\n",
       "      <td>5685</td>\n",
       "    </tr>\n",
       "    <tr>\n",
       "      <th>4</th>\n",
       "      <td>29</td>\n",
       "      <td>29</td>\n",
       "      <td>29</td>\n",
       "      <td>29</td>\n",
       "      <td>29</td>\n",
       "      <td>29</td>\n",
       "    </tr>\n",
       "    <tr>\n",
       "      <th>5</th>\n",
       "      <td>2</td>\n",
       "      <td>2</td>\n",
       "      <td>2</td>\n",
       "      <td>2</td>\n",
       "      <td>2</td>\n",
       "      <td>2</td>\n",
       "    </tr>\n",
       "  </tbody>\n",
       "</table>\n",
       "</div>"
      ],
      "text/plain": [
       "               연령  혼인상태  동거인수  교육수준  경제상태 만족도  삶 만족도\n",
       "희망 노인일자리 예측                                         \n",
       "1            5685  5685  5685  5685      5685   5685\n",
       "4              29    29    29    29        29     29\n",
       "5               2     2     2     2         2      2"
      ]
     },
     "execution_count": 48,
     "metadata": {},
     "output_type": "execute_result"
    }
   ],
   "source": [
    "df2.groupby('희망 노인일자리 예측').count()"
   ]
  }
 ],
 "metadata": {
  "kernelspec": {
   "display_name": "Python 3 (ipykernel)",
   "language": "python",
   "name": "python3"
  },
  "language_info": {
   "codemirror_mode": {
    "name": "ipython",
    "version": 3
   },
   "file_extension": ".py",
   "mimetype": "text/x-python",
   "name": "python",
   "nbconvert_exporter": "python",
   "pygments_lexer": "ipython3",
   "version": "3.9.11"
  }
 },
 "nbformat": 4,
 "nbformat_minor": 5
}
